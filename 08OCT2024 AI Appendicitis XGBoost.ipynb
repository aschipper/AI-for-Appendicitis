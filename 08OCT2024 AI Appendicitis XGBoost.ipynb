{
 "cells": [
  {
   "cell_type": "markdown",
   "metadata": {
    "id": "TZ-PuwoyX4qQ"
   },
   "source": [
    "# Appendicitis Classification"
   ]
  },
  {
   "cell_type": "markdown",
   "metadata": {
    "id": "ZEnMK4DRNV1O"
   },
   "source": [
    "<a name='1'></a>\n",
    "# 1 - Setup and Imports"
   ]
  },
  {
   "cell_type": "code",
   "execution_count": 1,
   "metadata": {
    "id": "zrLPRsQgImel",
    "tags": [
     "graded"
    ]
   },
   "outputs": [],
   "source": [
    "# Import packages\n",
    "import os\n",
    "import numpy as np\n",
    "import pandas as pd\n",
    "import matplotlib.pyplot as plt\n",
    "import plotly.graph_objects as go\n",
    "import seaborn as sns\n",
    "import category_encoders as ce\n",
    "\n",
    "import tempfile, urllib, zipfile\n",
    "import scipy\n",
    "\n",
    "from sklearn.model_selection import RepeatedStratifiedKFold, StratifiedKFold\n",
    "from collections import Counter\n",
    "from sklearn.model_selection import cross_validate\n",
    "from sklearn.model_selection import cross_val_score\n",
    "from sklearn.model_selection import train_test_split\n",
    "from sklearn.metrics import (\n",
    "    average_precision_score,\n",
    "    precision_recall_curve,\n",
    "    roc_auc_score,\n",
    "    roc_curve)\n",
    "import xgboost as xgb\n",
    "from tqdm.notebook import tqdm\n",
    "\n",
    "import pickle\n",
    "import pandoc\n",
    "import shap\n",
    "from scipy import stats\n",
    "from scipy.stats import chi2_contingency\n",
    "\n",
    "#Suppress pandas future warnings\n",
    "import warnings\n",
    "warnings.simplefilter(action='ignore', category=FutureWarning)\n"
   ]
  },
  {
   "cell_type": "code",
   "execution_count": 2,
   "metadata": {},
   "outputs": [
    {
     "data": {
      "text/plain": [
       "'2.0.3'"
      ]
     },
     "execution_count": 2,
     "metadata": {},
     "output_type": "execute_result"
    }
   ],
   "source": [
    "xgb.__version__"
   ]
  },
  {
   "cell_type": "markdown",
   "metadata": {
    "id": "5MizoHg1DRlK"
   },
   "source": [
    "<a name='2'></a>\n",
    "# 2 - Load the Dataset"
   ]
  },
  {
   "cell_type": "markdown",
   "metadata": {
    "id": "S2o2NGqIxc5e"
   },
   "source": [
    "<a name='2-1'></a>\n",
    "## 2.1 Read and Split the Dataset"
   ]
  },
  {
   "cell_type": "code",
   "execution_count": 13,
   "metadata": {
    "id": "YyO3RSuLF0Nf",
    "tags": [
     "graded"
    ]
   },
   "outputs": [],
   "source": [
    "# Read xlsx data into a dataframe and recognize the missing data that is encoded with '?' string as NaN\n",
    "df_appendicitis_PoC = pd.read_excel('C:/Users/anoes/OneDrive/Documents/Aanstelling RadboudUMC/07_SEH/03_Analyses/AI_Appendicitis_Dataset.xlsx')"
   ]
  },
  {
   "cell_type": "markdown",
   "metadata": {},
   "source": [
    "<a name='2-2'></a>\n",
    "## 2.2 Clean up data, select features, check for null values"
   ]
  },
  {
   "cell_type": "markdown",
   "metadata": {},
   "source": [
    "### 2.2.1 Drop features with considerable missingness"
   ]
  },
  {
   "cell_type": "code",
   "execution_count": 14,
   "metadata": {},
   "outputs": [
    {
     "name": "stdout",
     "output_type": "stream",
     "text": [
      "<class 'pandas.core.frame.DataFrame'>\n",
      "RangeIndex: 336 entries, 0 to 335\n",
      "Data columns (total 135 columns):\n",
      " #    Column                              Non-Null Count  Dtype  \n",
      "---   ------                              --------------  -----  \n",
      " 0    Unnamed: 0                          336 non-null    int64  \n",
      " 1    pseudo_id                           336 non-null    object \n",
      " 2    dataset                             336 non-null    object \n",
      " 3    defense musculaire                  336 non-null    object \n",
      " 4    abdomen drukpijn locatie            336 non-null    object \n",
      " 5    beloop klachten                     336 non-null    object \n",
      " 6    kortademig                          336 non-null    object \n",
      " 7    migratie                            336 non-null    object \n",
      " 8    ontstaan klachten                   336 non-null    object \n",
      " 9    ontlasting kleur                    336 non-null    object \n",
      " 10   psoas sign                          336 non-null    object \n",
      " 11   longen                              336 non-null    object \n",
      " 12   menstruatie afwijkend               336 non-null    object \n",
      " 13   inguinaal                           336 non-null    object \n",
      " 14   hernia                              336 non-null    object \n",
      " 15   buitenland geweest                  336 non-null    object \n",
      " 16   voorgeschiedenis                    336 non-null    object \n",
      " 17   ontlasting melaena                  336 non-null    object \n",
      " 18   pyrosis                             336 non-null    object \n",
      " 19   eetlust                             336 non-null    object \n",
      " 20   malaise klachten                    336 non-null    object \n",
      " 21   anticonceptie                       336 non-null    object \n",
      " 22   laatste ontlasting                  336 non-null    object \n",
      " 23   abdomen percussie                   336 non-null    object \n",
      " 24   klam of zweten                      336 non-null    object \n",
      " 25   aanwezigheid pijn                   336 non-null    object \n",
      " 26   opgezwollen buik (anamnese)         336 non-null    object \n",
      " 27   peritoneale prikkeling              336 non-null    object \n",
      " 28   mictie kleur                        336 non-null    object \n",
      " 29   misselijkheid                       336 non-null    object \n",
      " 30   koude rillingen                     336 non-null    object \n",
      " 31   mictie hematurie                    336 non-null    object \n",
      " 32   mictie dysurie                      336 non-null    object \n",
      " 33   abdomen percussie pijn              336 non-null    object \n",
      " 34   aard van de pijn                    336 non-null    object \n",
      " 35   hart                                336 non-null    object \n",
      " 36   na vettig eten                      336 non-null    object \n",
      " 37   podb                                336 non-null    object \n",
      " 38   ontlasting slijm                    336 non-null    object \n",
      " 39   stoma                               336 non-null    object \n",
      " 40   ontlasting consistentie             336 non-null    object \n",
      " 41   bewegingsdrang                      336 non-null    object \n",
      " 42   hoesten                             336 non-null    object \n",
      " 43   abdomen palpatie soepel             336 non-null    object \n",
      " 44   murphy's sign                       336 non-null    object \n",
      " 45   loslaatpijn                         336 non-null    object \n",
      " 46   zwangerschap                        336 non-null    object \n",
      " 47   uitstraling                         336 non-null    object \n",
      " 48   mictie pollakisurie                 336 non-null    object \n",
      " 49   omgeving klachten                   336 non-null    object \n",
      " 50   braken                              336 non-null    object \n",
      " 51   fluor                               336 non-null    object \n",
      " 52   braken bloed                        336 non-null    object \n",
      " 53   vervoerspijn                        336 non-null    object \n",
      " 54   bijgeluiden                         336 non-null    object \n",
      " 55   contralaterale loslaat-/drukpijn    336 non-null    object \n",
      " 56   locatie pijn                        336 non-null    object \n",
      " 57   mictie strangurie                   336 non-null    object \n",
      " 58   soa-risico                          336 non-null    object \n",
      " 59   koorts                              336 non-null    object \n",
      " 60   abdomen auscultatie karakter        336 non-null    object \n",
      " 61   slagpijn nierloges                  336 non-null    object \n",
      " 62   eerdere episode                     336 non-null    object \n",
      " 63   pijn beweging                       336 non-null    object \n",
      " 64   abdomen palpatie afwijkend          336 non-null    object \n",
      " 65   ontlasting bloed                    336 non-null    object \n",
      " 66   abdomen drukpijn locatie mcburney   336 non-null    object \n",
      " 67   familieanamnese relevant afwijkend  336 non-null    object \n",
      " 68   abdomen palpatie drukpijn           336 non-null    object \n",
      " 69   abdomen auscultatie aanwezigheid    336 non-null    object \n",
      " 70   abdomen inspectie                   336 non-null    object \n",
      " 71   ademhaling pijn                     336 non-null    object \n",
      " 72   eerdere diagnostiek                 336 non-null    object \n",
      " 73   na voedselinname                    336 non-null    object \n",
      " 74   duur klachten category              336 non-null    object \n",
      " 75   algemene indruk category            336 non-null    object \n",
      " 76   GT                                  336 non-null    object \n",
      " 77   GT_Categorization                   336 non-null    object \n",
      " 78   gender                              336 non-null    object \n",
      " 79   seh_age_at_time_of_event            336 non-null    int64  \n",
      " 80   vervoerder                          336 non-null    object \n",
      " 81   herkomst                            336 non-null    object \n",
      " 82   aantal_seh_bezoeken                 336 non-null    int64  \n",
      " 83   temperatuur                         333 non-null    float64\n",
      " 84   saturatie                           334 non-null    float64\n",
      " 85   sys_bp                              326 non-null    float64\n",
      " 86   dias_bp                             325 non-null    float64\n",
      " 87   map_bp                              316 non-null    float64\n",
      " 88   emv                                 103 non-null    float64\n",
      " 89   sirs                                189 non-null    float64\n",
      " 90   ademfrequentie                      132 non-null    float64\n",
      " 91   q_sofa                              201 non-null    float64\n",
      " 92   crp                                 331 non-null    float64\n",
      " 93   leucocyten                          335 non-null    float64\n",
      " 94   hb                                  335 non-null    float64\n",
      " 95   mcv                                 334 non-null    float64\n",
      " 96   erytrocieten                        334 non-null    float64\n",
      " 97   trombocyten                         335 non-null    float64\n",
      " 98   hematocriet                         335 non-null    float64\n",
      " 99   kreatinine                          296 non-null    float64\n",
      " 100  ureum                               290 non-null    float64\n",
      " 101  a_bilirubine_totaal                 288 non-null    float64\n",
      " 102  b_bilirubine_direct                 282 non-null    float64\n",
      " 103  alat                                285 non-null    float64\n",
      " 104  asat                                265 non-null    float64\n",
      " 105  alk_fosfatase                       282 non-null    float64\n",
      " 106  gamma_gt                            288 non-null    float64\n",
      " 107  lipase                              280 non-null    float64\n",
      " 108  natrium                             294 non-null    float64\n",
      " 109  kalium                              286 non-null    float64\n",
      " 110  calcium                             242 non-null    float64\n",
      " 111  chloride                            227 non-null    float64\n",
      " 112  e_gfr_ckd_epi                       256 non-null    float64\n",
      " 113  ck                                  264 non-null    float64\n",
      " 114  ld                                  259 non-null    float64\n",
      " 115  glucose                             289 non-null    float64\n",
      " 116  eiwit_totaal                        223 non-null    float64\n",
      " 117  albumine                            242 non-null    float64\n",
      " 118  neutrofielen                        327 non-null    float64\n",
      " 119  neutrofielen_perc                   327 non-null    float64\n",
      " 120  eosinofielen                        327 non-null    float64\n",
      " 121  lymfocyten                          327 non-null    float64\n",
      " 122  basofielen                          328 non-null    float64\n",
      " 123  monocyten                           327 non-null    float64\n",
      " 124  ph_waarde_u                         291 non-null    float64\n",
      " 125  pijnscore_comb                      291 non-null    float64\n",
      " 126  hartfrequentie_adj                  316 non-null    float64\n",
      " 127  leukocyten_u                        336 non-null    object \n",
      " 128  glucose_u                           336 non-null    object \n",
      " 129  nitriet_u                           336 non-null    object \n",
      " 130  ketonen_u                           336 non-null    object \n",
      " 131  eiwit_u                             336 non-null    object \n",
      " 132  bloed_u                             336 non-null    object \n",
      " 133  hcg_zwangerschapstest               336 non-null    object \n",
      " 134  text                                336 non-null    object \n",
      "dtypes: float64(44), int64(3), object(88)\n",
      "memory usage: 354.5+ KB\n"
     ]
    }
   ],
   "source": [
    "#drop all rows where more 95 out of 130 features is missing\n",
    "df_appendicitis_PoC.info(verbose=True, show_counts=True)"
   ]
  },
  {
   "cell_type": "markdown",
   "metadata": {},
   "source": [
    "### 2.2.2 Select & Map Features of Interest"
   ]
  },
  {
   "cell_type": "code",
   "execution_count": 18,
   "metadata": {},
   "outputs": [],
   "source": [
    "# Features of interest\n",
    "                  \n",
    "FEATURE_KEYS_test = ['aantal_seh_bezoeken','gender', 'seh_age_at_time_of_event', 'vervoerder', 'herkomst', 'defense musculaire', 'temperatuur', 'saturatie', 'sys_bp', \n",
    "                     'dias_bp', 'map_bp', 'emv', 'sirs', 'ademfrequentie', 'q_sofa','abdomen drukpijn locatie', 'beloop klachten', 'kortademig', 'migratie', \n",
    "                       'ontstaan klachten', 'ontlasting kleur', 'psoas sign', 'longen', 'menstruatie afwijkend', \n",
    "                       'inguinaal', 'hernia', 'buitenland geweest', 'voorgeschiedenis', 'ontlasting melaena', 'pyrosis', \n",
    "                       'eetlust', 'malaise klachten', 'anticonceptie', 'laatste ontlasting', \n",
    "                       'abdomen percussie', 'klam of zweten', 'aanwezigheid pijn', 'opgezwollen buik (anamnese)', \n",
    "                       'peritoneale prikkeling', 'mictie kleur', 'misselijkheid', 'koude rillingen', 'mictie hematurie', \n",
    "                       'mictie dysurie', 'abdomen percussie pijn', 'aard van de pijn', 'hart', 'na vettig eten', 'podb', \n",
    "                       'ontlasting slijm', 'stoma', 'ontlasting consistentie', 'bewegingsdrang', 'hoesten', \n",
    "                       'abdomen palpatie soepel', \"murphy's sign\", 'loslaatpijn', 'zwangerschap', 'uitstraling', \n",
    "                       'mictie pollakisurie', 'omgeving klachten', 'braken', 'fluor', 'braken bloed', 'vervoerspijn', \n",
    "                       'bijgeluiden', 'contralaterale loslaat-/drukpijn', 'locatie pijn', 'mictie strangurie', 'soa-risico',\n",
    "                       'koorts', 'abdomen auscultatie karakter', 'slagpijn nierloges', 'eerdere episode', 'pijn beweging', \n",
    "                       'abdomen palpatie afwijkend', 'ontlasting bloed', 'abdomen drukpijn locatie mcburney', \n",
    "                       'familieanamnese relevant afwijkend', 'abdomen palpatie drukpijn', 'abdomen auscultatie aanwezigheid',\n",
    "                       'abdomen inspectie', 'ademhaling pijn', 'eerdere diagnostiek', 'na voedselinname', 'duur klachten category', \n",
    "                       'algemene indruk category', 'crp', 'leucocyten', 'hb', 'mcv', 'erytrocieten', 'trombocyten', 'hematocriet', 'kreatinine', 'ureum', 'a_bilirubine_totaal', \n",
    "                       'b_bilirubine_direct', 'alat', 'asat', 'alk_fosfatase', 'gamma_gt', 'lipase', 'natrium', 'kalium', 'calcium', 'chloride', \n",
    "                       'e_gfr_ckd_epi', 'ck', 'ld', 'glucose', 'eiwit_totaal', 'albumine', 'neutrofielen', 'eosinofielen', 'lymfocyten', \n",
    "                       'basofielen', 'monocyten', 'ph_waarde_u', 'leukocyten_u','glucose_u','nitriet_u','ketonen_u','eiwit_u','bloed_u',\n",
    "                       'hcg_zwangerschapstest','pijnscore_comb', 'hartfrequentie_adj']\n",
    "\n",
    "FEATURE_KEYS_test_ENC = ['gender', 'vervoerder', 'herkomst','defense musculaire', 'abdomen drukpijn locatie', 'beloop klachten', 'kortademig', 'migratie', 'ontstaan klachten', 'ontlasting kleur', 'psoas sign', 'longen', 'menstruatie afwijkend', 'inguinaal', 'hernia', 'buitenland geweest', 'voorgeschiedenis', 'ontlasting melaena', 'pyrosis',  'eetlust', 'malaise klachten', 'anticonceptie', 'laatste ontlasting', 'abdomen percussie', 'klam of zweten', 'aanwezigheid pijn', 'opgezwollen buik (anamnese)', 'peritoneale prikkeling', 'mictie kleur', 'misselijkheid', 'koude rillingen', 'mictie hematurie', 'mictie dysurie', 'abdomen percussie pijn', 'aard van de pijn', 'hart', 'na vettig eten', 'podb', 'ontlasting slijm', 'stoma', 'ontlasting consistentie', 'bewegingsdrang', 'hoesten', 'abdomen palpatie soepel', \"murphy's sign\", 'loslaatpijn', 'zwangerschap', 'uitstraling', 'mictie pollakisurie', 'omgeving klachten', 'braken', 'fluor', 'braken bloed', 'vervoerspijn', 'bijgeluiden', 'contralaterale loslaat-/drukpijn', 'locatie pijn', 'mictie strangurie', 'soa-risico', 'koorts', 'abdomen auscultatie karakter', 'slagpijn nierloges', 'eerdere episode', 'pijn beweging', 'abdomen palpatie afwijkend', 'ontlasting bloed', 'abdomen drukpijn locatie mcburney', 'familieanamnese relevant afwijkend', 'abdomen palpatie drukpijn', 'abdomen auscultatie aanwezigheid', 'abdomen inspectie', 'ademhaling pijn', 'eerdere diagnostiek', 'na voedselinname', 'duur klachten category', 'algemene indruk category', 'leukocyten_u', 'glucose_u', 'nitriet_u', 'ketonen_u', 'eiwit_u', 'bloed_u', 'hcg_zwangerschapstest']\n",
    "\n",
    "\n",
    "FEATURE_KEYS_test_till_LAB = ['aantal_seh_bezoeken','gender', 'seh_age_at_time_of_event', 'vervoerder', 'herkomst', 'defense musculaire', 'temperatuur', 'saturatie', 'sys_bp', \n",
    "                     'dias_bp', 'map_bp', 'emv', 'sirs', 'ademfrequentie', 'q_sofa','abdomen drukpijn locatie', 'beloop klachten', 'kortademig', 'migratie', \n",
    "                       'ontstaan klachten', 'ontlasting kleur', 'psoas sign', 'longen', 'menstruatie afwijkend', \n",
    "                       'inguinaal', 'hernia', 'buitenland geweest', 'voorgeschiedenis', 'ontlasting melaena', 'pyrosis', \n",
    "                       'eetlust', 'malaise klachten', 'anticonceptie', 'laatste ontlasting', \n",
    "                       'abdomen percussie', 'klam of zweten', 'aanwezigheid pijn', 'opgezwollen buik (anamnese)', \n",
    "                       'peritoneale prikkeling', 'mictie kleur', 'misselijkheid', 'koude rillingen', 'mictie hematurie', \n",
    "                       'mictie dysurie', 'abdomen percussie pijn', 'aard van de pijn', 'hart', 'na vettig eten', 'podb', \n",
    "                       'ontlasting slijm', 'stoma', 'ontlasting consistentie', 'bewegingsdrang', 'hoesten', \n",
    "                       'abdomen palpatie soepel', \"murphy's sign\", 'loslaatpijn', 'zwangerschap', 'uitstraling', \n",
    "                       'mictie pollakisurie', 'omgeving klachten', 'braken', 'fluor', 'braken bloed', 'vervoerspijn', \n",
    "                       'bijgeluiden', 'contralaterale loslaat-/drukpijn', 'locatie pijn', 'mictie strangurie', 'soa-risico',\n",
    "                       'koorts', 'abdomen auscultatie karakter', 'slagpijn nierloges', 'eerdere episode', 'pijn beweging', \n",
    "                       'abdomen palpatie afwijkend', 'ontlasting bloed', 'abdomen drukpijn locatie mcburney', \n",
    "                       'familieanamnese relevant afwijkend', 'abdomen palpatie drukpijn', 'abdomen auscultatie aanwezigheid',\n",
    "                       'abdomen inspectie', 'ademhaling pijn', 'eerdere diagnostiek', 'na voedselinname', 'duur klachten category', \n",
    "                       'algemene indruk category', 'pijnscore_comb', 'hartfrequentie_adj']\n",
    "\n",
    "FEATURE_KEYS_test_ENC_till_LAB = ['gender', 'vervoerder', 'herkomst','defense musculaire', 'abdomen drukpijn locatie', 'beloop klachten', 'kortademig', 'migratie', 'ontstaan klachten', 'ontlasting kleur', 'psoas sign', 'longen', 'menstruatie afwijkend', 'inguinaal', 'hernia', 'buitenland geweest', 'voorgeschiedenis', 'ontlasting melaena', 'pyrosis',  'eetlust', 'malaise klachten', 'anticonceptie', 'laatste ontlasting', 'abdomen percussie', 'klam of zweten', 'aanwezigheid pijn', 'opgezwollen buik (anamnese)', 'peritoneale prikkeling', 'mictie kleur', 'misselijkheid', 'koude rillingen', 'mictie hematurie', 'mictie dysurie', 'abdomen percussie pijn', 'aard van de pijn', 'hart', 'na vettig eten', 'podb', 'ontlasting slijm', 'stoma', 'ontlasting consistentie', 'bewegingsdrang', 'hoesten', 'abdomen palpatie soepel', \"murphy's sign\", 'loslaatpijn', 'zwangerschap', 'uitstraling', 'mictie pollakisurie', 'omgeving klachten', 'braken', 'fluor', 'braken bloed', 'vervoerspijn', 'bijgeluiden', 'contralaterale loslaat-/drukpijn', 'locatie pijn', 'mictie strangurie', 'soa-risico', 'koorts', 'abdomen auscultatie karakter', 'slagpijn nierloges', 'eerdere episode', 'pijn beweging', 'abdomen palpatie afwijkend', 'ontlasting bloed', 'abdomen drukpijn locatie mcburney', 'familieanamnese relevant afwijkend', 'abdomen palpatie drukpijn', 'abdomen auscultatie aanwezigheid', 'abdomen inspectie', 'ademhaling pijn', 'eerdere diagnostiek', 'na voedselinname', 'duur klachten category', 'algemene indruk category']\n",
    "\n"
   ]
  },
  {
   "cell_type": "code",
   "execution_count": 19,
   "metadata": {},
   "outputs": [],
   "source": [
    "mapping = {'herkomst': {'Huisarts': 'Huisarts', \n",
    "                        'Eigen woonomgeving': 'Zelfverwijzer',\n",
    "                        'Huisartsenpost': 'Huisarts',\n",
    "                        'Plaats ongeval': 'Ambulancepersoneel',\n",
    "                        'Poli/afdeling eigen zkhs': 'Ziekenhuis',\n",
    "                        'Radiologie': 'Ziekenhuis',\n",
    "                        'Ander ziekenhuis NL': 'Ziekenhuis',\n",
    "                        'Overige zorginstelling': 'Overige zorginstelling',\n",
    "                        'Nederland': 'Onbekend',\n",
    "                        'nederlands': 'Onbekend',\n",
    "                        'NL': 'Onbekend',\n",
    "                        '[FIRSTNAME]': 'Onbekend',\n",
    "                       }         \n",
    "                }       \n",
    "df_appendicitis_PoC.replace(mapping, inplace=True)"
   ]
  },
  {
   "cell_type": "markdown",
   "metadata": {},
   "source": [
    "## 2.3 Create Alvarado Score "
   ]
  },
  {
   "cell_type": "code",
   "execution_count": 20,
   "metadata": {},
   "outputs": [],
   "source": [
    "df_appendicitis_PoC['RLQ_tenderness_alv'] = np.where(df_appendicitis_PoC['abdomen drukpijn locatie'] == \"{'rok'}\", 2, 0)\n",
    "df_appendicitis_PoC['rebound_tenderness_alv'] = np.where(df_appendicitis_PoC['loslaatpijn'] == \"{'Ja'}\", 1, 0) \n",
    "df_appendicitis_PoC['temp_alv'] = np.where(df_appendicitis_PoC['temperatuur'] >= 37.3, 1, 0)\n",
    "df_appendicitis_PoC['RLQ_migration'] = np.where(df_appendicitis_PoC['migratie'] == \"{'ROK'}\", 1, 0)\n",
    "df_appendicitis_PoC['anorexia_alv'] = np.where(df_appendicitis_PoC['eetlust'] == \"{'Afname'}\", 1, 0)\n",
    "df_appendicitis_PoC['naus_vom_alv'] = np.where((df_appendicitis_PoC['braken'] == \"{'Ja'}\") | (df_appendicitis_PoC['misselijkheid'] == \"{'Ja'}\"), 1, 0)\n",
    "df_appendicitis_PoC['leuco_alv'] = np.where(df_appendicitis_PoC['leucocyten'] >= 10, 2, 0)\n",
    "df_appendicitis_PoC['neutro_perc_alv'] = np.where(df_appendicitis_PoC['neutrofielen_perc'] > 75, 1, 0)\n"
   ]
  },
  {
   "cell_type": "code",
   "execution_count": 21,
   "metadata": {},
   "outputs": [],
   "source": [
    "df_appendicitis_PoC['alvarado_score'] = df_appendicitis_PoC[['RLQ_tenderness_alv', 'rebound_tenderness_alv', 'temp_alv', 'RLQ_migration', 'anorexia_alv', 'naus_vom_alv', 'leuco_alv', 'neutro_perc_alv']].sum(axis=1, numeric_only=True)"
   ]
  },
  {
   "cell_type": "markdown",
   "metadata": {},
   "source": [
    "## 2.4 Create Cross Validation Dataset "
   ]
  },
  {
   "cell_type": "code",
   "execution_count": 24,
   "metadata": {},
   "outputs": [],
   "source": [
    "#Shuffle model development dataset (without Medlon)\n",
    "df = df_appendicitis_PoC.sample(frac=1, random_state=500)\n",
    "\n",
    "#Apply one-hot encoding to sex and binary class\n",
    "compute_dummy = {'GT': {'no appendicitis': 0, 'appendicitis': 1}         \n",
    "                }       \n",
    "df.replace(compute_dummy, inplace=True)\n",
    "#f[['leukocyten_u', 'glucose_u', 'nitriet_u','ketonen_u','eiwit_u','bloed_u', 'hcg_zwangerschapstest']] = df[['leukocyten_u', 'glucose_u', 'nitriet_u','ketonen_u','eiwit_u','bloed_u', 'hcg_zwangerschapstest']].astype(str).astype(int)\n",
    "#df.head()\n",
    "\n"
   ]
  },
  {
   "cell_type": "markdown",
   "metadata": {},
   "source": [
    "### 2.4.1 Encode Categorical Features"
   ]
  },
  {
   "cell_type": "code",
   "execution_count": 25,
   "metadata": {},
   "outputs": [],
   "source": [
    "for col in FEATURE_KEYS_test_ENC:\n",
    "    df[col] = df[col].astype('category')\n",
    "\n",
    "#define our features and the label and split the data:\n",
    "y = df['GT'] \n",
    "X = df[FEATURE_KEYS_test_till_LAB]\n",
    "\n",
    "# Split the data into train and validation sets\n",
    "X_train, X_val, y_train, y_val = train_test_split(X, y, test_size=0.2, random_state=138, stratify=y)  # 80/20 train-validation set\n",
    "\n",
    "# Encode categorical features\n",
    "encoder = ce.CatBoostEncoder(cols=FEATURE_KEYS_test_ENC_till_LAB, return_df=True)\n",
    "X_train_cat = encoder.fit_transform(X_train, y_train)\n",
    "X_val_cat = encoder.transform(X_val)\n",
    "\n",
    "# We can now get the folds using our train set.\n",
    "cv = RepeatedStratifiedKFold(n_splits=10, n_repeats=50, random_state=138)\n",
    "folds = [(train, val) for train, val in cv.split(X_train_cat, y_train)]\n",
    "\n"
   ]
  },
  {
   "cell_type": "markdown",
   "metadata": {},
   "source": [
    "## 2.5 Reader Study Analysis"
   ]
  },
  {
   "cell_type": "code",
   "execution_count": 50,
   "metadata": {},
   "outputs": [],
   "source": [
    "#upload complete reader study\n",
    "reader_study_cases_filled = pd.read_excel('C:/Users/anoes/OneDrive/Documents/Aanstelling RadboudUMC/07_SEH/03_Analyses/08JUL2024 - Reader_study_uitkomsten_FINAL_ingevuld.xlsx')"
   ]
  },
  {
   "cell_type": "code",
   "execution_count": 51,
   "metadata": {},
   "outputs": [],
   "source": [
    "reader_study_cases_filled['1A'] = reader_study_cases_filled['1A'] /100\n",
    "reader_study_cases_filled['1B'] = reader_study_cases_filled['1B'] /100\n",
    "reader_study_cases_filled['2A'] = reader_study_cases_filled['2A'] /100\n",
    "reader_study_cases_filled['2B'] = reader_study_cases_filled['2B'] /100\n",
    "reader_study_cases_filled['3A'] = reader_study_cases_filled['3A'] /100\n",
    "reader_study_cases_filled['3B'] = reader_study_cases_filled['3B'] /100"
   ]
  },
  {
   "cell_type": "code",
   "execution_count": 52,
   "metadata": {},
   "outputs": [],
   "source": [
    "reader_study_cases_filled.set_index('idx', inplace=True)"
   ]
  },
  {
   "cell_type": "code",
   "execution_count": 53,
   "metadata": {},
   "outputs": [],
   "source": [
    "compute_dummy = {'GT': {'no appendicites': 0, 'appendicites': 1}         \n",
    "                }\n",
    "reader_study_cases_filled.replace(compute_dummy, inplace=True)"
   ]
  },
  {
   "cell_type": "markdown",
   "metadata": {},
   "source": [
    "<a name='3'></a>\n",
    "## 3 -  Model Building"
   ]
  },
  {
   "cell_type": "markdown",
   "metadata": {},
   "source": [
    "<a name='3-1'></a>\n",
    "### 3.1 Optuna Hyperparameter Search"
   ]
  },
  {
   "cell_type": "code",
   "execution_count": 35,
   "metadata": {},
   "outputs": [
    {
     "name": "stderr",
     "output_type": "stream",
     "text": [
      "[I 2024-10-08 16:51:54,705] A new study created in memory with name: no-name-d05416de-6e4c-43a4-99a1-147c5dfeabaf\n",
      "[I 2024-10-08 16:53:00,810] Trial 0 finished with value: 0.7487700760777684 and parameters: {'eta': 0.13729397891264314, 'max_depth': 9, 'min_child_weight': 7, 'subsample': 0.7573449395041161, 'colsample_bytree': 0.6872179917914019, 'lambda': 1.2347148721277147e-05, 'alpha': 0.00010176683341312054, 'num_boost_round': 59, 'early_stopping_rounds': 24}. Best is trial 0 with value: 0.7487700760777684.\n",
      "[I 2024-10-08 16:54:12,331] Trial 1 finished with value: 0.7404953508030431 and parameters: {'eta': 0.10952333525149965, 'max_depth': 3, 'min_child_weight': 4, 'subsample': 0.5570620405219212, 'colsample_bytree': 0.7789152745065018, 'lambda': 1.0214212332132275e-06, 'alpha': 0.04138024213849707, 'num_boost_round': 774, 'early_stopping_rounds': 20}. Best is trial 0 with value: 0.7487700760777684.\n",
      "[W 2024-10-08 16:54:27,649] Trial 2 failed with parameters: {'eta': 0.16829448075541084, 'max_depth': 9, 'min_child_weight': 7, 'subsample': 0.753901125199768, 'colsample_bytree': 0.7950434554200138, 'lambda': 0.5823829779930453, 'alpha': 1.575691531163153e-05, 'num_boost_round': 487, 'early_stopping_rounds': 40} because of the following error: KeyboardInterrupt().\n",
      "Traceback (most recent call last):\n",
      "  File \"C:\\Users\\anoes\\anaconda3\\envs\\tf_env\\lib\\site-packages\\optuna\\study\\_optimize.py\", line 196, in _run_trial\n",
      "    value_or_values = func(trial)\n",
      "  File \"C:\\Users\\anoes\\AppData\\Local\\Temp\\ipykernel_16464\\894506343.py\", line 43, in objective\n",
      "    model = xgb.train(\n",
      "  File \"C:\\Users\\anoes\\anaconda3\\envs\\tf_env\\lib\\site-packages\\xgboost\\core.py\", line 730, in inner_f\n",
      "    return func(**kwargs)\n",
      "  File \"C:\\Users\\anoes\\anaconda3\\envs\\tf_env\\lib\\site-packages\\xgboost\\training.py\", line 181, in train\n",
      "    bst.update(dtrain, i, obj)\n",
      "  File \"C:\\Users\\anoes\\anaconda3\\envs\\tf_env\\lib\\site-packages\\xgboost\\core.py\", line 2047, in update\n",
      "    self._assign_dmatrix_features(dtrain)\n",
      "  File \"C:\\Users\\anoes\\anaconda3\\envs\\tf_env\\lib\\site-packages\\xgboost\\core.py\", line 2935, in _assign_dmatrix_features\n",
      "    self._validate_features(fn)\n",
      "  File \"C:\\Users\\anoes\\anaconda3\\envs\\tf_env\\lib\\site-packages\\xgboost\\core.py\", line 2947, in _validate_features\n",
      "    if self.feature_names != feature_names:\n",
      "  File \"C:\\Users\\anoes\\anaconda3\\envs\\tf_env\\lib\\site-packages\\xgboost\\core.py\", line 1997, in feature_names\n",
      "    return self._get_feature_info(\"feature_name\")\n",
      "  File \"C:\\Users\\anoes\\anaconda3\\envs\\tf_env\\lib\\site-packages\\xgboost\\core.py\", line 1947, in _get_feature_info\n",
      "    _LIB.XGBoosterGetStrFeatureInfo(\n",
      "KeyboardInterrupt\n",
      "[W 2024-10-08 16:54:27,650] Trial 2 failed with value None.\n"
     ]
    },
    {
     "ename": "KeyboardInterrupt",
     "evalue": "",
     "output_type": "error",
     "traceback": [
      "\u001b[1;31m---------------------------------------------------------------------------\u001b[0m",
      "\u001b[1;31mKeyboardInterrupt\u001b[0m                         Traceback (most recent call last)",
      "Input \u001b[1;32mIn [35]\u001b[0m, in \u001b[0;36m<cell line: 73>\u001b[1;34m()\u001b[0m\n\u001b[0;32m     71\u001b[0m \u001b[38;5;66;03m# Create Optuna study and optimize\u001b[39;00m\n\u001b[0;32m     72\u001b[0m study \u001b[38;5;241m=\u001b[39m optuna\u001b[38;5;241m.\u001b[39mcreate_study(direction\u001b[38;5;241m=\u001b[39m\u001b[38;5;124m'\u001b[39m\u001b[38;5;124mmaximize\u001b[39m\u001b[38;5;124m'\u001b[39m)\n\u001b[1;32m---> 73\u001b[0m \u001b[43mstudy\u001b[49m\u001b[38;5;241;43m.\u001b[39;49m\u001b[43moptimize\u001b[49m\u001b[43m(\u001b[49m\u001b[43mobjective\u001b[49m\u001b[43m,\u001b[49m\u001b[43m \u001b[49m\u001b[43mn_trials\u001b[49m\u001b[38;5;241;43m=\u001b[39;49m\u001b[38;5;241;43m100\u001b[39;49m\u001b[43m,\u001b[49m\u001b[43m \u001b[49m\u001b[43mtimeout\u001b[49m\u001b[38;5;241;43m=\u001b[39;49m\u001b[38;5;241;43m600\u001b[39;49m\u001b[43m)\u001b[49m\n\u001b[0;32m     74\u001b[0m pruned_trials \u001b[38;5;241m=\u001b[39m [t \u001b[38;5;28;01mfor\u001b[39;00m t \u001b[38;5;129;01min\u001b[39;00m study\u001b[38;5;241m.\u001b[39mtrials \u001b[38;5;28;01mif\u001b[39;00m t\u001b[38;5;241m.\u001b[39mstate \u001b[38;5;241m==\u001b[39m optuna\u001b[38;5;241m.\u001b[39mtrial\u001b[38;5;241m.\u001b[39mTrialState\u001b[38;5;241m.\u001b[39mPRUNED]\n\u001b[0;32m     75\u001b[0m complete_trials \u001b[38;5;241m=\u001b[39m [t \u001b[38;5;28;01mfor\u001b[39;00m t \u001b[38;5;129;01min\u001b[39;00m study\u001b[38;5;241m.\u001b[39mtrials \u001b[38;5;28;01mif\u001b[39;00m t\u001b[38;5;241m.\u001b[39mstate \u001b[38;5;241m==\u001b[39m optuna\u001b[38;5;241m.\u001b[39mtrial\u001b[38;5;241m.\u001b[39mTrialState\u001b[38;5;241m.\u001b[39mCOMPLETE]\n",
      "File \u001b[1;32m~\\anaconda3\\envs\\tf_env\\lib\\site-packages\\optuna\\study\\study.py:451\u001b[0m, in \u001b[0;36mStudy.optimize\u001b[1;34m(self, func, n_trials, timeout, n_jobs, catch, callbacks, gc_after_trial, show_progress_bar)\u001b[0m\n\u001b[0;32m    348\u001b[0m \u001b[38;5;28;01mdef\u001b[39;00m \u001b[38;5;21moptimize\u001b[39m(\n\u001b[0;32m    349\u001b[0m     \u001b[38;5;28mself\u001b[39m,\n\u001b[0;32m    350\u001b[0m     func: ObjectiveFuncType,\n\u001b[1;32m   (...)\u001b[0m\n\u001b[0;32m    357\u001b[0m     show_progress_bar: \u001b[38;5;28mbool\u001b[39m \u001b[38;5;241m=\u001b[39m \u001b[38;5;28;01mFalse\u001b[39;00m,\n\u001b[0;32m    358\u001b[0m ) \u001b[38;5;241m-\u001b[39m\u001b[38;5;241m>\u001b[39m \u001b[38;5;28;01mNone\u001b[39;00m:\n\u001b[0;32m    359\u001b[0m     \u001b[38;5;124;03m\"\"\"Optimize an objective function.\u001b[39;00m\n\u001b[0;32m    360\u001b[0m \n\u001b[0;32m    361\u001b[0m \u001b[38;5;124;03m    Optimization is done by choosing a suitable set of hyperparameter values from a given\u001b[39;00m\n\u001b[1;32m   (...)\u001b[0m\n\u001b[0;32m    449\u001b[0m \u001b[38;5;124;03m            If nested invocation of this method occurs.\u001b[39;00m\n\u001b[0;32m    450\u001b[0m \u001b[38;5;124;03m    \"\"\"\u001b[39;00m\n\u001b[1;32m--> 451\u001b[0m     \u001b[43m_optimize\u001b[49m\u001b[43m(\u001b[49m\n\u001b[0;32m    452\u001b[0m \u001b[43m        \u001b[49m\u001b[43mstudy\u001b[49m\u001b[38;5;241;43m=\u001b[39;49m\u001b[38;5;28;43mself\u001b[39;49m\u001b[43m,\u001b[49m\n\u001b[0;32m    453\u001b[0m \u001b[43m        \u001b[49m\u001b[43mfunc\u001b[49m\u001b[38;5;241;43m=\u001b[39;49m\u001b[43mfunc\u001b[49m\u001b[43m,\u001b[49m\n\u001b[0;32m    454\u001b[0m \u001b[43m        \u001b[49m\u001b[43mn_trials\u001b[49m\u001b[38;5;241;43m=\u001b[39;49m\u001b[43mn_trials\u001b[49m\u001b[43m,\u001b[49m\n\u001b[0;32m    455\u001b[0m \u001b[43m        \u001b[49m\u001b[43mtimeout\u001b[49m\u001b[38;5;241;43m=\u001b[39;49m\u001b[43mtimeout\u001b[49m\u001b[43m,\u001b[49m\n\u001b[0;32m    456\u001b[0m \u001b[43m        \u001b[49m\u001b[43mn_jobs\u001b[49m\u001b[38;5;241;43m=\u001b[39;49m\u001b[43mn_jobs\u001b[49m\u001b[43m,\u001b[49m\n\u001b[0;32m    457\u001b[0m \u001b[43m        \u001b[49m\u001b[43mcatch\u001b[49m\u001b[38;5;241;43m=\u001b[39;49m\u001b[38;5;28;43mtuple\u001b[39;49m\u001b[43m(\u001b[49m\u001b[43mcatch\u001b[49m\u001b[43m)\u001b[49m\u001b[43m \u001b[49m\u001b[38;5;28;43;01mif\u001b[39;49;00m\u001b[43m \u001b[49m\u001b[38;5;28;43misinstance\u001b[39;49m\u001b[43m(\u001b[49m\u001b[43mcatch\u001b[49m\u001b[43m,\u001b[49m\u001b[43m \u001b[49m\u001b[43mIterable\u001b[49m\u001b[43m)\u001b[49m\u001b[43m \u001b[49m\u001b[38;5;28;43;01melse\u001b[39;49;00m\u001b[43m \u001b[49m\u001b[43m(\u001b[49m\u001b[43mcatch\u001b[49m\u001b[43m,\u001b[49m\u001b[43m)\u001b[49m\u001b[43m,\u001b[49m\n\u001b[0;32m    458\u001b[0m \u001b[43m        \u001b[49m\u001b[43mcallbacks\u001b[49m\u001b[38;5;241;43m=\u001b[39;49m\u001b[43mcallbacks\u001b[49m\u001b[43m,\u001b[49m\n\u001b[0;32m    459\u001b[0m \u001b[43m        \u001b[49m\u001b[43mgc_after_trial\u001b[49m\u001b[38;5;241;43m=\u001b[39;49m\u001b[43mgc_after_trial\u001b[49m\u001b[43m,\u001b[49m\n\u001b[0;32m    460\u001b[0m \u001b[43m        \u001b[49m\u001b[43mshow_progress_bar\u001b[49m\u001b[38;5;241;43m=\u001b[39;49m\u001b[43mshow_progress_bar\u001b[49m\u001b[43m,\u001b[49m\n\u001b[0;32m    461\u001b[0m \u001b[43m    \u001b[49m\u001b[43m)\u001b[49m\n",
      "File \u001b[1;32m~\\anaconda3\\envs\\tf_env\\lib\\site-packages\\optuna\\study\\_optimize.py:62\u001b[0m, in \u001b[0;36m_optimize\u001b[1;34m(study, func, n_trials, timeout, n_jobs, catch, callbacks, gc_after_trial, show_progress_bar)\u001b[0m\n\u001b[0;32m     60\u001b[0m \u001b[38;5;28;01mtry\u001b[39;00m:\n\u001b[0;32m     61\u001b[0m     \u001b[38;5;28;01mif\u001b[39;00m n_jobs \u001b[38;5;241m==\u001b[39m \u001b[38;5;241m1\u001b[39m:\n\u001b[1;32m---> 62\u001b[0m         \u001b[43m_optimize_sequential\u001b[49m\u001b[43m(\u001b[49m\n\u001b[0;32m     63\u001b[0m \u001b[43m            \u001b[49m\u001b[43mstudy\u001b[49m\u001b[43m,\u001b[49m\n\u001b[0;32m     64\u001b[0m \u001b[43m            \u001b[49m\u001b[43mfunc\u001b[49m\u001b[43m,\u001b[49m\n\u001b[0;32m     65\u001b[0m \u001b[43m            \u001b[49m\u001b[43mn_trials\u001b[49m\u001b[43m,\u001b[49m\n\u001b[0;32m     66\u001b[0m \u001b[43m            \u001b[49m\u001b[43mtimeout\u001b[49m\u001b[43m,\u001b[49m\n\u001b[0;32m     67\u001b[0m \u001b[43m            \u001b[49m\u001b[43mcatch\u001b[49m\u001b[43m,\u001b[49m\n\u001b[0;32m     68\u001b[0m \u001b[43m            \u001b[49m\u001b[43mcallbacks\u001b[49m\u001b[43m,\u001b[49m\n\u001b[0;32m     69\u001b[0m \u001b[43m            \u001b[49m\u001b[43mgc_after_trial\u001b[49m\u001b[43m,\u001b[49m\n\u001b[0;32m     70\u001b[0m \u001b[43m            \u001b[49m\u001b[43mreseed_sampler_rng\u001b[49m\u001b[38;5;241;43m=\u001b[39;49m\u001b[38;5;28;43;01mFalse\u001b[39;49;00m\u001b[43m,\u001b[49m\n\u001b[0;32m     71\u001b[0m \u001b[43m            \u001b[49m\u001b[43mtime_start\u001b[49m\u001b[38;5;241;43m=\u001b[39;49m\u001b[38;5;28;43;01mNone\u001b[39;49;00m\u001b[43m,\u001b[49m\n\u001b[0;32m     72\u001b[0m \u001b[43m            \u001b[49m\u001b[43mprogress_bar\u001b[49m\u001b[38;5;241;43m=\u001b[39;49m\u001b[43mprogress_bar\u001b[49m\u001b[43m,\u001b[49m\n\u001b[0;32m     73\u001b[0m \u001b[43m        \u001b[49m\u001b[43m)\u001b[49m\n\u001b[0;32m     74\u001b[0m     \u001b[38;5;28;01melse\u001b[39;00m:\n\u001b[0;32m     75\u001b[0m         \u001b[38;5;28;01mif\u001b[39;00m n_jobs \u001b[38;5;241m==\u001b[39m \u001b[38;5;241m-\u001b[39m\u001b[38;5;241m1\u001b[39m:\n",
      "File \u001b[1;32m~\\anaconda3\\envs\\tf_env\\lib\\site-packages\\optuna\\study\\_optimize.py:159\u001b[0m, in \u001b[0;36m_optimize_sequential\u001b[1;34m(study, func, n_trials, timeout, catch, callbacks, gc_after_trial, reseed_sampler_rng, time_start, progress_bar)\u001b[0m\n\u001b[0;32m    156\u001b[0m         \u001b[38;5;28;01mbreak\u001b[39;00m\n\u001b[0;32m    158\u001b[0m \u001b[38;5;28;01mtry\u001b[39;00m:\n\u001b[1;32m--> 159\u001b[0m     frozen_trial \u001b[38;5;241m=\u001b[39m \u001b[43m_run_trial\u001b[49m\u001b[43m(\u001b[49m\u001b[43mstudy\u001b[49m\u001b[43m,\u001b[49m\u001b[43m \u001b[49m\u001b[43mfunc\u001b[49m\u001b[43m,\u001b[49m\u001b[43m \u001b[49m\u001b[43mcatch\u001b[49m\u001b[43m)\u001b[49m\n\u001b[0;32m    160\u001b[0m \u001b[38;5;28;01mfinally\u001b[39;00m:\n\u001b[0;32m    161\u001b[0m     \u001b[38;5;66;03m# The following line mitigates memory problems that can be occurred in some\u001b[39;00m\n\u001b[0;32m    162\u001b[0m     \u001b[38;5;66;03m# environments (e.g., services that use computing containers such as GitHub Actions).\u001b[39;00m\n\u001b[0;32m    163\u001b[0m     \u001b[38;5;66;03m# Please refer to the following PR for further details:\u001b[39;00m\n\u001b[0;32m    164\u001b[0m     \u001b[38;5;66;03m# https://github.com/optuna/optuna/pull/325.\u001b[39;00m\n\u001b[0;32m    165\u001b[0m     \u001b[38;5;28;01mif\u001b[39;00m gc_after_trial:\n",
      "File \u001b[1;32m~\\anaconda3\\envs\\tf_env\\lib\\site-packages\\optuna\\study\\_optimize.py:247\u001b[0m, in \u001b[0;36m_run_trial\u001b[1;34m(study, func, catch)\u001b[0m\n\u001b[0;32m    240\u001b[0m         \u001b[38;5;28;01massert\u001b[39;00m \u001b[38;5;28;01mFalse\u001b[39;00m, \u001b[38;5;124m\"\u001b[39m\u001b[38;5;124mShould not reach.\u001b[39m\u001b[38;5;124m\"\u001b[39m\n\u001b[0;32m    242\u001b[0m \u001b[38;5;28;01mif\u001b[39;00m (\n\u001b[0;32m    243\u001b[0m     frozen_trial\u001b[38;5;241m.\u001b[39mstate \u001b[38;5;241m==\u001b[39m TrialState\u001b[38;5;241m.\u001b[39mFAIL\n\u001b[0;32m    244\u001b[0m     \u001b[38;5;129;01mand\u001b[39;00m func_err \u001b[38;5;129;01mis\u001b[39;00m \u001b[38;5;129;01mnot\u001b[39;00m \u001b[38;5;28;01mNone\u001b[39;00m\n\u001b[0;32m    245\u001b[0m     \u001b[38;5;129;01mand\u001b[39;00m \u001b[38;5;129;01mnot\u001b[39;00m \u001b[38;5;28misinstance\u001b[39m(func_err, catch)\n\u001b[0;32m    246\u001b[0m ):\n\u001b[1;32m--> 247\u001b[0m     \u001b[38;5;28;01mraise\u001b[39;00m func_err\n\u001b[0;32m    248\u001b[0m \u001b[38;5;28;01mreturn\u001b[39;00m frozen_trial\n",
      "File \u001b[1;32m~\\anaconda3\\envs\\tf_env\\lib\\site-packages\\optuna\\study\\_optimize.py:196\u001b[0m, in \u001b[0;36m_run_trial\u001b[1;34m(study, func, catch)\u001b[0m\n\u001b[0;32m    194\u001b[0m \u001b[38;5;28;01mwith\u001b[39;00m get_heartbeat_thread(trial\u001b[38;5;241m.\u001b[39m_trial_id, study\u001b[38;5;241m.\u001b[39m_storage):\n\u001b[0;32m    195\u001b[0m     \u001b[38;5;28;01mtry\u001b[39;00m:\n\u001b[1;32m--> 196\u001b[0m         value_or_values \u001b[38;5;241m=\u001b[39m \u001b[43mfunc\u001b[49m\u001b[43m(\u001b[49m\u001b[43mtrial\u001b[49m\u001b[43m)\u001b[49m\n\u001b[0;32m    197\u001b[0m     \u001b[38;5;28;01mexcept\u001b[39;00m exceptions\u001b[38;5;241m.\u001b[39mTrialPruned \u001b[38;5;28;01mas\u001b[39;00m e:\n\u001b[0;32m    198\u001b[0m         \u001b[38;5;66;03m# TODO(mamu): Handle multi-objective cases.\u001b[39;00m\n\u001b[0;32m    199\u001b[0m         state \u001b[38;5;241m=\u001b[39m TrialState\u001b[38;5;241m.\u001b[39mPRUNED\n",
      "Input \u001b[1;32mIn [35]\u001b[0m, in \u001b[0;36mobjective\u001b[1;34m(trial)\u001b[0m\n\u001b[0;32m     40\u001b[0m dval \u001b[38;5;241m=\u001b[39m xgb\u001b[38;5;241m.\u001b[39mDMatrix(X_val_fold, label\u001b[38;5;241m=\u001b[39my_val_fold, enable_categorical\u001b[38;5;241m=\u001b[39m\u001b[38;5;28;01mTrue\u001b[39;00m)\n\u001b[0;32m     42\u001b[0m \u001b[38;5;66;03m# Train the model\u001b[39;00m\n\u001b[1;32m---> 43\u001b[0m model \u001b[38;5;241m=\u001b[39m \u001b[43mxgb\u001b[49m\u001b[38;5;241;43m.\u001b[39;49m\u001b[43mtrain\u001b[49m\u001b[43m(\u001b[49m\n\u001b[0;32m     44\u001b[0m \u001b[43m    \u001b[49m\u001b[43mdtrain\u001b[49m\u001b[38;5;241;43m=\u001b[39;49m\u001b[43mdtrain\u001b[49m\u001b[43m,\u001b[49m\n\u001b[0;32m     45\u001b[0m \u001b[43m    \u001b[49m\u001b[43mparams\u001b[49m\u001b[38;5;241;43m=\u001b[39;49m\u001b[43mparam\u001b[49m\u001b[43m,\u001b[49m\n\u001b[0;32m     46\u001b[0m \u001b[43m    \u001b[49m\u001b[43mevals\u001b[49m\u001b[38;5;241;43m=\u001b[39;49m\u001b[43m[\u001b[49m\u001b[43m(\u001b[49m\u001b[43mdtrain\u001b[49m\u001b[43m,\u001b[49m\u001b[43m \u001b[49m\u001b[38;5;124;43m'\u001b[39;49m\u001b[38;5;124;43mtrain\u001b[39;49m\u001b[38;5;124;43m'\u001b[39;49m\u001b[43m)\u001b[49m\u001b[43m,\u001b[49m\u001b[43m \u001b[49m\u001b[43m(\u001b[49m\u001b[43mdval\u001b[49m\u001b[43m,\u001b[49m\u001b[43m \u001b[49m\u001b[38;5;124;43m'\u001b[39;49m\u001b[38;5;124;43mval\u001b[39;49m\u001b[38;5;124;43m'\u001b[39;49m\u001b[43m)\u001b[49m\u001b[43m]\u001b[49m\u001b[43m,\u001b[49m\n\u001b[0;32m     47\u001b[0m \u001b[43m    \u001b[49m\u001b[43mnum_boost_round\u001b[49m\u001b[38;5;241;43m=\u001b[39;49m\u001b[43mnum_boost_round\u001b[49m\u001b[43m,\u001b[49m\n\u001b[0;32m     48\u001b[0m \u001b[43m    \u001b[49m\u001b[43mverbose_eval\u001b[49m\u001b[38;5;241;43m=\u001b[39;49m\u001b[38;5;28;43;01mFalse\u001b[39;49;00m\u001b[43m,\u001b[49m\n\u001b[0;32m     49\u001b[0m \u001b[43m    \u001b[49m\u001b[43mearly_stopping_rounds\u001b[49m\u001b[38;5;241;43m=\u001b[39;49m\u001b[43mearly_stopping_rounds\u001b[49m\n\u001b[0;32m     50\u001b[0m \u001b[43m\u001b[49m\u001b[43m)\u001b[49m\n\u001b[0;32m     52\u001b[0m \u001b[38;5;66;03m# Collect results\u001b[39;00m\n\u001b[0;32m     53\u001b[0m sets \u001b[38;5;241m=\u001b[39m [dtrain, dval]\n",
      "File \u001b[1;32m~\\anaconda3\\envs\\tf_env\\lib\\site-packages\\xgboost\\core.py:730\u001b[0m, in \u001b[0;36mrequire_keyword_args.<locals>.throw_if.<locals>.inner_f\u001b[1;34m(*args, **kwargs)\u001b[0m\n\u001b[0;32m    728\u001b[0m \u001b[38;5;28;01mfor\u001b[39;00m k, arg \u001b[38;5;129;01min\u001b[39;00m \u001b[38;5;28mzip\u001b[39m(sig\u001b[38;5;241m.\u001b[39mparameters, args):\n\u001b[0;32m    729\u001b[0m     kwargs[k] \u001b[38;5;241m=\u001b[39m arg\n\u001b[1;32m--> 730\u001b[0m \u001b[38;5;28;01mreturn\u001b[39;00m \u001b[43mfunc\u001b[49m\u001b[43m(\u001b[49m\u001b[38;5;241;43m*\u001b[39;49m\u001b[38;5;241;43m*\u001b[39;49m\u001b[43mkwargs\u001b[49m\u001b[43m)\u001b[49m\n",
      "File \u001b[1;32m~\\anaconda3\\envs\\tf_env\\lib\\site-packages\\xgboost\\training.py:181\u001b[0m, in \u001b[0;36mtrain\u001b[1;34m(params, dtrain, num_boost_round, evals, obj, feval, maximize, early_stopping_rounds, evals_result, verbose_eval, xgb_model, callbacks, custom_metric)\u001b[0m\n\u001b[0;32m    179\u001b[0m \u001b[38;5;28;01mif\u001b[39;00m cb_container\u001b[38;5;241m.\u001b[39mbefore_iteration(bst, i, dtrain, evals):\n\u001b[0;32m    180\u001b[0m     \u001b[38;5;28;01mbreak\u001b[39;00m\n\u001b[1;32m--> 181\u001b[0m \u001b[43mbst\u001b[49m\u001b[38;5;241;43m.\u001b[39;49m\u001b[43mupdate\u001b[49m\u001b[43m(\u001b[49m\u001b[43mdtrain\u001b[49m\u001b[43m,\u001b[49m\u001b[43m \u001b[49m\u001b[43mi\u001b[49m\u001b[43m,\u001b[49m\u001b[43m \u001b[49m\u001b[43mobj\u001b[49m\u001b[43m)\u001b[49m\n\u001b[0;32m    182\u001b[0m \u001b[38;5;28;01mif\u001b[39;00m cb_container\u001b[38;5;241m.\u001b[39mafter_iteration(bst, i, dtrain, evals):\n\u001b[0;32m    183\u001b[0m     \u001b[38;5;28;01mbreak\u001b[39;00m\n",
      "File \u001b[1;32m~\\anaconda3\\envs\\tf_env\\lib\\site-packages\\xgboost\\core.py:2047\u001b[0m, in \u001b[0;36mBooster.update\u001b[1;34m(self, dtrain, iteration, fobj)\u001b[0m\n\u001b[0;32m   2045\u001b[0m \u001b[38;5;28;01mif\u001b[39;00m \u001b[38;5;129;01mnot\u001b[39;00m \u001b[38;5;28misinstance\u001b[39m(dtrain, DMatrix):\n\u001b[0;32m   2046\u001b[0m     \u001b[38;5;28;01mraise\u001b[39;00m \u001b[38;5;167;01mTypeError\u001b[39;00m(\u001b[38;5;124mf\u001b[39m\u001b[38;5;124m\"\u001b[39m\u001b[38;5;124minvalid training matrix: \u001b[39m\u001b[38;5;132;01m{\u001b[39;00m\u001b[38;5;28mtype\u001b[39m(dtrain)\u001b[38;5;241m.\u001b[39m\u001b[38;5;18m__name__\u001b[39m\u001b[38;5;132;01m}\u001b[39;00m\u001b[38;5;124m\"\u001b[39m)\n\u001b[1;32m-> 2047\u001b[0m \u001b[38;5;28;43mself\u001b[39;49m\u001b[38;5;241;43m.\u001b[39;49m\u001b[43m_assign_dmatrix_features\u001b[49m\u001b[43m(\u001b[49m\u001b[43mdtrain\u001b[49m\u001b[43m)\u001b[49m\n\u001b[0;32m   2049\u001b[0m \u001b[38;5;28;01mif\u001b[39;00m fobj \u001b[38;5;129;01mis\u001b[39;00m \u001b[38;5;28;01mNone\u001b[39;00m:\n\u001b[0;32m   2050\u001b[0m     _check_call(\n\u001b[0;32m   2051\u001b[0m         _LIB\u001b[38;5;241m.\u001b[39mXGBoosterUpdateOneIter(\n\u001b[0;32m   2052\u001b[0m             \u001b[38;5;28mself\u001b[39m\u001b[38;5;241m.\u001b[39mhandle, ctypes\u001b[38;5;241m.\u001b[39mc_int(iteration), dtrain\u001b[38;5;241m.\u001b[39mhandle\n\u001b[0;32m   2053\u001b[0m         )\n\u001b[0;32m   2054\u001b[0m     )\n",
      "File \u001b[1;32m~\\anaconda3\\envs\\tf_env\\lib\\site-packages\\xgboost\\core.py:2935\u001b[0m, in \u001b[0;36mBooster._assign_dmatrix_features\u001b[1;34m(self, data)\u001b[0m\n\u001b[0;32m   2932\u001b[0m \u001b[38;5;28;01mif\u001b[39;00m \u001b[38;5;28mself\u001b[39m\u001b[38;5;241m.\u001b[39mfeature_types \u001b[38;5;129;01mis\u001b[39;00m \u001b[38;5;28;01mNone\u001b[39;00m:\n\u001b[0;32m   2933\u001b[0m     \u001b[38;5;28mself\u001b[39m\u001b[38;5;241m.\u001b[39mfeature_types \u001b[38;5;241m=\u001b[39m ft\n\u001b[1;32m-> 2935\u001b[0m \u001b[38;5;28;43mself\u001b[39;49m\u001b[38;5;241;43m.\u001b[39;49m\u001b[43m_validate_features\u001b[49m\u001b[43m(\u001b[49m\u001b[43mfn\u001b[49m\u001b[43m)\u001b[49m\n",
      "File \u001b[1;32m~\\anaconda3\\envs\\tf_env\\lib\\site-packages\\xgboost\\core.py:2947\u001b[0m, in \u001b[0;36mBooster._validate_features\u001b[1;34m(self, feature_names)\u001b[0m\n\u001b[0;32m   2941\u001b[0m \u001b[38;5;28;01mif\u001b[39;00m feature_names \u001b[38;5;129;01mis\u001b[39;00m \u001b[38;5;28;01mNone\u001b[39;00m \u001b[38;5;129;01mand\u001b[39;00m \u001b[38;5;28mself\u001b[39m\u001b[38;5;241m.\u001b[39mfeature_names \u001b[38;5;129;01mis\u001b[39;00m \u001b[38;5;129;01mnot\u001b[39;00m \u001b[38;5;28;01mNone\u001b[39;00m:\n\u001b[0;32m   2942\u001b[0m     \u001b[38;5;28;01mraise\u001b[39;00m \u001b[38;5;167;01mValueError\u001b[39;00m(\n\u001b[0;32m   2943\u001b[0m         \u001b[38;5;124m\"\u001b[39m\u001b[38;5;124mtraining data did not have the following fields: \u001b[39m\u001b[38;5;124m\"\u001b[39m\n\u001b[0;32m   2944\u001b[0m         \u001b[38;5;241m+\u001b[39m \u001b[38;5;124m\"\u001b[39m\u001b[38;5;124m, \u001b[39m\u001b[38;5;124m\"\u001b[39m\u001b[38;5;241m.\u001b[39mjoin(\u001b[38;5;28mself\u001b[39m\u001b[38;5;241m.\u001b[39mfeature_names)\n\u001b[0;32m   2945\u001b[0m     )\n\u001b[1;32m-> 2947\u001b[0m \u001b[38;5;28;01mif\u001b[39;00m \u001b[38;5;28;43mself\u001b[39;49m\u001b[38;5;241;43m.\u001b[39;49m\u001b[43mfeature_names\u001b[49m \u001b[38;5;241m!=\u001b[39m feature_names:\n\u001b[0;32m   2948\u001b[0m     dat_missing \u001b[38;5;241m=\u001b[39m \u001b[38;5;28mset\u001b[39m(cast(FeatureNames, \u001b[38;5;28mself\u001b[39m\u001b[38;5;241m.\u001b[39mfeature_names)) \u001b[38;5;241m-\u001b[39m \u001b[38;5;28mset\u001b[39m(\n\u001b[0;32m   2949\u001b[0m         cast(FeatureNames, feature_names)\n\u001b[0;32m   2950\u001b[0m     )\n\u001b[0;32m   2951\u001b[0m     my_missing \u001b[38;5;241m=\u001b[39m \u001b[38;5;28mset\u001b[39m(cast(FeatureNames, feature_names)) \u001b[38;5;241m-\u001b[39m \u001b[38;5;28mset\u001b[39m(\n\u001b[0;32m   2952\u001b[0m         cast(FeatureNames, \u001b[38;5;28mself\u001b[39m\u001b[38;5;241m.\u001b[39mfeature_names)\n\u001b[0;32m   2953\u001b[0m     )\n",
      "File \u001b[1;32m~\\anaconda3\\envs\\tf_env\\lib\\site-packages\\xgboost\\core.py:1997\u001b[0m, in \u001b[0;36mBooster.feature_names\u001b[1;34m(self)\u001b[0m\n\u001b[0;32m   1991\u001b[0m \u001b[38;5;129m@property\u001b[39m\n\u001b[0;32m   1992\u001b[0m \u001b[38;5;28;01mdef\u001b[39;00m \u001b[38;5;21mfeature_names\u001b[39m(\u001b[38;5;28mself\u001b[39m) \u001b[38;5;241m-\u001b[39m\u001b[38;5;241m>\u001b[39m Optional[FeatureNames]:\n\u001b[0;32m   1993\u001b[0m     \u001b[38;5;124;03m\"\"\"Feature names for this booster.  Can be directly set by input data or by\u001b[39;00m\n\u001b[0;32m   1994\u001b[0m \u001b[38;5;124;03m    assignment.\u001b[39;00m\n\u001b[0;32m   1995\u001b[0m \n\u001b[0;32m   1996\u001b[0m \u001b[38;5;124;03m    \"\"\"\u001b[39;00m\n\u001b[1;32m-> 1997\u001b[0m     \u001b[38;5;28;01mreturn\u001b[39;00m \u001b[38;5;28;43mself\u001b[39;49m\u001b[38;5;241;43m.\u001b[39;49m\u001b[43m_get_feature_info\u001b[49m\u001b[43m(\u001b[49m\u001b[38;5;124;43m\"\u001b[39;49m\u001b[38;5;124;43mfeature_name\u001b[39;49m\u001b[38;5;124;43m\"\u001b[39;49m\u001b[43m)\u001b[49m\n",
      "File \u001b[1;32m~\\anaconda3\\envs\\tf_env\\lib\\site-packages\\xgboost\\core.py:1947\u001b[0m, in \u001b[0;36mBooster._get_feature_info\u001b[1;34m(self, field)\u001b[0m\n\u001b[0;32m   1944\u001b[0m \u001b[38;5;28;01mif\u001b[39;00m \u001b[38;5;129;01mnot\u001b[39;00m \u001b[38;5;28mhasattr\u001b[39m(\u001b[38;5;28mself\u001b[39m, \u001b[38;5;124m\"\u001b[39m\u001b[38;5;124mhandle\u001b[39m\u001b[38;5;124m\"\u001b[39m) \u001b[38;5;129;01mor\u001b[39;00m \u001b[38;5;28mself\u001b[39m\u001b[38;5;241m.\u001b[39mhandle \u001b[38;5;129;01mis\u001b[39;00m \u001b[38;5;28;01mNone\u001b[39;00m:\n\u001b[0;32m   1945\u001b[0m     \u001b[38;5;28;01mreturn\u001b[39;00m \u001b[38;5;28;01mNone\u001b[39;00m\n\u001b[0;32m   1946\u001b[0m _check_call(\n\u001b[1;32m-> 1947\u001b[0m     \u001b[43m_LIB\u001b[49m\u001b[38;5;241;43m.\u001b[39;49m\u001b[43mXGBoosterGetStrFeatureInfo\u001b[49m\u001b[43m(\u001b[49m\n\u001b[0;32m   1948\u001b[0m \u001b[43m        \u001b[49m\u001b[38;5;28;43mself\u001b[39;49m\u001b[38;5;241;43m.\u001b[39;49m\u001b[43mhandle\u001b[49m\u001b[43m,\u001b[49m\n\u001b[0;32m   1949\u001b[0m \u001b[43m        \u001b[49m\u001b[43mc_str\u001b[49m\u001b[43m(\u001b[49m\u001b[43mfield\u001b[49m\u001b[43m)\u001b[49m\u001b[43m,\u001b[49m\n\u001b[0;32m   1950\u001b[0m \u001b[43m        \u001b[49m\u001b[43mctypes\u001b[49m\u001b[38;5;241;43m.\u001b[39;49m\u001b[43mbyref\u001b[49m\u001b[43m(\u001b[49m\u001b[43mlength\u001b[49m\u001b[43m)\u001b[49m\u001b[43m,\u001b[49m\n\u001b[0;32m   1951\u001b[0m \u001b[43m        \u001b[49m\u001b[43mctypes\u001b[49m\u001b[38;5;241;43m.\u001b[39;49m\u001b[43mbyref\u001b[49m\u001b[43m(\u001b[49m\u001b[43msarr\u001b[49m\u001b[43m)\u001b[49m\u001b[43m,\u001b[49m\n\u001b[0;32m   1952\u001b[0m \u001b[43m    \u001b[49m\u001b[43m)\u001b[49m\n\u001b[0;32m   1953\u001b[0m )\n\u001b[0;32m   1954\u001b[0m feature_info \u001b[38;5;241m=\u001b[39m from_cstr_to_pystr(sarr, length)\n\u001b[0;32m   1955\u001b[0m \u001b[38;5;28;01mreturn\u001b[39;00m feature_info \u001b[38;5;28;01mif\u001b[39;00m feature_info \u001b[38;5;28;01melse\u001b[39;00m \u001b[38;5;28;01mNone\u001b[39;00m\n",
      "\u001b[1;31mKeyboardInterrupt\u001b[0m: "
     ]
    }
   ],
   "source": [
    "import xgboost as xgb\n",
    "from sklearn.model_selection import train_test_split\n",
    "from sklearn.metrics import roc_auc_score, precision_recall_curve, average_precision_score, roc_curve\n",
    "from collections import Counter\n",
    "from tqdm import tqdm\n",
    "import numpy as np\n",
    "import optuna\n",
    "\n",
    "# Define the objective function for Optuna\n",
    "def objective(trial):\n",
    "    # Define the parameter space for Optuna to search\n",
    "    param = {\n",
    "        'objective': 'binary:logistic',\n",
    "        'eval_metric': 'logloss',\n",
    "        'eta': trial.suggest_loguniform('eta', 0.01, 0.3),\n",
    "        'max_depth': trial.suggest_int('max_depth', 3, 9),\n",
    "        'min_child_weight': trial.suggest_int('min_child_weight', 1, 10),\n",
    "        'subsample': trial.suggest_uniform('subsample', 0.5, 1.0),\n",
    "        'colsample_bytree': trial.suggest_uniform('colsample_bytree', 0.5, 1.0),\n",
    "        'lambda': trial.suggest_loguniform('lambda', 1e-8, 1.0),\n",
    "        'alpha': trial.suggest_loguniform('alpha', 1e-8, 1.0),\n",
    "    }\n",
    "    num_boost_round = trial.suggest_int('num_boost_round', 50, 1000)\n",
    "    early_stopping_rounds = trial.suggest_int('early_stopping_rounds', 10, 50)\n",
    "\n",
    "    # Dictionary to collect results in\n",
    "    metrics = ['auc', 'fpr', 'tpr', 'avgp', 'precision', 'recall', 'thresholds']\n",
    "    results = {\n",
    "        'train': {m: [] for m in metrics},\n",
    "        'val': {m: [] for m in metrics}\n",
    "    }\n",
    "\n",
    "    # Cross-validation loop\n",
    "    for train_idx, test_idx in folds:\n",
    "        X_train_fold, X_val_fold = X_train_cat.iloc[train_idx, :], X_train_cat.iloc[test_idx, :]\n",
    "        y_train_fold, y_val_fold = y_train.iloc[train_idx], y_train.iloc[test_idx]\n",
    "\n",
    "        # Convert data to DMatrix format\n",
    "        dtrain = xgb.DMatrix(X_train_fold, label=y_train_fold, enable_categorical=True)\n",
    "        dval = xgb.DMatrix(X_val_fold, label=y_val_fold, enable_categorical=True)\n",
    "\n",
    "        # Train the model\n",
    "        model = xgb.train(\n",
    "            dtrain=dtrain,\n",
    "            params=param,\n",
    "            evals=[(dtrain, 'train'), (dval, 'val')],\n",
    "            num_boost_round=num_boost_round,\n",
    "            verbose_eval=False,\n",
    "            early_stopping_rounds=early_stopping_rounds\n",
    "        )\n",
    "\n",
    "        # Collect results\n",
    "        sets = [dtrain, dval]\n",
    "        for i, ds in enumerate(results.keys()):\n",
    "            y_preds = model.predict(sets[i])\n",
    "            labels = sets[i].get_label()\n",
    "            fpr, tpr, thresholds = roc_curve(labels, y_preds)\n",
    "            precision, recall, thresholds = precision_recall_curve(labels, y_preds)\n",
    "            results[ds]['fpr'].append(fpr)\n",
    "            results[ds]['tpr'].append(tpr)\n",
    "            results[ds]['precision'].append(precision)\n",
    "            results[ds]['recall'].append(recall)\n",
    "            results[ds]['thresholds'].append(thresholds)\n",
    "            results[ds]['auc'].append(roc_auc_score(labels, y_preds))\n",
    "            results[ds]['avgp'].append(average_precision_score(labels, y_preds))\n",
    "\n",
    "    # Return the average AUC score for validation sets\n",
    "    mean_auc = np.mean(results['val']['auc'])\n",
    "    return mean_auc\n",
    "\n",
    "# Create Optuna study and optimize\n",
    "study = optuna.create_study(direction='maximize')\n",
    "study.optimize(objective, n_trials=100, timeout=600)\n",
    "pruned_trials = [t for t in study.trials if t.state == optuna.trial.TrialState.PRUNED]\n",
    "complete_trials = [t for t in study.trials if t.state == optuna.trial.TrialState.COMPLETE]\n",
    "\n",
    "print(\"Best parameters: \", study.best_params)\n",
    "\n",
    "# Evaluate the final model\n",
    "print(\"Final Results: \")\n",
    "for metric in metrics:\n",
    "    print(f\"Train {metric}: {np.mean(results['train'][metric])}\")\n",
    "    print(f\"Val {metric}: {np.mean(results['val'][metric])}\")"
   ]
  },
  {
   "cell_type": "code",
   "execution_count": 63,
   "metadata": {},
   "outputs": [
    {
     "data": {
      "text/plain": [
       "{'min_child_weight': 0.7086795521679927,\n",
       " 'eta': 0.13986996586611386,\n",
       " 'colsample_bytree': 0.046630811775871736,\n",
       " 'early_stopping_rounds': 0.03928656540800789,\n",
       " 'num_boost_round': 0.023965921700959583,\n",
       " 'subsample': 0.020735304192367857,\n",
       " 'max_depth': 0.0194320288259058,\n",
       " 'lambda': 0.0008845844799145277,\n",
       " 'alpha': 0.0005152655828659408}"
      ]
     },
     "execution_count": 63,
     "metadata": {},
     "output_type": "execute_result"
    }
   ],
   "source": [
    "optuna.importance.get_param_importances(study)"
   ]
  },
  {
   "cell_type": "markdown",
   "metadata": {},
   "source": [
    "## 3.2 Model Building"
   ]
  },
  {
   "cell_type": "code",
   "execution_count": 36,
   "metadata": {},
   "outputs": [
    {
     "name": "stderr",
     "output_type": "stream",
     "text": [
      "100%|████████████████████████████████████████████████████████████████████████████████| 500/500 [02:34<00:00,  3.24it/s]\n"
     ]
    }
   ],
   "source": [
    "#Cost-Sensitive XGBoost for class imbalance \n",
    "counter = Counter(y)\n",
    "# Estimate scale_pos_weight value, with class labels are 0 (not affected) and 1 (affected).\n",
    "#weight = counter[0] / counter[1]\n",
    "\n",
    "# Dictionary to collect results in:\n",
    "metrics = ['auc', 'fpr', 'tpr', 'avgp', 'precision', 'recall', 'thresholds']\n",
    "results = {\n",
    "    'train': {m:[] for m in metrics},\n",
    "    'val'  : {m:[] for m in metrics}\n",
    "}\n",
    "\n",
    "# To initialise XGBoost we have to chose some parameters:\n",
    "\"\"\"\n",
    "params = {\n",
    "    'objective'  : 'binary:logistic',\n",
    "    'eval_metric' : 'auc',\n",
    "    'eta': 0.037570576528923254,\n",
    "    'max_depth': 8,\n",
    "    'min_child_weight': 10,\n",
    "    'subsample': 0.6523374183668105,\n",
    "    'colsample_bytree': 0.9043997622431874,\n",
    "    'lambda': 0.2171774411236415,\n",
    "    'alpha': 0.009859752527977033\n",
    "}\n",
    "\n",
    "\"\"\"\n",
    "# w/o lab\n",
    "params = {\n",
    "    'objective'   : 'binary:logistic',\n",
    "    'eval_metric' : 'auc',\n",
    "    'eta': 0.015629208905638542,\n",
    "    'max_depth': 7,\n",
    "    'min_child_weight': 7,\n",
    "    'subsample': 0.8052306317794611,\n",
    "    'colsample_bytree': 0.9377262055447466,\n",
    "    'lambda': 0.25026720118532253,\n",
    "    'alpha': 0.002593031047346012\n",
    "    }\n",
    "\n",
    "## Run our cross-validation and save all scores to our dictionary\n",
    "for train, test in tqdm(folds, total=len(folds)):\n",
    "    X_train_fold, X_val_fold = X_train_cat.iloc[train,:], X_train_cat.iloc[test,:]\n",
    "    y_train_fold, y_val_fold = y_train.iloc[train], y_train.iloc[test]\n",
    "    \n",
    "    # Convert data to DMatrix format\n",
    "    dtrain = xgb.DMatrix(X_train_fold, label=y_train_fold, enable_categorical = True)\n",
    "    dval   = xgb.DMatrix(X_val_cat, label=y_val, enable_categorical = True)\n",
    "\n",
    "    # Train the model\n",
    "    model = xgb.train(\n",
    "        dtrain                = dtrain,\n",
    "        params                = params, \n",
    "        evals                 = [(dtrain, 'train'), (dval, 'val')],\n",
    "        #num_boost_round       = 785,\n",
    "        num_boost_round       = 740, #w/o lab\n",
    "        verbose_eval          = False,\n",
    "        #early_stopping_rounds = 46,\n",
    "        early_stopping_rounds = 45, #w/o lab\n",
    "    )\n",
    "\n",
    "    # Collect results\n",
    "    sets = [dtrain, dval]\n",
    "    for i, ds in enumerate(results.keys()):\n",
    "        y_preds              = model.predict(sets[i])\n",
    "        labels               = sets[i].get_label()\n",
    "        fpr, tpr, thresholds = roc_curve(labels, y_preds)\n",
    "        precision, recall, thresholds = precision_recall_curve(labels, y_preds)\n",
    "        results[ds]['fpr'].append(fpr)\n",
    "        results[ds]['tpr'].append(tpr)\n",
    "        results[ds]['precision'].append(precision)\n",
    "        results[ds]['recall'].append(recall)\n",
    "        results[ds]['thresholds'].append(thresholds)\n",
    "        results[ds]['auc'].append(roc_auc_score(labels, y_preds))\n",
    "        results[ds]['avgp'].append(average_precision_score(labels, y_preds))"
   ]
  },
  {
   "cell_type": "markdown",
   "metadata": {},
   "source": [
    "###  Save XGBoost Model"
   ]
  },
  {
   "cell_type": "code",
   "execution_count": 65,
   "metadata": {},
   "outputs": [],
   "source": [
    "# Train your XGBoost model\n",
    "# Example:\n",
    "# xgb_model = xgb.XGBClassifier()\n",
    "# xgb_model.fit(X_train, y_train)\n",
    "\n",
    "# Save the model to a file\n",
    "with open('XGB_model.pkl', 'wb') as model_file:\n",
    "    pickle.dump(model, model_file)\n",
    "\n",
    "# Load the model for predictions\n",
    "with open('XGB_model.pkl', 'rb') as model_file:\n",
    "    loaded_model = pickle.load(model_file)\n",
    "\n",
    "# convert\n",
    "dval = xgb.DMatrix(X_val_cat, label=y_val)\n",
    "    \n",
    "# Now, you can use loaded_model to make predictions\n",
    "predictions = loaded_model.predict(dval)"
   ]
  },
  {
   "cell_type": "markdown",
   "metadata": {},
   "source": [
    "<a name='4-1'></a>\n",
    "## 4 - AUROC Plots"
   ]
  },
  {
   "cell_type": "markdown",
   "metadata": {},
   "source": [
    "<a name='4-2'></a>\n",
    "### 4.1 ROC Curve\n",
    "\n",
    "ROC Curve is useful to compare with other models trained with different data but in the same field of research. With the cross validation, the ROC is plotted with a confidence interval to show the robustness of the classifier. \n",
    "\n",
    "Sensitivity and specificity are two of the most prominent numbers that are used to measure diagnostics tests.\n",
    "- Sensitivity is the probability that our test outputs positive given that the case is actually positive.\n",
    "- Specificity is the probability that the test outputs negative given that the case is actually negative. \n",
    "\n",
    "We can phrase this easily in terms of true positives, true negatives, false positives, and false negatives: \n",
    "\n",
    "$$sensitivity = \\frac{\\text{true positives}}{\\text{true positives} + \\text{false negatives}}$$\n",
    "\n",
    "$$specificity = \\frac{\\text{true negatives}}{\\text{true negatives} + \\text{false positives}}$$\n",
    "\n",
    "- Smaller values on the x-axis of the plot indicate lower false positives and higher true negatives.\n",
    "- Larger values on the y-axis of the plot indicate higher true positives and lower false negatives."
   ]
  },
  {
   "cell_type": "code",
   "execution_count": 69,
   "metadata": {},
   "outputs": [
    {
     "data": {
      "application/vnd.plotly.v1+json": {
       "config": {
        "plotlyServerURL": "https://plot.ly"
       },
       "data": [
        {
         "hoverinfo": "name+x+y",
         "line": {
          "color": "rgba(45, 130, 164, 0.5)",
          "width": 1
         },
         "name": "upper",
         "showlegend": false,
         "type": "scatter",
         "x": [
          0,
          0.010101010101010102,
          0.020202020202020204,
          0.030303030303030304,
          0.04040404040404041,
          0.05050505050505051,
          0.06060606060606061,
          0.07070707070707072,
          0.08080808080808081,
          0.09090909090909091,
          0.10101010101010102,
          0.11111111111111112,
          0.12121212121212122,
          0.13131313131313133,
          0.14141414141414144,
          0.15151515151515152,
          0.16161616161616163,
          0.17171717171717174,
          0.18181818181818182,
          0.19191919191919193,
          0.20202020202020204,
          0.21212121212121213,
          0.22222222222222224,
          0.23232323232323235,
          0.24242424242424243,
          0.25252525252525254,
          0.26262626262626265,
          0.27272727272727276,
          0.2828282828282829,
          0.29292929292929293,
          0.30303030303030304,
          0.31313131313131315,
          0.32323232323232326,
          0.33333333333333337,
          0.3434343434343435,
          0.3535353535353536,
          0.36363636363636365,
          0.37373737373737376,
          0.38383838383838387,
          0.393939393939394,
          0.4040404040404041,
          0.4141414141414142,
          0.42424242424242425,
          0.43434343434343436,
          0.4444444444444445,
          0.4545454545454546,
          0.4646464646464647,
          0.4747474747474748,
          0.48484848484848486,
          0.494949494949495,
          0.5050505050505051,
          0.5151515151515152,
          0.5252525252525253,
          0.5353535353535354,
          0.5454545454545455,
          0.5555555555555556,
          0.5656565656565657,
          0.5757575757575758,
          0.5858585858585859,
          0.595959595959596,
          0.6060606060606061,
          0.6161616161616162,
          0.6262626262626263,
          0.6363636363636365,
          0.6464646464646465,
          0.6565656565656566,
          0.6666666666666667,
          0.6767676767676768,
          0.686868686868687,
          0.696969696969697,
          0.7070707070707072,
          0.7171717171717172,
          0.7272727272727273,
          0.7373737373737375,
          0.7474747474747475,
          0.7575757575757577,
          0.7676767676767677,
          0.7777777777777778,
          0.787878787878788,
          0.797979797979798,
          0.8080808080808082,
          0.8181818181818182,
          0.8282828282828284,
          0.8383838383838385,
          0.8484848484848485,
          0.8585858585858587,
          0.8686868686868687,
          0.8787878787878789,
          0.888888888888889,
          0.8989898989898991,
          0.9090909090909092,
          0.9191919191919192,
          0.9292929292929294,
          0.9393939393939394,
          0.9494949494949496,
          0.9595959595959597,
          0.9696969696969697,
          0.9797979797979799,
          0.98989898989899,
          1
         ],
         "y": [
          0,
          0.6626568152450915,
          0.6626568152450915,
          0.7511982292030287,
          0.7511982292030287,
          0.7511982292030287,
          0.8318836067227261,
          0.8318836067227261,
          0.8318836067227261,
          0.8561286530540284,
          0.8561286530540284,
          0.8561286530540284,
          0.8731064362862337,
          0.8731064362862337,
          0.8731064362862337,
          0.9000457504294261,
          0.9000457504294261,
          0.9000457504294261,
          0.9281403556725301,
          0.9281403556725301,
          0.9281403556725301,
          0.9553751297661771,
          0.9553751297661771,
          0.9553751297661771,
          0.9783219152665708,
          0.9783219152665708,
          0.9783219152665708,
          0.9912106626113009,
          0.9912106626113009,
          0.9912106626113009,
          0.9930677790146094,
          0.9930677790146094,
          0.9930677790146094,
          0.9989365471888505,
          0.9989365471888505,
          1,
          1,
          1,
          1,
          1,
          1,
          1,
          1,
          1,
          1,
          1,
          1,
          1,
          1,
          1,
          1,
          1,
          1,
          1,
          1,
          1,
          1,
          1,
          1,
          1,
          1,
          1,
          1,
          1,
          1,
          1,
          1,
          1,
          1,
          1,
          1,
          1,
          1,
          1,
          1,
          1,
          1,
          1,
          1,
          1,
          1,
          1,
          1,
          1,
          1,
          1,
          1,
          1,
          1,
          1,
          1,
          1,
          1,
          1,
          1,
          1,
          1,
          1,
          1,
          1
         ]
        },
        {
         "fill": "tonexty",
         "fillcolor": "rgba(45, 130, 164, 0.2)",
         "hoverinfo": "name+x+y",
         "line": {
          "color": "rgba(45, 130, 164, 0.5)",
          "width": 1
         },
         "name": "lower",
         "showlegend": false,
         "type": "scatter",
         "x": [
          0,
          0.010101010101010102,
          0.020202020202020204,
          0.030303030303030304,
          0.04040404040404041,
          0.05050505050505051,
          0.06060606060606061,
          0.07070707070707072,
          0.08080808080808081,
          0.09090909090909091,
          0.10101010101010102,
          0.11111111111111112,
          0.12121212121212122,
          0.13131313131313133,
          0.14141414141414144,
          0.15151515151515152,
          0.16161616161616163,
          0.17171717171717174,
          0.18181818181818182,
          0.19191919191919193,
          0.20202020202020204,
          0.21212121212121213,
          0.22222222222222224,
          0.23232323232323235,
          0.24242424242424243,
          0.25252525252525254,
          0.26262626262626265,
          0.27272727272727276,
          0.2828282828282829,
          0.29292929292929293,
          0.30303030303030304,
          0.31313131313131315,
          0.32323232323232326,
          0.33333333333333337,
          0.3434343434343435,
          0.3535353535353536,
          0.36363636363636365,
          0.37373737373737376,
          0.38383838383838387,
          0.393939393939394,
          0.4040404040404041,
          0.4141414141414142,
          0.42424242424242425,
          0.43434343434343436,
          0.4444444444444445,
          0.4545454545454546,
          0.4646464646464647,
          0.4747474747474748,
          0.48484848484848486,
          0.494949494949495,
          0.5050505050505051,
          0.5151515151515152,
          0.5252525252525253,
          0.5353535353535354,
          0.5454545454545455,
          0.5555555555555556,
          0.5656565656565657,
          0.5757575757575758,
          0.5858585858585859,
          0.595959595959596,
          0.6060606060606061,
          0.6161616161616162,
          0.6262626262626263,
          0.6363636363636365,
          0.6464646464646465,
          0.6565656565656566,
          0.6666666666666667,
          0.6767676767676768,
          0.686868686868687,
          0.696969696969697,
          0.7070707070707072,
          0.7171717171717172,
          0.7272727272727273,
          0.7373737373737375,
          0.7474747474747475,
          0.7575757575757577,
          0.7676767676767677,
          0.7777777777777778,
          0.787878787878788,
          0.797979797979798,
          0.8080808080808082,
          0.8181818181818182,
          0.8282828282828284,
          0.8383838383838385,
          0.8484848484848485,
          0.8585858585858587,
          0.8686868686868687,
          0.8787878787878789,
          0.888888888888889,
          0.8989898989898991,
          0.9090909090909092,
          0.9191919191919192,
          0.9292929292929294,
          0.9393939393939394,
          0.9494949494949496,
          0.9595959595959597,
          0.9696969696969697,
          0.9797979797979799,
          0.98989898989899,
          1
         ],
         "y": [
          0,
          0.17499024357843784,
          0.17499024357843784,
          0.38939000609108965,
          0.38939000609108965,
          0.38939000609108965,
          0.5669399226890383,
          0.5669399226890383,
          0.5669399226890383,
          0.666224288122442,
          0.666224288122442,
          0.666224288122442,
          0.7221876813608259,
          0.7221876813608259,
          0.7221876813608259,
          0.7581895436882213,
          0.7581895436882213,
          0.7581895436882213,
          0.782447879621587,
          0.782447879621587,
          0.782447879621587,
          0.8058013408220565,
          0.8058013408220565,
          0.8058013408220565,
          0.82344279061578,
          0.82344279061578,
          0.82344279061578,
          0.8393775726828143,
          0.8393775726828143,
          0.8393775726828143,
          0.8651675151030345,
          0.8651675151030345,
          0.8651675151030345,
          0.8763575704582047,
          0.8763575704582047,
          0.8920230225667123,
          0.8920230225667123,
          0.8920230225667123,
          0.9012987650877045,
          0.9012987650877045,
          0.9012987650877045,
          0.9107932271181652,
          0.9107932271181652,
          0.9107932271181652,
          0.9246743156974055,
          0.9246743156974055,
          0.9246743156974055,
          0.9307471085955312,
          0.9307471085955312,
          0.9307471085955312,
          0.9385213545028892,
          0.9385213545028892,
          0.9385213545028892,
          0.9430084583302202,
          0.9430084583302202,
          0.9430084583302202,
          0.9501473541235619,
          0.9501473541235619,
          0.9501473541235619,
          0.967781095731483,
          0.967781095731483,
          0.967781095731483,
          0.9721066203384722,
          0.9721066203384722,
          0.9721066203384722,
          0.980518719974995,
          0.980518719974995,
          0.9857091207542921,
          0.9857091207542921,
          0.9857091207542921,
          0.9872965188574909,
          0.9872965188574909,
          0.9872965188574909,
          0.9911764705882353,
          0.9911764705882353,
          0.9911764705882353,
          0.9911764705882353,
          0.9911764705882353,
          0.9911764705882353,
          0.9911764705882353,
          0.9911764705882353,
          0.9911764705882353,
          1,
          1,
          1,
          1,
          1,
          1,
          1,
          1,
          1,
          1,
          1,
          1,
          1,
          1,
          1,
          1,
          1,
          1
         ]
        },
        {
         "hoverinfo": "x+y",
         "line": {
          "color": "rgba(45, 130, 164, 1.0)",
          "dash": "solid",
          "width": 4
         },
         "name": "HIVE-LAB model AUROC 0.919",
         "showlegend": true,
         "type": "scatter",
         "x": [
          0,
          0.010101010101010102,
          0.020202020202020204,
          0.030303030303030304,
          0.04040404040404041,
          0.05050505050505051,
          0.06060606060606061,
          0.07070707070707072,
          0.08080808080808081,
          0.09090909090909091,
          0.10101010101010102,
          0.11111111111111112,
          0.12121212121212122,
          0.13131313131313133,
          0.14141414141414144,
          0.15151515151515152,
          0.16161616161616163,
          0.17171717171717174,
          0.18181818181818182,
          0.19191919191919193,
          0.20202020202020204,
          0.21212121212121213,
          0.22222222222222224,
          0.23232323232323235,
          0.24242424242424243,
          0.25252525252525254,
          0.26262626262626265,
          0.27272727272727276,
          0.2828282828282829,
          0.29292929292929293,
          0.30303030303030304,
          0.31313131313131315,
          0.32323232323232326,
          0.33333333333333337,
          0.3434343434343435,
          0.3535353535353536,
          0.36363636363636365,
          0.37373737373737376,
          0.38383838383838387,
          0.393939393939394,
          0.4040404040404041,
          0.4141414141414142,
          0.42424242424242425,
          0.43434343434343436,
          0.4444444444444445,
          0.4545454545454546,
          0.4646464646464647,
          0.4747474747474748,
          0.48484848484848486,
          0.494949494949495,
          0.5050505050505051,
          0.5151515151515152,
          0.5252525252525253,
          0.5353535353535354,
          0.5454545454545455,
          0.5555555555555556,
          0.5656565656565657,
          0.5757575757575758,
          0.5858585858585859,
          0.595959595959596,
          0.6060606060606061,
          0.6161616161616162,
          0.6262626262626263,
          0.6363636363636365,
          0.6464646464646465,
          0.6565656565656566,
          0.6666666666666667,
          0.6767676767676768,
          0.686868686868687,
          0.696969696969697,
          0.7070707070707072,
          0.7171717171717172,
          0.7272727272727273,
          0.7373737373737375,
          0.7474747474747475,
          0.7575757575757577,
          0.7676767676767677,
          0.7777777777777778,
          0.787878787878788,
          0.797979797979798,
          0.8080808080808082,
          0.8181818181818182,
          0.8282828282828284,
          0.8383838383838385,
          0.8484848484848485,
          0.8585858585858587,
          0.8686868686868687,
          0.8787878787878789,
          0.888888888888889,
          0.8989898989898991,
          0.9090909090909092,
          0.9191919191919192,
          0.9292929292929294,
          0.9393939393939394,
          0.9494949494949496,
          0.9595959595959597,
          0.9696969696969697,
          0.9797979797979799,
          0.98989898989899,
          1
         ],
         "y": [
          0,
          0.41882352941176465,
          0.41882352941176465,
          0.5702941176470592,
          0.5702941176470592,
          0.5702941176470592,
          0.6994117647058822,
          0.6994117647058822,
          0.6994117647058822,
          0.7611764705882352,
          0.7611764705882352,
          0.7611764705882352,
          0.7976470588235298,
          0.7976470588235298,
          0.7976470588235298,
          0.8291176470588237,
          0.8291176470588237,
          0.8291176470588237,
          0.8552941176470585,
          0.8552941176470585,
          0.8552941176470585,
          0.8805882352941168,
          0.8805882352941168,
          0.8805882352941168,
          0.9008823529411754,
          0.9008823529411754,
          0.9008823529411754,
          0.9152941176470576,
          0.9152941176470576,
          0.9152941176470576,
          0.9291176470588219,
          0.9291176470588219,
          0.9291176470588219,
          0.9376470588235276,
          0.9376470588235276,
          0.9488235294117632,
          0.9488235294117632,
          0.9488235294117632,
          0.9567647058823515,
          0.9567647058823515,
          0.9567647058823515,
          0.9647058823529399,
          0.9647058823529399,
          0.9647058823529399,
          0.9726470588235285,
          0.9726470588235285,
          0.9726470588235285,
          0.9755882352941169,
          0.9755882352941169,
          0.9755882352941169,
          0.9814705882352935,
          0.9814705882352935,
          0.9814705882352935,
          0.9841176470588229,
          0.9841176470588229,
          0.9841176470588229,
          0.9867647058823523,
          0.9867647058823523,
          0.9867647058823523,
          0.9935294117647057,
          0.9935294117647057,
          0.9935294117647057,
          0.994705882352941,
          0.994705882352941,
          0.994705882352941,
          0.9973529411764704,
          0.9973529411764704,
          0.9985294117647058,
          0.9985294117647058,
          0.9985294117647058,
          0.9988235294117647,
          0.9988235294117647,
          0.9988235294117647,
          0.9994117647058823,
          0.9994117647058823,
          0.9994117647058823,
          0.9994117647058823,
          0.9994117647058823,
          0.9994117647058823,
          0.9994117647058823,
          0.9994117647058823,
          0.9994117647058823,
          1,
          1,
          1,
          1,
          1,
          1,
          1,
          1,
          1,
          1,
          1,
          1,
          1,
          1,
          1,
          1,
          1,
          1
         ]
        }
       ],
       "layout": {
        "height": 800,
        "legend": {
         "font": {
          "size": 30
         },
         "x": 1.05,
         "xanchor": "right",
         "y": 0.02,
         "yanchor": "bottom"
        },
        "shapes": [
         {
          "line": {
           "color": "grey",
           "dash": "dash",
           "width": 1
          },
          "type": "line",
          "x0": 0,
          "x1": 1,
          "y0": 0,
          "y1": 1
         }
        ],
        "template": {
         "data": {
          "bar": [
           {
            "error_x": {
             "color": "#2a3f5f"
            },
            "error_y": {
             "color": "#2a3f5f"
            },
            "marker": {
             "line": {
              "color": "white",
              "width": 0.5
             },
             "pattern": {
              "fillmode": "overlay",
              "size": 10,
              "solidity": 0.2
             }
            },
            "type": "bar"
           }
          ],
          "barpolar": [
           {
            "marker": {
             "line": {
              "color": "white",
              "width": 0.5
             },
             "pattern": {
              "fillmode": "overlay",
              "size": 10,
              "solidity": 0.2
             }
            },
            "type": "barpolar"
           }
          ],
          "carpet": [
           {
            "aaxis": {
             "endlinecolor": "#2a3f5f",
             "gridcolor": "#C8D4E3",
             "linecolor": "#C8D4E3",
             "minorgridcolor": "#C8D4E3",
             "startlinecolor": "#2a3f5f"
            },
            "baxis": {
             "endlinecolor": "#2a3f5f",
             "gridcolor": "#C8D4E3",
             "linecolor": "#C8D4E3",
             "minorgridcolor": "#C8D4E3",
             "startlinecolor": "#2a3f5f"
            },
            "type": "carpet"
           }
          ],
          "choropleth": [
           {
            "colorbar": {
             "outlinewidth": 0,
             "ticks": ""
            },
            "type": "choropleth"
           }
          ],
          "contour": [
           {
            "colorbar": {
             "outlinewidth": 0,
             "ticks": ""
            },
            "colorscale": [
             [
              0,
              "#0d0887"
             ],
             [
              0.1111111111111111,
              "#46039f"
             ],
             [
              0.2222222222222222,
              "#7201a8"
             ],
             [
              0.3333333333333333,
              "#9c179e"
             ],
             [
              0.4444444444444444,
              "#bd3786"
             ],
             [
              0.5555555555555556,
              "#d8576b"
             ],
             [
              0.6666666666666666,
              "#ed7953"
             ],
             [
              0.7777777777777778,
              "#fb9f3a"
             ],
             [
              0.8888888888888888,
              "#fdca26"
             ],
             [
              1,
              "#f0f921"
             ]
            ],
            "type": "contour"
           }
          ],
          "contourcarpet": [
           {
            "colorbar": {
             "outlinewidth": 0,
             "ticks": ""
            },
            "type": "contourcarpet"
           }
          ],
          "heatmap": [
           {
            "colorbar": {
             "outlinewidth": 0,
             "ticks": ""
            },
            "colorscale": [
             [
              0,
              "#0d0887"
             ],
             [
              0.1111111111111111,
              "#46039f"
             ],
             [
              0.2222222222222222,
              "#7201a8"
             ],
             [
              0.3333333333333333,
              "#9c179e"
             ],
             [
              0.4444444444444444,
              "#bd3786"
             ],
             [
              0.5555555555555556,
              "#d8576b"
             ],
             [
              0.6666666666666666,
              "#ed7953"
             ],
             [
              0.7777777777777778,
              "#fb9f3a"
             ],
             [
              0.8888888888888888,
              "#fdca26"
             ],
             [
              1,
              "#f0f921"
             ]
            ],
            "type": "heatmap"
           }
          ],
          "heatmapgl": [
           {
            "colorbar": {
             "outlinewidth": 0,
             "ticks": ""
            },
            "colorscale": [
             [
              0,
              "#0d0887"
             ],
             [
              0.1111111111111111,
              "#46039f"
             ],
             [
              0.2222222222222222,
              "#7201a8"
             ],
             [
              0.3333333333333333,
              "#9c179e"
             ],
             [
              0.4444444444444444,
              "#bd3786"
             ],
             [
              0.5555555555555556,
              "#d8576b"
             ],
             [
              0.6666666666666666,
              "#ed7953"
             ],
             [
              0.7777777777777778,
              "#fb9f3a"
             ],
             [
              0.8888888888888888,
              "#fdca26"
             ],
             [
              1,
              "#f0f921"
             ]
            ],
            "type": "heatmapgl"
           }
          ],
          "histogram": [
           {
            "marker": {
             "pattern": {
              "fillmode": "overlay",
              "size": 10,
              "solidity": 0.2
             }
            },
            "type": "histogram"
           }
          ],
          "histogram2d": [
           {
            "colorbar": {
             "outlinewidth": 0,
             "ticks": ""
            },
            "colorscale": [
             [
              0,
              "#0d0887"
             ],
             [
              0.1111111111111111,
              "#46039f"
             ],
             [
              0.2222222222222222,
              "#7201a8"
             ],
             [
              0.3333333333333333,
              "#9c179e"
             ],
             [
              0.4444444444444444,
              "#bd3786"
             ],
             [
              0.5555555555555556,
              "#d8576b"
             ],
             [
              0.6666666666666666,
              "#ed7953"
             ],
             [
              0.7777777777777778,
              "#fb9f3a"
             ],
             [
              0.8888888888888888,
              "#fdca26"
             ],
             [
              1,
              "#f0f921"
             ]
            ],
            "type": "histogram2d"
           }
          ],
          "histogram2dcontour": [
           {
            "colorbar": {
             "outlinewidth": 0,
             "ticks": ""
            },
            "colorscale": [
             [
              0,
              "#0d0887"
             ],
             [
              0.1111111111111111,
              "#46039f"
             ],
             [
              0.2222222222222222,
              "#7201a8"
             ],
             [
              0.3333333333333333,
              "#9c179e"
             ],
             [
              0.4444444444444444,
              "#bd3786"
             ],
             [
              0.5555555555555556,
              "#d8576b"
             ],
             [
              0.6666666666666666,
              "#ed7953"
             ],
             [
              0.7777777777777778,
              "#fb9f3a"
             ],
             [
              0.8888888888888888,
              "#fdca26"
             ],
             [
              1,
              "#f0f921"
             ]
            ],
            "type": "histogram2dcontour"
           }
          ],
          "mesh3d": [
           {
            "colorbar": {
             "outlinewidth": 0,
             "ticks": ""
            },
            "type": "mesh3d"
           }
          ],
          "parcoords": [
           {
            "line": {
             "colorbar": {
              "outlinewidth": 0,
              "ticks": ""
             }
            },
            "type": "parcoords"
           }
          ],
          "pie": [
           {
            "automargin": true,
            "type": "pie"
           }
          ],
          "scatter": [
           {
            "fillpattern": {
             "fillmode": "overlay",
             "size": 10,
             "solidity": 0.2
            },
            "type": "scatter"
           }
          ],
          "scatter3d": [
           {
            "line": {
             "colorbar": {
              "outlinewidth": 0,
              "ticks": ""
             }
            },
            "marker": {
             "colorbar": {
              "outlinewidth": 0,
              "ticks": ""
             }
            },
            "type": "scatter3d"
           }
          ],
          "scattercarpet": [
           {
            "marker": {
             "colorbar": {
              "outlinewidth": 0,
              "ticks": ""
             }
            },
            "type": "scattercarpet"
           }
          ],
          "scattergeo": [
           {
            "marker": {
             "colorbar": {
              "outlinewidth": 0,
              "ticks": ""
             }
            },
            "type": "scattergeo"
           }
          ],
          "scattergl": [
           {
            "marker": {
             "colorbar": {
              "outlinewidth": 0,
              "ticks": ""
             }
            },
            "type": "scattergl"
           }
          ],
          "scattermapbox": [
           {
            "marker": {
             "colorbar": {
              "outlinewidth": 0,
              "ticks": ""
             }
            },
            "type": "scattermapbox"
           }
          ],
          "scatterpolar": [
           {
            "marker": {
             "colorbar": {
              "outlinewidth": 0,
              "ticks": ""
             }
            },
            "type": "scatterpolar"
           }
          ],
          "scatterpolargl": [
           {
            "marker": {
             "colorbar": {
              "outlinewidth": 0,
              "ticks": ""
             }
            },
            "type": "scatterpolargl"
           }
          ],
          "scatterternary": [
           {
            "marker": {
             "colorbar": {
              "outlinewidth": 0,
              "ticks": ""
             }
            },
            "type": "scatterternary"
           }
          ],
          "surface": [
           {
            "colorbar": {
             "outlinewidth": 0,
             "ticks": ""
            },
            "colorscale": [
             [
              0,
              "#0d0887"
             ],
             [
              0.1111111111111111,
              "#46039f"
             ],
             [
              0.2222222222222222,
              "#7201a8"
             ],
             [
              0.3333333333333333,
              "#9c179e"
             ],
             [
              0.4444444444444444,
              "#bd3786"
             ],
             [
              0.5555555555555556,
              "#d8576b"
             ],
             [
              0.6666666666666666,
              "#ed7953"
             ],
             [
              0.7777777777777778,
              "#fb9f3a"
             ],
             [
              0.8888888888888888,
              "#fdca26"
             ],
             [
              1,
              "#f0f921"
             ]
            ],
            "type": "surface"
           }
          ],
          "table": [
           {
            "cells": {
             "fill": {
              "color": "#EBF0F8"
             },
             "line": {
              "color": "white"
             }
            },
            "header": {
             "fill": {
              "color": "#C8D4E3"
             },
             "line": {
              "color": "white"
             }
            },
            "type": "table"
           }
          ]
         },
         "layout": {
          "annotationdefaults": {
           "arrowcolor": "#2a3f5f",
           "arrowhead": 0,
           "arrowwidth": 1
          },
          "autotypenumbers": "strict",
          "coloraxis": {
           "colorbar": {
            "outlinewidth": 0,
            "ticks": ""
           }
          },
          "colorscale": {
           "diverging": [
            [
             0,
             "#8e0152"
            ],
            [
             0.1,
             "#c51b7d"
            ],
            [
             0.2,
             "#de77ae"
            ],
            [
             0.3,
             "#f1b6da"
            ],
            [
             0.4,
             "#fde0ef"
            ],
            [
             0.5,
             "#f7f7f7"
            ],
            [
             0.6,
             "#e6f5d0"
            ],
            [
             0.7,
             "#b8e186"
            ],
            [
             0.8,
             "#7fbc41"
            ],
            [
             0.9,
             "#4d9221"
            ],
            [
             1,
             "#276419"
            ]
           ],
           "sequential": [
            [
             0,
             "#0d0887"
            ],
            [
             0.1111111111111111,
             "#46039f"
            ],
            [
             0.2222222222222222,
             "#7201a8"
            ],
            [
             0.3333333333333333,
             "#9c179e"
            ],
            [
             0.4444444444444444,
             "#bd3786"
            ],
            [
             0.5555555555555556,
             "#d8576b"
            ],
            [
             0.6666666666666666,
             "#ed7953"
            ],
            [
             0.7777777777777778,
             "#fb9f3a"
            ],
            [
             0.8888888888888888,
             "#fdca26"
            ],
            [
             1,
             "#f0f921"
            ]
           ],
           "sequentialminus": [
            [
             0,
             "#0d0887"
            ],
            [
             0.1111111111111111,
             "#46039f"
            ],
            [
             0.2222222222222222,
             "#7201a8"
            ],
            [
             0.3333333333333333,
             "#9c179e"
            ],
            [
             0.4444444444444444,
             "#bd3786"
            ],
            [
             0.5555555555555556,
             "#d8576b"
            ],
            [
             0.6666666666666666,
             "#ed7953"
            ],
            [
             0.7777777777777778,
             "#fb9f3a"
            ],
            [
             0.8888888888888888,
             "#fdca26"
            ],
            [
             1,
             "#f0f921"
            ]
           ]
          },
          "colorway": [
           "#636efa",
           "#EF553B",
           "#00cc96",
           "#ab63fa",
           "#FFA15A",
           "#19d3f3",
           "#FF6692",
           "#B6E880",
           "#FF97FF",
           "#FECB52"
          ],
          "font": {
           "color": "#2a3f5f"
          },
          "geo": {
           "bgcolor": "white",
           "lakecolor": "white",
           "landcolor": "white",
           "showlakes": true,
           "showland": true,
           "subunitcolor": "#C8D4E3"
          },
          "hoverlabel": {
           "align": "left"
          },
          "hovermode": "closest",
          "mapbox": {
           "style": "light"
          },
          "paper_bgcolor": "white",
          "plot_bgcolor": "white",
          "polar": {
           "angularaxis": {
            "gridcolor": "#EBF0F8",
            "linecolor": "#EBF0F8",
            "ticks": ""
           },
           "bgcolor": "white",
           "radialaxis": {
            "gridcolor": "#EBF0F8",
            "linecolor": "#EBF0F8",
            "ticks": ""
           }
          },
          "scene": {
           "xaxis": {
            "backgroundcolor": "white",
            "gridcolor": "#DFE8F3",
            "gridwidth": 2,
            "linecolor": "#EBF0F8",
            "showbackground": true,
            "ticks": "",
            "zerolinecolor": "#EBF0F8"
           },
           "yaxis": {
            "backgroundcolor": "white",
            "gridcolor": "#DFE8F3",
            "gridwidth": 2,
            "linecolor": "#EBF0F8",
            "showbackground": true,
            "ticks": "",
            "zerolinecolor": "#EBF0F8"
           },
           "zaxis": {
            "backgroundcolor": "white",
            "gridcolor": "#DFE8F3",
            "gridwidth": 2,
            "linecolor": "#EBF0F8",
            "showbackground": true,
            "ticks": "",
            "zerolinecolor": "#EBF0F8"
           }
          },
          "shapedefaults": {
           "line": {
            "color": "#2a3f5f"
           }
          },
          "ternary": {
           "aaxis": {
            "gridcolor": "#DFE8F3",
            "linecolor": "#A2B1C6",
            "ticks": ""
           },
           "baxis": {
            "gridcolor": "#DFE8F3",
            "linecolor": "#A2B1C6",
            "ticks": ""
           },
           "bgcolor": "white",
           "caxis": {
            "gridcolor": "#DFE8F3",
            "linecolor": "#A2B1C6",
            "ticks": ""
           }
          },
          "title": {
           "x": 0.05
          },
          "xaxis": {
           "automargin": true,
           "gridcolor": "#EBF0F8",
           "linecolor": "#EBF0F8",
           "ticks": "",
           "title": {
            "standoff": 15
           },
           "zerolinecolor": "#EBF0F8",
           "zerolinewidth": 2
          },
          "yaxis": {
           "automargin": true,
           "gridcolor": "#EBF0F8",
           "linecolor": "#EBF0F8",
           "ticks": "",
           "title": {
            "standoff": 15
           },
           "zerolinecolor": "#EBF0F8",
           "zerolinewidth": 2
          }
         }
        },
        "title": {
         "x": 0.5
        },
        "width": 800,
        "xaxis": {
         "constrain": "domain",
         "gridcolor": "rgba(45, 130, 164, 0.5)",
         "linecolor": "black",
         "range": [
          0,
          1
         ],
         "tickfont": {
          "size": 32
         },
         "title": {
          "font": {
           "size": 32
          },
          "text": "1 - Specificity"
         }
        },
        "yaxis": {
         "gridcolor": "rgba(45, 130, 164, 0.5)",
         "linecolor": "black",
         "range": [
          0,
          1
         ],
         "scaleanchor": "x",
         "scaleratio": 1,
         "tickfont": {
          "size": 32
         },
         "title": {
          "font": {
           "size": 32
          },
          "text": "Sensitivity"
         }
        }
       }
      },
      "text/html": [
       "<div>                            <div id=\"a4e074c6-3355-4093-84b4-990d2a86b193\" class=\"plotly-graph-div\" style=\"height:800px; width:800px;\"></div>            <script type=\"text/javascript\">                require([\"plotly\"], function(Plotly) {                    window.PLOTLYENV=window.PLOTLYENV || {};                                    if (document.getElementById(\"a4e074c6-3355-4093-84b4-990d2a86b193\")) {                    Plotly.newPlot(                        \"a4e074c6-3355-4093-84b4-990d2a86b193\",                        [{\"hoverinfo\":\"name+x+y\",\"line\":{\"color\":\"rgba(45, 130, 164, 0.5)\",\"width\":1},\"name\":\"upper\",\"showlegend\":false,\"x\":[0.0,0.010101010101010102,0.020202020202020204,0.030303030303030304,0.04040404040404041,0.05050505050505051,0.06060606060606061,0.07070707070707072,0.08080808080808081,0.09090909090909091,0.10101010101010102,0.11111111111111112,0.12121212121212122,0.13131313131313133,0.14141414141414144,0.15151515151515152,0.16161616161616163,0.17171717171717174,0.18181818181818182,0.19191919191919193,0.20202020202020204,0.21212121212121213,0.22222222222222224,0.23232323232323235,0.24242424242424243,0.25252525252525254,0.26262626262626265,0.27272727272727276,0.2828282828282829,0.29292929292929293,0.30303030303030304,0.31313131313131315,0.32323232323232326,0.33333333333333337,0.3434343434343435,0.3535353535353536,0.36363636363636365,0.37373737373737376,0.38383838383838387,0.393939393939394,0.4040404040404041,0.4141414141414142,0.42424242424242425,0.43434343434343436,0.4444444444444445,0.4545454545454546,0.4646464646464647,0.4747474747474748,0.48484848484848486,0.494949494949495,0.5050505050505051,0.5151515151515152,0.5252525252525253,0.5353535353535354,0.5454545454545455,0.5555555555555556,0.5656565656565657,0.5757575757575758,0.5858585858585859,0.595959595959596,0.6060606060606061,0.6161616161616162,0.6262626262626263,0.6363636363636365,0.6464646464646465,0.6565656565656566,0.6666666666666667,0.6767676767676768,0.686868686868687,0.696969696969697,0.7070707070707072,0.7171717171717172,0.7272727272727273,0.7373737373737375,0.7474747474747475,0.7575757575757577,0.7676767676767677,0.7777777777777778,0.787878787878788,0.797979797979798,0.8080808080808082,0.8181818181818182,0.8282828282828284,0.8383838383838385,0.8484848484848485,0.8585858585858587,0.8686868686868687,0.8787878787878789,0.888888888888889,0.8989898989898991,0.9090909090909092,0.9191919191919192,0.9292929292929294,0.9393939393939394,0.9494949494949496,0.9595959595959597,0.9696969696969697,0.9797979797979799,0.98989898989899,1.0],\"y\":[0.0,0.6626568152450915,0.6626568152450915,0.7511982292030287,0.7511982292030287,0.7511982292030287,0.8318836067227261,0.8318836067227261,0.8318836067227261,0.8561286530540284,0.8561286530540284,0.8561286530540284,0.8731064362862337,0.8731064362862337,0.8731064362862337,0.9000457504294261,0.9000457504294261,0.9000457504294261,0.9281403556725301,0.9281403556725301,0.9281403556725301,0.9553751297661771,0.9553751297661771,0.9553751297661771,0.9783219152665708,0.9783219152665708,0.9783219152665708,0.9912106626113009,0.9912106626113009,0.9912106626113009,0.9930677790146094,0.9930677790146094,0.9930677790146094,0.9989365471888505,0.9989365471888505,1.0,1.0,1.0,1.0,1.0,1.0,1.0,1.0,1.0,1.0,1.0,1.0,1.0,1.0,1.0,1.0,1.0,1.0,1.0,1.0,1.0,1.0,1.0,1.0,1.0,1.0,1.0,1.0,1.0,1.0,1.0,1.0,1.0,1.0,1.0,1.0,1.0,1.0,1.0,1.0,1.0,1.0,1.0,1.0,1.0,1.0,1.0,1.0,1.0,1.0,1.0,1.0,1.0,1.0,1.0,1.0,1.0,1.0,1.0,1.0,1.0,1.0,1.0,1.0,1.0],\"type\":\"scatter\"},{\"fill\":\"tonexty\",\"fillcolor\":\"rgba(45, 130, 164, 0.2)\",\"hoverinfo\":\"name+x+y\",\"line\":{\"color\":\"rgba(45, 130, 164, 0.5)\",\"width\":1},\"name\":\"lower\",\"showlegend\":false,\"x\":[0.0,0.010101010101010102,0.020202020202020204,0.030303030303030304,0.04040404040404041,0.05050505050505051,0.06060606060606061,0.07070707070707072,0.08080808080808081,0.09090909090909091,0.10101010101010102,0.11111111111111112,0.12121212121212122,0.13131313131313133,0.14141414141414144,0.15151515151515152,0.16161616161616163,0.17171717171717174,0.18181818181818182,0.19191919191919193,0.20202020202020204,0.21212121212121213,0.22222222222222224,0.23232323232323235,0.24242424242424243,0.25252525252525254,0.26262626262626265,0.27272727272727276,0.2828282828282829,0.29292929292929293,0.30303030303030304,0.31313131313131315,0.32323232323232326,0.33333333333333337,0.3434343434343435,0.3535353535353536,0.36363636363636365,0.37373737373737376,0.38383838383838387,0.393939393939394,0.4040404040404041,0.4141414141414142,0.42424242424242425,0.43434343434343436,0.4444444444444445,0.4545454545454546,0.4646464646464647,0.4747474747474748,0.48484848484848486,0.494949494949495,0.5050505050505051,0.5151515151515152,0.5252525252525253,0.5353535353535354,0.5454545454545455,0.5555555555555556,0.5656565656565657,0.5757575757575758,0.5858585858585859,0.595959595959596,0.6060606060606061,0.6161616161616162,0.6262626262626263,0.6363636363636365,0.6464646464646465,0.6565656565656566,0.6666666666666667,0.6767676767676768,0.686868686868687,0.696969696969697,0.7070707070707072,0.7171717171717172,0.7272727272727273,0.7373737373737375,0.7474747474747475,0.7575757575757577,0.7676767676767677,0.7777777777777778,0.787878787878788,0.797979797979798,0.8080808080808082,0.8181818181818182,0.8282828282828284,0.8383838383838385,0.8484848484848485,0.8585858585858587,0.8686868686868687,0.8787878787878789,0.888888888888889,0.8989898989898991,0.9090909090909092,0.9191919191919192,0.9292929292929294,0.9393939393939394,0.9494949494949496,0.9595959595959597,0.9696969696969697,0.9797979797979799,0.98989898989899,1.0],\"y\":[0.0,0.17499024357843784,0.17499024357843784,0.38939000609108965,0.38939000609108965,0.38939000609108965,0.5669399226890383,0.5669399226890383,0.5669399226890383,0.666224288122442,0.666224288122442,0.666224288122442,0.7221876813608259,0.7221876813608259,0.7221876813608259,0.7581895436882213,0.7581895436882213,0.7581895436882213,0.782447879621587,0.782447879621587,0.782447879621587,0.8058013408220565,0.8058013408220565,0.8058013408220565,0.82344279061578,0.82344279061578,0.82344279061578,0.8393775726828143,0.8393775726828143,0.8393775726828143,0.8651675151030345,0.8651675151030345,0.8651675151030345,0.8763575704582047,0.8763575704582047,0.8920230225667123,0.8920230225667123,0.8920230225667123,0.9012987650877045,0.9012987650877045,0.9012987650877045,0.9107932271181652,0.9107932271181652,0.9107932271181652,0.9246743156974055,0.9246743156974055,0.9246743156974055,0.9307471085955312,0.9307471085955312,0.9307471085955312,0.9385213545028892,0.9385213545028892,0.9385213545028892,0.9430084583302202,0.9430084583302202,0.9430084583302202,0.9501473541235619,0.9501473541235619,0.9501473541235619,0.967781095731483,0.967781095731483,0.967781095731483,0.9721066203384722,0.9721066203384722,0.9721066203384722,0.980518719974995,0.980518719974995,0.9857091207542921,0.9857091207542921,0.9857091207542921,0.9872965188574909,0.9872965188574909,0.9872965188574909,0.9911764705882353,0.9911764705882353,0.9911764705882353,0.9911764705882353,0.9911764705882353,0.9911764705882353,0.9911764705882353,0.9911764705882353,0.9911764705882353,1.0,1.0,1.0,1.0,1.0,1.0,1.0,1.0,1.0,1.0,1.0,1.0,1.0,1.0,1.0,1.0,1.0,1.0],\"type\":\"scatter\"},{\"hoverinfo\":\"x+y\",\"line\":{\"color\":\"rgba(45, 130, 164, 1.0)\",\"dash\":\"solid\",\"width\":4},\"name\":\"HIVE-LAB model AUROC 0.919\",\"showlegend\":true,\"x\":[0.0,0.010101010101010102,0.020202020202020204,0.030303030303030304,0.04040404040404041,0.05050505050505051,0.06060606060606061,0.07070707070707072,0.08080808080808081,0.09090909090909091,0.10101010101010102,0.11111111111111112,0.12121212121212122,0.13131313131313133,0.14141414141414144,0.15151515151515152,0.16161616161616163,0.17171717171717174,0.18181818181818182,0.19191919191919193,0.20202020202020204,0.21212121212121213,0.22222222222222224,0.23232323232323235,0.24242424242424243,0.25252525252525254,0.26262626262626265,0.27272727272727276,0.2828282828282829,0.29292929292929293,0.30303030303030304,0.31313131313131315,0.32323232323232326,0.33333333333333337,0.3434343434343435,0.3535353535353536,0.36363636363636365,0.37373737373737376,0.38383838383838387,0.393939393939394,0.4040404040404041,0.4141414141414142,0.42424242424242425,0.43434343434343436,0.4444444444444445,0.4545454545454546,0.4646464646464647,0.4747474747474748,0.48484848484848486,0.494949494949495,0.5050505050505051,0.5151515151515152,0.5252525252525253,0.5353535353535354,0.5454545454545455,0.5555555555555556,0.5656565656565657,0.5757575757575758,0.5858585858585859,0.595959595959596,0.6060606060606061,0.6161616161616162,0.6262626262626263,0.6363636363636365,0.6464646464646465,0.6565656565656566,0.6666666666666667,0.6767676767676768,0.686868686868687,0.696969696969697,0.7070707070707072,0.7171717171717172,0.7272727272727273,0.7373737373737375,0.7474747474747475,0.7575757575757577,0.7676767676767677,0.7777777777777778,0.787878787878788,0.797979797979798,0.8080808080808082,0.8181818181818182,0.8282828282828284,0.8383838383838385,0.8484848484848485,0.8585858585858587,0.8686868686868687,0.8787878787878789,0.888888888888889,0.8989898989898991,0.9090909090909092,0.9191919191919192,0.9292929292929294,0.9393939393939394,0.9494949494949496,0.9595959595959597,0.9696969696969697,0.9797979797979799,0.98989898989899,1.0],\"y\":[0.0,0.41882352941176465,0.41882352941176465,0.5702941176470592,0.5702941176470592,0.5702941176470592,0.6994117647058822,0.6994117647058822,0.6994117647058822,0.7611764705882352,0.7611764705882352,0.7611764705882352,0.7976470588235298,0.7976470588235298,0.7976470588235298,0.8291176470588237,0.8291176470588237,0.8291176470588237,0.8552941176470585,0.8552941176470585,0.8552941176470585,0.8805882352941168,0.8805882352941168,0.8805882352941168,0.9008823529411754,0.9008823529411754,0.9008823529411754,0.9152941176470576,0.9152941176470576,0.9152941176470576,0.9291176470588219,0.9291176470588219,0.9291176470588219,0.9376470588235276,0.9376470588235276,0.9488235294117632,0.9488235294117632,0.9488235294117632,0.9567647058823515,0.9567647058823515,0.9567647058823515,0.9647058823529399,0.9647058823529399,0.9647058823529399,0.9726470588235285,0.9726470588235285,0.9726470588235285,0.9755882352941169,0.9755882352941169,0.9755882352941169,0.9814705882352935,0.9814705882352935,0.9814705882352935,0.9841176470588229,0.9841176470588229,0.9841176470588229,0.9867647058823523,0.9867647058823523,0.9867647058823523,0.9935294117647057,0.9935294117647057,0.9935294117647057,0.994705882352941,0.994705882352941,0.994705882352941,0.9973529411764704,0.9973529411764704,0.9985294117647058,0.9985294117647058,0.9985294117647058,0.9988235294117647,0.9988235294117647,0.9988235294117647,0.9994117647058823,0.9994117647058823,0.9994117647058823,0.9994117647058823,0.9994117647058823,0.9994117647058823,0.9994117647058823,0.9994117647058823,0.9994117647058823,1.0,1.0,1.0,1.0,1.0,1.0,1.0,1.0,1.0,1.0,1.0,1.0,1.0,1.0,1.0,1.0,1.0,1.0],\"type\":\"scatter\"}],                        {\"template\":{\"data\":{\"barpolar\":[{\"marker\":{\"line\":{\"color\":\"white\",\"width\":0.5},\"pattern\":{\"fillmode\":\"overlay\",\"size\":10,\"solidity\":0.2}},\"type\":\"barpolar\"}],\"bar\":[{\"error_x\":{\"color\":\"#2a3f5f\"},\"error_y\":{\"color\":\"#2a3f5f\"},\"marker\":{\"line\":{\"color\":\"white\",\"width\":0.5},\"pattern\":{\"fillmode\":\"overlay\",\"size\":10,\"solidity\":0.2}},\"type\":\"bar\"}],\"carpet\":[{\"aaxis\":{\"endlinecolor\":\"#2a3f5f\",\"gridcolor\":\"#C8D4E3\",\"linecolor\":\"#C8D4E3\",\"minorgridcolor\":\"#C8D4E3\",\"startlinecolor\":\"#2a3f5f\"},\"baxis\":{\"endlinecolor\":\"#2a3f5f\",\"gridcolor\":\"#C8D4E3\",\"linecolor\":\"#C8D4E3\",\"minorgridcolor\":\"#C8D4E3\",\"startlinecolor\":\"#2a3f5f\"},\"type\":\"carpet\"}],\"choropleth\":[{\"colorbar\":{\"outlinewidth\":0,\"ticks\":\"\"},\"type\":\"choropleth\"}],\"contourcarpet\":[{\"colorbar\":{\"outlinewidth\":0,\"ticks\":\"\"},\"type\":\"contourcarpet\"}],\"contour\":[{\"colorbar\":{\"outlinewidth\":0,\"ticks\":\"\"},\"colorscale\":[[0.0,\"#0d0887\"],[0.1111111111111111,\"#46039f\"],[0.2222222222222222,\"#7201a8\"],[0.3333333333333333,\"#9c179e\"],[0.4444444444444444,\"#bd3786\"],[0.5555555555555556,\"#d8576b\"],[0.6666666666666666,\"#ed7953\"],[0.7777777777777778,\"#fb9f3a\"],[0.8888888888888888,\"#fdca26\"],[1.0,\"#f0f921\"]],\"type\":\"contour\"}],\"heatmapgl\":[{\"colorbar\":{\"outlinewidth\":0,\"ticks\":\"\"},\"colorscale\":[[0.0,\"#0d0887\"],[0.1111111111111111,\"#46039f\"],[0.2222222222222222,\"#7201a8\"],[0.3333333333333333,\"#9c179e\"],[0.4444444444444444,\"#bd3786\"],[0.5555555555555556,\"#d8576b\"],[0.6666666666666666,\"#ed7953\"],[0.7777777777777778,\"#fb9f3a\"],[0.8888888888888888,\"#fdca26\"],[1.0,\"#f0f921\"]],\"type\":\"heatmapgl\"}],\"heatmap\":[{\"colorbar\":{\"outlinewidth\":0,\"ticks\":\"\"},\"colorscale\":[[0.0,\"#0d0887\"],[0.1111111111111111,\"#46039f\"],[0.2222222222222222,\"#7201a8\"],[0.3333333333333333,\"#9c179e\"],[0.4444444444444444,\"#bd3786\"],[0.5555555555555556,\"#d8576b\"],[0.6666666666666666,\"#ed7953\"],[0.7777777777777778,\"#fb9f3a\"],[0.8888888888888888,\"#fdca26\"],[1.0,\"#f0f921\"]],\"type\":\"heatmap\"}],\"histogram2dcontour\":[{\"colorbar\":{\"outlinewidth\":0,\"ticks\":\"\"},\"colorscale\":[[0.0,\"#0d0887\"],[0.1111111111111111,\"#46039f\"],[0.2222222222222222,\"#7201a8\"],[0.3333333333333333,\"#9c179e\"],[0.4444444444444444,\"#bd3786\"],[0.5555555555555556,\"#d8576b\"],[0.6666666666666666,\"#ed7953\"],[0.7777777777777778,\"#fb9f3a\"],[0.8888888888888888,\"#fdca26\"],[1.0,\"#f0f921\"]],\"type\":\"histogram2dcontour\"}],\"histogram2d\":[{\"colorbar\":{\"outlinewidth\":0,\"ticks\":\"\"},\"colorscale\":[[0.0,\"#0d0887\"],[0.1111111111111111,\"#46039f\"],[0.2222222222222222,\"#7201a8\"],[0.3333333333333333,\"#9c179e\"],[0.4444444444444444,\"#bd3786\"],[0.5555555555555556,\"#d8576b\"],[0.6666666666666666,\"#ed7953\"],[0.7777777777777778,\"#fb9f3a\"],[0.8888888888888888,\"#fdca26\"],[1.0,\"#f0f921\"]],\"type\":\"histogram2d\"}],\"histogram\":[{\"marker\":{\"pattern\":{\"fillmode\":\"overlay\",\"size\":10,\"solidity\":0.2}},\"type\":\"histogram\"}],\"mesh3d\":[{\"colorbar\":{\"outlinewidth\":0,\"ticks\":\"\"},\"type\":\"mesh3d\"}],\"parcoords\":[{\"line\":{\"colorbar\":{\"outlinewidth\":0,\"ticks\":\"\"}},\"type\":\"parcoords\"}],\"pie\":[{\"automargin\":true,\"type\":\"pie\"}],\"scatter3d\":[{\"line\":{\"colorbar\":{\"outlinewidth\":0,\"ticks\":\"\"}},\"marker\":{\"colorbar\":{\"outlinewidth\":0,\"ticks\":\"\"}},\"type\":\"scatter3d\"}],\"scattercarpet\":[{\"marker\":{\"colorbar\":{\"outlinewidth\":0,\"ticks\":\"\"}},\"type\":\"scattercarpet\"}],\"scattergeo\":[{\"marker\":{\"colorbar\":{\"outlinewidth\":0,\"ticks\":\"\"}},\"type\":\"scattergeo\"}],\"scattergl\":[{\"marker\":{\"colorbar\":{\"outlinewidth\":0,\"ticks\":\"\"}},\"type\":\"scattergl\"}],\"scattermapbox\":[{\"marker\":{\"colorbar\":{\"outlinewidth\":0,\"ticks\":\"\"}},\"type\":\"scattermapbox\"}],\"scatterpolargl\":[{\"marker\":{\"colorbar\":{\"outlinewidth\":0,\"ticks\":\"\"}},\"type\":\"scatterpolargl\"}],\"scatterpolar\":[{\"marker\":{\"colorbar\":{\"outlinewidth\":0,\"ticks\":\"\"}},\"type\":\"scatterpolar\"}],\"scatter\":[{\"fillpattern\":{\"fillmode\":\"overlay\",\"size\":10,\"solidity\":0.2},\"type\":\"scatter\"}],\"scatterternary\":[{\"marker\":{\"colorbar\":{\"outlinewidth\":0,\"ticks\":\"\"}},\"type\":\"scatterternary\"}],\"surface\":[{\"colorbar\":{\"outlinewidth\":0,\"ticks\":\"\"},\"colorscale\":[[0.0,\"#0d0887\"],[0.1111111111111111,\"#46039f\"],[0.2222222222222222,\"#7201a8\"],[0.3333333333333333,\"#9c179e\"],[0.4444444444444444,\"#bd3786\"],[0.5555555555555556,\"#d8576b\"],[0.6666666666666666,\"#ed7953\"],[0.7777777777777778,\"#fb9f3a\"],[0.8888888888888888,\"#fdca26\"],[1.0,\"#f0f921\"]],\"type\":\"surface\"}],\"table\":[{\"cells\":{\"fill\":{\"color\":\"#EBF0F8\"},\"line\":{\"color\":\"white\"}},\"header\":{\"fill\":{\"color\":\"#C8D4E3\"},\"line\":{\"color\":\"white\"}},\"type\":\"table\"}]},\"layout\":{\"annotationdefaults\":{\"arrowcolor\":\"#2a3f5f\",\"arrowhead\":0,\"arrowwidth\":1},\"autotypenumbers\":\"strict\",\"coloraxis\":{\"colorbar\":{\"outlinewidth\":0,\"ticks\":\"\"}},\"colorscale\":{\"diverging\":[[0,\"#8e0152\"],[0.1,\"#c51b7d\"],[0.2,\"#de77ae\"],[0.3,\"#f1b6da\"],[0.4,\"#fde0ef\"],[0.5,\"#f7f7f7\"],[0.6,\"#e6f5d0\"],[0.7,\"#b8e186\"],[0.8,\"#7fbc41\"],[0.9,\"#4d9221\"],[1,\"#276419\"]],\"sequential\":[[0.0,\"#0d0887\"],[0.1111111111111111,\"#46039f\"],[0.2222222222222222,\"#7201a8\"],[0.3333333333333333,\"#9c179e\"],[0.4444444444444444,\"#bd3786\"],[0.5555555555555556,\"#d8576b\"],[0.6666666666666666,\"#ed7953\"],[0.7777777777777778,\"#fb9f3a\"],[0.8888888888888888,\"#fdca26\"],[1.0,\"#f0f921\"]],\"sequentialminus\":[[0.0,\"#0d0887\"],[0.1111111111111111,\"#46039f\"],[0.2222222222222222,\"#7201a8\"],[0.3333333333333333,\"#9c179e\"],[0.4444444444444444,\"#bd3786\"],[0.5555555555555556,\"#d8576b\"],[0.6666666666666666,\"#ed7953\"],[0.7777777777777778,\"#fb9f3a\"],[0.8888888888888888,\"#fdca26\"],[1.0,\"#f0f921\"]]},\"colorway\":[\"#636efa\",\"#EF553B\",\"#00cc96\",\"#ab63fa\",\"#FFA15A\",\"#19d3f3\",\"#FF6692\",\"#B6E880\",\"#FF97FF\",\"#FECB52\"],\"font\":{\"color\":\"#2a3f5f\"},\"geo\":{\"bgcolor\":\"white\",\"lakecolor\":\"white\",\"landcolor\":\"white\",\"showlakes\":true,\"showland\":true,\"subunitcolor\":\"#C8D4E3\"},\"hoverlabel\":{\"align\":\"left\"},\"hovermode\":\"closest\",\"mapbox\":{\"style\":\"light\"},\"paper_bgcolor\":\"white\",\"plot_bgcolor\":\"white\",\"polar\":{\"angularaxis\":{\"gridcolor\":\"#EBF0F8\",\"linecolor\":\"#EBF0F8\",\"ticks\":\"\"},\"bgcolor\":\"white\",\"radialaxis\":{\"gridcolor\":\"#EBF0F8\",\"linecolor\":\"#EBF0F8\",\"ticks\":\"\"}},\"scene\":{\"xaxis\":{\"backgroundcolor\":\"white\",\"gridcolor\":\"#DFE8F3\",\"gridwidth\":2,\"linecolor\":\"#EBF0F8\",\"showbackground\":true,\"ticks\":\"\",\"zerolinecolor\":\"#EBF0F8\"},\"yaxis\":{\"backgroundcolor\":\"white\",\"gridcolor\":\"#DFE8F3\",\"gridwidth\":2,\"linecolor\":\"#EBF0F8\",\"showbackground\":true,\"ticks\":\"\",\"zerolinecolor\":\"#EBF0F8\"},\"zaxis\":{\"backgroundcolor\":\"white\",\"gridcolor\":\"#DFE8F3\",\"gridwidth\":2,\"linecolor\":\"#EBF0F8\",\"showbackground\":true,\"ticks\":\"\",\"zerolinecolor\":\"#EBF0F8\"}},\"shapedefaults\":{\"line\":{\"color\":\"#2a3f5f\"}},\"ternary\":{\"aaxis\":{\"gridcolor\":\"#DFE8F3\",\"linecolor\":\"#A2B1C6\",\"ticks\":\"\"},\"baxis\":{\"gridcolor\":\"#DFE8F3\",\"linecolor\":\"#A2B1C6\",\"ticks\":\"\"},\"bgcolor\":\"white\",\"caxis\":{\"gridcolor\":\"#DFE8F3\",\"linecolor\":\"#A2B1C6\",\"ticks\":\"\"}},\"title\":{\"x\":0.05},\"xaxis\":{\"automargin\":true,\"gridcolor\":\"#EBF0F8\",\"linecolor\":\"#EBF0F8\",\"ticks\":\"\",\"title\":{\"standoff\":15},\"zerolinecolor\":\"#EBF0F8\",\"zerolinewidth\":2},\"yaxis\":{\"automargin\":true,\"gridcolor\":\"#EBF0F8\",\"linecolor\":\"#EBF0F8\",\"ticks\":\"\",\"title\":{\"standoff\":15},\"zerolinecolor\":\"#EBF0F8\",\"zerolinewidth\":2}}},\"shapes\":[{\"line\":{\"color\":\"grey\",\"dash\":\"dash\",\"width\":1},\"type\":\"line\",\"x0\":0,\"x1\":1,\"y0\":0,\"y1\":1}],\"title\":{\"x\":0.5},\"legend\":{\"font\":{\"size\":30},\"yanchor\":\"bottom\",\"xanchor\":\"right\",\"x\":1.05,\"y\":0.02},\"xaxis\":{\"title\":{\"text\":\"1 - Specificity\",\"font\":{\"size\":32}},\"tickfont\":{\"size\":32},\"range\":[0.0,1.0],\"gridcolor\":\"rgba(45, 130, 164, 0.5)\",\"constrain\":\"domain\",\"linecolor\":\"black\"},\"yaxis\":{\"title\":{\"text\":\"Sensitivity\",\"font\":{\"size\":32}},\"tickfont\":{\"size\":32},\"range\":[0.0,1.0],\"gridcolor\":\"rgba(45, 130, 164, 0.5)\",\"scaleanchor\":\"x\",\"scaleratio\":1,\"linecolor\":\"black\"},\"width\":800,\"height\":800},                        {\"responsive\": true}                    ).then(function(){\n",
       "                            \n",
       "var gd = document.getElementById('a4e074c6-3355-4093-84b4-990d2a86b193');\n",
       "var x = new MutationObserver(function (mutations, observer) {{\n",
       "        var display = window.getComputedStyle(gd).display;\n",
       "        if (!display || display === 'none') {{\n",
       "            console.log([gd, 'removed!']);\n",
       "            Plotly.purge(gd);\n",
       "            observer.disconnect();\n",
       "        }}\n",
       "}});\n",
       "\n",
       "// Listen for the removal of the full notebook cells\n",
       "var notebookContainer = gd.closest('#notebook-container');\n",
       "if (notebookContainer) {{\n",
       "    x.observe(notebookContainer, {childList: true});\n",
       "}}\n",
       "\n",
       "// Listen for the clearing of the current output cell\n",
       "var outputEl = gd.closest('.output');\n",
       "if (outputEl) {{\n",
       "    x.observe(outputEl, {childList: true});\n",
       "}}\n",
       "\n",
       "                        })                };                });            </script>        </div>"
      ]
     },
     "metadata": {},
     "output_type": "display_data"
    }
   ],
   "source": [
    "#100 cross validation folds, we can plot our ROC/PRC curve:\n",
    "kind = 'val'\n",
    "c_fill      = 'rgba(45, 130, 164, 0.2)' #102, 134, 142,\n",
    "c_line      = 'rgba(45, 130, 164, 0.5)' #45, 130, 164,\n",
    "c_line_main = 'rgba(45, 130, 164, 1.0)' \n",
    "c_grid      = 'rgba(45, 130, 164, 0.5)' \n",
    "c_annot     = 'rgba(45, 130, 164, 0.5)'\n",
    "fpr_mean    = np.linspace(0, 1, 100)\n",
    "interp_tprs = []\n",
    "for i in range(100):\n",
    "    fpr           = results[kind]['fpr'][i]\n",
    "    tpr           = results[kind]['tpr'][i]\n",
    "    interp_tpr    = np.interp(fpr_mean, fpr, tpr)\n",
    "    interp_tpr[0] = 0.0\n",
    "    interp_tprs.append(interp_tpr)\n",
    "tpr_mean     = np.mean(interp_tprs, axis=0)\n",
    "tpr_mean[-1] = 1.0\n",
    "tpr_std      = 2*np.std(interp_tprs, axis=0)\n",
    "tpr_upper    = np.clip(tpr_mean+tpr_std, 0, 1)\n",
    "tpr_lower    = tpr_mean-tpr_std\n",
    "auc          = np.mean(results[kind]['auc'])\n",
    "fig = go.Figure([\n",
    "    go.Scatter(\n",
    "        x          = fpr_mean,\n",
    "        y          = tpr_upper,\n",
    "        line       = dict(color=c_line, width=1),\n",
    "        hoverinfo  = \"name+x+y\",\n",
    "        showlegend = False,\n",
    "        name       = 'upper'),\n",
    "    go.Scatter(\n",
    "       x          = fpr_mean,\n",
    "       y          = tpr_lower,\n",
    "       fill       = 'tonexty',\n",
    "       fillcolor  = c_fill,\n",
    "       line       = dict(color=c_line, width=1),\n",
    "       hoverinfo  = \"name+x+y\",\n",
    "       showlegend = False,\n",
    "       name       = 'lower'),\n",
    "    go.Scatter(\n",
    "        x          = fpr_mean,\n",
    "        y          = tpr_mean,\n",
    "        line       = dict(color=c_line_main, width=4, dash='solid'),\n",
    "        hoverinfo  = \"x+y\",\n",
    "        showlegend = True,\n",
    "        name       = f'HIVE-LAB model AUROC {auc:.3f}' #\n",
    "      ) \n",
    "])\n",
    "fig.add_shape(\n",
    "    type ='line', \n",
    "    line =dict(dash='dash', width=1, color='grey'),\n",
    "    x0=0, x1=1, y0=0, y1=1\n",
    ")\n",
    "fig.update_layout(\n",
    "    template    = 'plotly_white',\n",
    "    #paper_bgcolor = 'rgba(0,0,0,0)',\n",
    "    #plot_bgcolor = 'rgba(0,0,0,0)',\n",
    "    title_x     = 0.5,\n",
    "    xaxis_title = \"1 - Specificity\",\n",
    "    yaxis_title = \"Sensitivity\",\n",
    "    width       = 800,\n",
    "    height      = 800,\n",
    "    legend      = dict(\n",
    "        yanchor=\"bottom\", \n",
    "        xanchor=\"right\", \n",
    "        x=1.05,\n",
    "        y=0.02,\n",
    "        font=dict(\n",
    "            size=30) \n",
    "    )\n",
    ")\n",
    "fig.update_yaxes(\n",
    "    range       = [0.0, 1.0],\n",
    "    gridcolor   = c_grid,\n",
    "    scaleanchor = \"x\", \n",
    "    scaleratio  = 1,\n",
    "    linecolor   = 'black',\n",
    "    tickfont= dict(size=32),\n",
    "    title_font=dict(size=32))  #can change the size of font here\n",
    "fig.update_xaxes(\n",
    "    range       = [0.0, 1.0],\n",
    "    gridcolor   = c_grid,\n",
    "    constrain   = 'domain',\n",
    "    linecolor   = 'black',\n",
    "    tickfont= dict(size=32),\n",
    "    title_font=dict(size=32))"
   ]
  },
  {
   "cell_type": "code",
   "execution_count": 70,
   "metadata": {},
   "outputs": [
    {
     "name": "stdout",
     "output_type": "stream",
     "text": [
      "Confidence interval for the AUC: [0.918 - 0.920]\n"
     ]
    }
   ],
   "source": [
    "auc_scores = np.array(results['val']['auc'])\n",
    "def bootstrap_auc_ci(data, num_bootstrap_samples=10000, ci=95):\n",
    "    \"\"\"\n",
    "    Calculate the confidence interval for AUC using bootstrapping.\n",
    "    \n",
    "    Parameters:\n",
    "    - data: array-like, the AUC scores.\n",
    "    - num_bootstrap_samples: int, the number of bootstrap samples to generate.\n",
    "    - ci: float, the confidence interval percentage.\n",
    "\n",
    "    Returns:\n",
    "    - lower_bound: float, the lower bound of the confidence interval.\n",
    "    - upper_bound: float, the upper bound of the confidence interval.\n",
    "    \"\"\"\n",
    "    bootstrapped_scores = []\n",
    "    n = len(data)\n",
    "    \n",
    "    for _ in range(num_bootstrap_samples):\n",
    "        # Generate a bootstrap sample by sampling with replacement\n",
    "        bootstrap_sample = np.random.choice(data, size=n, replace=True)\n",
    "        # Calculate the AUC for the bootstrap sample (mean in this case)\n",
    "        bootstrapped_scores.append(np.mean(bootstrap_sample))\n",
    "    \n",
    "    # Convert to a numpy array\n",
    "    bootstrapped_scores = np.array(bootstrapped_scores)\n",
    "    # Sort the bootstrapped AUC scores\n",
    "    sorted_scores = np.sort(bootstrapped_scores)\n",
    "    \n",
    "    # Calculate the lower and upper bounds of the confidence interval\n",
    "    lower_bound = np.percentile(sorted_scores, (100 - ci) / 2)\n",
    "    upper_bound = np.percentile(sorted_scores, 100 - (100 - ci) / 2)\n",
    "    \n",
    "    return lower_bound, upper_bound\n",
    "\n",
    "# Calculate the 95% confidence interval for the AUC using bootstrapping\n",
    "ci_lower, ci_upper = bootstrap_auc_ci(auc_scores, num_bootstrap_samples=10000, ci=95)\n",
    "\n",
    "print(\"Confidence interval for the AUC: [{:0.3f} - {:0.3f}]\".format(ci_lower, ci_upper))"
   ]
  },
  {
   "cell_type": "markdown",
   "metadata": {},
   "source": [
    "## 4.2  AUC ED Physicians "
   ]
  },
  {
   "cell_type": "code",
   "execution_count": 91,
   "metadata": {
    "scrolled": false
   },
   "outputs": [
    {
     "data": {
      "application/vnd.plotly.v1+json": {
       "config": {
        "plotlyServerURL": "https://plot.ly"
       },
       "data": [
        {
         "line": {
          "color": "rgba(102, 134, 142, 1.0)",
          "dash": "solid",
          "width": 4
         },
         "mode": "lines",
         "name": "ED physician 1 AUROC 0.894 ±0.076",
         "type": "scatter",
         "x": [
          0,
          0,
          0,
          0.029411764705882353,
          0.029411764705882353,
          0.029411764705882353,
          0.029411764705882353,
          0.029411764705882353,
          0.058823529411764705,
          0.08823529411764706,
          0.08823529411764706,
          0.08823529411764706,
          0.11764705882352941,
          0.11764705882352941,
          0.11764705882352941,
          0.14705882352941177,
          0.14705882352941177,
          0.20588235294117646,
          0.20588235294117646,
          0.23529411764705882,
          0.29411764705882354,
          0.35294117647058826,
          0.38235294117647056,
          0.38235294117647056,
          0.47058823529411764,
          0.6470588235294118,
          0.7058823529411765,
          0.7647058823529411,
          0.8823529411764706,
          1
         ],
         "y": [
          0,
          0.029411764705882353,
          0.14705882352941177,
          0.20588235294117646,
          0.23529411764705882,
          0.3235294117647059,
          0.4411764705882353,
          0.5,
          0.5882352941176471,
          0.5882352941176471,
          0.6470588235294118,
          0.6764705882352942,
          0.6764705882352942,
          0.7058823529411765,
          0.7647058823529411,
          0.7647058823529411,
          0.8235294117647058,
          0.8235294117647058,
          0.8529411764705882,
          0.8823529411764706,
          0.8823529411764706,
          0.9117647058823529,
          0.9117647058823529,
          0.9411764705882353,
          0.9705882352941176,
          0.9705882352941176,
          1,
          1,
          1,
          1
         ]
        },
        {
         "line": {
          "color": "rgba(102, 134, 142, 1.0)",
          "dash": "dash",
          "width": 4
         },
         "mode": "lines",
         "name": "ED physician 2 AUROC 0.826 ±0.106",
         "type": "scatter",
         "x": [
          0,
          0,
          0,
          0.029411764705882353,
          0.029411764705882353,
          0.029411764705882353,
          0.029411764705882353,
          0.058823529411764705,
          0.058823529411764705,
          0.08823529411764706,
          0.08823529411764706,
          0.11764705882352941,
          0.11764705882352941,
          0.11764705882352941,
          0.14705882352941177,
          0.17647058823529413,
          0.17647058823529413,
          0.17647058823529413,
          0.17647058823529413,
          0.17647058823529413,
          0.20588235294117646,
          0.29411764705882354,
          0.29411764705882354,
          0.3235294117647059,
          0.35294117647058826,
          0.4117647058823529,
          0.4117647058823529,
          0.47058823529411764,
          0.47058823529411764,
          0.5,
          0.5882352941176471,
          0.6176470588235294,
          0.6764705882352942,
          0.7352941176470589,
          0.8235294117647058,
          0.8529411764705882,
          1
         ],
         "y": [
          0,
          0.029411764705882353,
          0.058823529411764705,
          0.058823529411764705,
          0.08823529411764706,
          0.14705882352941177,
          0.17647058823529413,
          0.17647058823529413,
          0.23529411764705882,
          0.23529411764705882,
          0.2647058823529412,
          0.29411764705882354,
          0.35294117647058826,
          0.38235294117647056,
          0.4411764705882353,
          0.47058823529411764,
          0.5294117647058824,
          0.5588235294117647,
          0.6176470588235294,
          0.7352941176470589,
          0.7941176470588235,
          0.7941176470588235,
          0.8529411764705882,
          0.8529411764705882,
          0.9117647058823529,
          0.9117647058823529,
          0.9411764705882353,
          0.9411764705882353,
          0.9705882352941176,
          0.9705882352941176,
          0.9705882352941176,
          1,
          1,
          1,
          1,
          1,
          1
         ]
        },
        {
         "line": {
          "color": "rgba(102, 134, 142, 1.0)",
          "dash": "dot",
          "width": 4
         },
         "mode": "lines",
         "name": "ED physician 3 AUROC 0.791 ±0.117",
         "type": "scatter",
         "x": [
          0,
          0,
          0.029411764705882353,
          0.058823529411764705,
          0.08823529411764706,
          0.11764705882352941,
          0.11764705882352941,
          0.14705882352941177,
          0.14705882352941177,
          0.17647058823529413,
          0.17647058823529413,
          0.20588235294117646,
          0.23529411764705882,
          0.4117647058823529,
          0.5588235294117647,
          0.5882352941176471,
          0.6764705882352942,
          0.7352941176470589,
          0.7647058823529411,
          0.7647058823529411,
          0.8235294117647058,
          0.9411764705882353,
          1
         ],
         "y": [
          0,
          0.058823529411764705,
          0.08823529411764706,
          0.23529411764705882,
          0.2647058823529412,
          0.2647058823529412,
          0.29411764705882354,
          0.5588235294117647,
          0.5882352941176471,
          0.7058823529411765,
          0.7352941176470589,
          0.8235294117647058,
          0.8529411764705882,
          0.8529411764705882,
          0.8529411764705882,
          0.8529411764705882,
          0.8529411764705882,
          0.9117647058823529,
          0.9117647058823529,
          0.9705882352941176,
          1,
          1,
          1
         ]
        }
       ],
       "layout": {
        "height": 800,
        "legend": {
         "font": {
          "color": "black",
          "size": 26
         },
         "x": 1.01,
         "xanchor": "right",
         "y": 0.01,
         "yanchor": "bottom"
        },
        "shapes": [
         {
          "line": {
           "dash": "dash",
           "width": 0.5
          },
          "type": "line",
          "x0": 0,
          "x1": 1,
          "y0": 0,
          "y1": 1
         }
        ],
        "template": {
         "data": {
          "bar": [
           {
            "error_x": {
             "color": "#2a3f5f"
            },
            "error_y": {
             "color": "#2a3f5f"
            },
            "marker": {
             "line": {
              "color": "white",
              "width": 0.5
             },
             "pattern": {
              "fillmode": "overlay",
              "size": 10,
              "solidity": 0.2
             }
            },
            "type": "bar"
           }
          ],
          "barpolar": [
           {
            "marker": {
             "line": {
              "color": "white",
              "width": 0.5
             },
             "pattern": {
              "fillmode": "overlay",
              "size": 10,
              "solidity": 0.2
             }
            },
            "type": "barpolar"
           }
          ],
          "carpet": [
           {
            "aaxis": {
             "endlinecolor": "#2a3f5f",
             "gridcolor": "#C8D4E3",
             "linecolor": "#C8D4E3",
             "minorgridcolor": "#C8D4E3",
             "startlinecolor": "#2a3f5f"
            },
            "baxis": {
             "endlinecolor": "#2a3f5f",
             "gridcolor": "#C8D4E3",
             "linecolor": "#C8D4E3",
             "minorgridcolor": "#C8D4E3",
             "startlinecolor": "#2a3f5f"
            },
            "type": "carpet"
           }
          ],
          "choropleth": [
           {
            "colorbar": {
             "outlinewidth": 0,
             "ticks": ""
            },
            "type": "choropleth"
           }
          ],
          "contour": [
           {
            "colorbar": {
             "outlinewidth": 0,
             "ticks": ""
            },
            "colorscale": [
             [
              0,
              "#0d0887"
             ],
             [
              0.1111111111111111,
              "#46039f"
             ],
             [
              0.2222222222222222,
              "#7201a8"
             ],
             [
              0.3333333333333333,
              "#9c179e"
             ],
             [
              0.4444444444444444,
              "#bd3786"
             ],
             [
              0.5555555555555556,
              "#d8576b"
             ],
             [
              0.6666666666666666,
              "#ed7953"
             ],
             [
              0.7777777777777778,
              "#fb9f3a"
             ],
             [
              0.8888888888888888,
              "#fdca26"
             ],
             [
              1,
              "#f0f921"
             ]
            ],
            "type": "contour"
           }
          ],
          "contourcarpet": [
           {
            "colorbar": {
             "outlinewidth": 0,
             "ticks": ""
            },
            "type": "contourcarpet"
           }
          ],
          "heatmap": [
           {
            "colorbar": {
             "outlinewidth": 0,
             "ticks": ""
            },
            "colorscale": [
             [
              0,
              "#0d0887"
             ],
             [
              0.1111111111111111,
              "#46039f"
             ],
             [
              0.2222222222222222,
              "#7201a8"
             ],
             [
              0.3333333333333333,
              "#9c179e"
             ],
             [
              0.4444444444444444,
              "#bd3786"
             ],
             [
              0.5555555555555556,
              "#d8576b"
             ],
             [
              0.6666666666666666,
              "#ed7953"
             ],
             [
              0.7777777777777778,
              "#fb9f3a"
             ],
             [
              0.8888888888888888,
              "#fdca26"
             ],
             [
              1,
              "#f0f921"
             ]
            ],
            "type": "heatmap"
           }
          ],
          "heatmapgl": [
           {
            "colorbar": {
             "outlinewidth": 0,
             "ticks": ""
            },
            "colorscale": [
             [
              0,
              "#0d0887"
             ],
             [
              0.1111111111111111,
              "#46039f"
             ],
             [
              0.2222222222222222,
              "#7201a8"
             ],
             [
              0.3333333333333333,
              "#9c179e"
             ],
             [
              0.4444444444444444,
              "#bd3786"
             ],
             [
              0.5555555555555556,
              "#d8576b"
             ],
             [
              0.6666666666666666,
              "#ed7953"
             ],
             [
              0.7777777777777778,
              "#fb9f3a"
             ],
             [
              0.8888888888888888,
              "#fdca26"
             ],
             [
              1,
              "#f0f921"
             ]
            ],
            "type": "heatmapgl"
           }
          ],
          "histogram": [
           {
            "marker": {
             "pattern": {
              "fillmode": "overlay",
              "size": 10,
              "solidity": 0.2
             }
            },
            "type": "histogram"
           }
          ],
          "histogram2d": [
           {
            "colorbar": {
             "outlinewidth": 0,
             "ticks": ""
            },
            "colorscale": [
             [
              0,
              "#0d0887"
             ],
             [
              0.1111111111111111,
              "#46039f"
             ],
             [
              0.2222222222222222,
              "#7201a8"
             ],
             [
              0.3333333333333333,
              "#9c179e"
             ],
             [
              0.4444444444444444,
              "#bd3786"
             ],
             [
              0.5555555555555556,
              "#d8576b"
             ],
             [
              0.6666666666666666,
              "#ed7953"
             ],
             [
              0.7777777777777778,
              "#fb9f3a"
             ],
             [
              0.8888888888888888,
              "#fdca26"
             ],
             [
              1,
              "#f0f921"
             ]
            ],
            "type": "histogram2d"
           }
          ],
          "histogram2dcontour": [
           {
            "colorbar": {
             "outlinewidth": 0,
             "ticks": ""
            },
            "colorscale": [
             [
              0,
              "#0d0887"
             ],
             [
              0.1111111111111111,
              "#46039f"
             ],
             [
              0.2222222222222222,
              "#7201a8"
             ],
             [
              0.3333333333333333,
              "#9c179e"
             ],
             [
              0.4444444444444444,
              "#bd3786"
             ],
             [
              0.5555555555555556,
              "#d8576b"
             ],
             [
              0.6666666666666666,
              "#ed7953"
             ],
             [
              0.7777777777777778,
              "#fb9f3a"
             ],
             [
              0.8888888888888888,
              "#fdca26"
             ],
             [
              1,
              "#f0f921"
             ]
            ],
            "type": "histogram2dcontour"
           }
          ],
          "mesh3d": [
           {
            "colorbar": {
             "outlinewidth": 0,
             "ticks": ""
            },
            "type": "mesh3d"
           }
          ],
          "parcoords": [
           {
            "line": {
             "colorbar": {
              "outlinewidth": 0,
              "ticks": ""
             }
            },
            "type": "parcoords"
           }
          ],
          "pie": [
           {
            "automargin": true,
            "type": "pie"
           }
          ],
          "scatter": [
           {
            "fillpattern": {
             "fillmode": "overlay",
             "size": 10,
             "solidity": 0.2
            },
            "type": "scatter"
           }
          ],
          "scatter3d": [
           {
            "line": {
             "colorbar": {
              "outlinewidth": 0,
              "ticks": ""
             }
            },
            "marker": {
             "colorbar": {
              "outlinewidth": 0,
              "ticks": ""
             }
            },
            "type": "scatter3d"
           }
          ],
          "scattercarpet": [
           {
            "marker": {
             "colorbar": {
              "outlinewidth": 0,
              "ticks": ""
             }
            },
            "type": "scattercarpet"
           }
          ],
          "scattergeo": [
           {
            "marker": {
             "colorbar": {
              "outlinewidth": 0,
              "ticks": ""
             }
            },
            "type": "scattergeo"
           }
          ],
          "scattergl": [
           {
            "marker": {
             "colorbar": {
              "outlinewidth": 0,
              "ticks": ""
             }
            },
            "type": "scattergl"
           }
          ],
          "scattermapbox": [
           {
            "marker": {
             "colorbar": {
              "outlinewidth": 0,
              "ticks": ""
             }
            },
            "type": "scattermapbox"
           }
          ],
          "scatterpolar": [
           {
            "marker": {
             "colorbar": {
              "outlinewidth": 0,
              "ticks": ""
             }
            },
            "type": "scatterpolar"
           }
          ],
          "scatterpolargl": [
           {
            "marker": {
             "colorbar": {
              "outlinewidth": 0,
              "ticks": ""
             }
            },
            "type": "scatterpolargl"
           }
          ],
          "scatterternary": [
           {
            "marker": {
             "colorbar": {
              "outlinewidth": 0,
              "ticks": ""
             }
            },
            "type": "scatterternary"
           }
          ],
          "surface": [
           {
            "colorbar": {
             "outlinewidth": 0,
             "ticks": ""
            },
            "colorscale": [
             [
              0,
              "#0d0887"
             ],
             [
              0.1111111111111111,
              "#46039f"
             ],
             [
              0.2222222222222222,
              "#7201a8"
             ],
             [
              0.3333333333333333,
              "#9c179e"
             ],
             [
              0.4444444444444444,
              "#bd3786"
             ],
             [
              0.5555555555555556,
              "#d8576b"
             ],
             [
              0.6666666666666666,
              "#ed7953"
             ],
             [
              0.7777777777777778,
              "#fb9f3a"
             ],
             [
              0.8888888888888888,
              "#fdca26"
             ],
             [
              1,
              "#f0f921"
             ]
            ],
            "type": "surface"
           }
          ],
          "table": [
           {
            "cells": {
             "fill": {
              "color": "#EBF0F8"
             },
             "line": {
              "color": "white"
             }
            },
            "header": {
             "fill": {
              "color": "#C8D4E3"
             },
             "line": {
              "color": "white"
             }
            },
            "type": "table"
           }
          ]
         },
         "layout": {
          "annotationdefaults": {
           "arrowcolor": "#2a3f5f",
           "arrowhead": 0,
           "arrowwidth": 1
          },
          "autotypenumbers": "strict",
          "coloraxis": {
           "colorbar": {
            "outlinewidth": 0,
            "ticks": ""
           }
          },
          "colorscale": {
           "diverging": [
            [
             0,
             "#8e0152"
            ],
            [
             0.1,
             "#c51b7d"
            ],
            [
             0.2,
             "#de77ae"
            ],
            [
             0.3,
             "#f1b6da"
            ],
            [
             0.4,
             "#fde0ef"
            ],
            [
             0.5,
             "#f7f7f7"
            ],
            [
             0.6,
             "#e6f5d0"
            ],
            [
             0.7,
             "#b8e186"
            ],
            [
             0.8,
             "#7fbc41"
            ],
            [
             0.9,
             "#4d9221"
            ],
            [
             1,
             "#276419"
            ]
           ],
           "sequential": [
            [
             0,
             "#0d0887"
            ],
            [
             0.1111111111111111,
             "#46039f"
            ],
            [
             0.2222222222222222,
             "#7201a8"
            ],
            [
             0.3333333333333333,
             "#9c179e"
            ],
            [
             0.4444444444444444,
             "#bd3786"
            ],
            [
             0.5555555555555556,
             "#d8576b"
            ],
            [
             0.6666666666666666,
             "#ed7953"
            ],
            [
             0.7777777777777778,
             "#fb9f3a"
            ],
            [
             0.8888888888888888,
             "#fdca26"
            ],
            [
             1,
             "#f0f921"
            ]
           ],
           "sequentialminus": [
            [
             0,
             "#0d0887"
            ],
            [
             0.1111111111111111,
             "#46039f"
            ],
            [
             0.2222222222222222,
             "#7201a8"
            ],
            [
             0.3333333333333333,
             "#9c179e"
            ],
            [
             0.4444444444444444,
             "#bd3786"
            ],
            [
             0.5555555555555556,
             "#d8576b"
            ],
            [
             0.6666666666666666,
             "#ed7953"
            ],
            [
             0.7777777777777778,
             "#fb9f3a"
            ],
            [
             0.8888888888888888,
             "#fdca26"
            ],
            [
             1,
             "#f0f921"
            ]
           ]
          },
          "colorway": [
           "#636efa",
           "#EF553B",
           "#00cc96",
           "#ab63fa",
           "#FFA15A",
           "#19d3f3",
           "#FF6692",
           "#B6E880",
           "#FF97FF",
           "#FECB52"
          ],
          "font": {
           "color": "#2a3f5f"
          },
          "geo": {
           "bgcolor": "white",
           "lakecolor": "white",
           "landcolor": "white",
           "showlakes": true,
           "showland": true,
           "subunitcolor": "#C8D4E3"
          },
          "hoverlabel": {
           "align": "left"
          },
          "hovermode": "closest",
          "mapbox": {
           "style": "light"
          },
          "paper_bgcolor": "white",
          "plot_bgcolor": "white",
          "polar": {
           "angularaxis": {
            "gridcolor": "#EBF0F8",
            "linecolor": "#EBF0F8",
            "ticks": ""
           },
           "bgcolor": "white",
           "radialaxis": {
            "gridcolor": "#EBF0F8",
            "linecolor": "#EBF0F8",
            "ticks": ""
           }
          },
          "scene": {
           "xaxis": {
            "backgroundcolor": "white",
            "gridcolor": "#DFE8F3",
            "gridwidth": 2,
            "linecolor": "#EBF0F8",
            "showbackground": true,
            "ticks": "",
            "zerolinecolor": "#EBF0F8"
           },
           "yaxis": {
            "backgroundcolor": "white",
            "gridcolor": "#DFE8F3",
            "gridwidth": 2,
            "linecolor": "#EBF0F8",
            "showbackground": true,
            "ticks": "",
            "zerolinecolor": "#EBF0F8"
           },
           "zaxis": {
            "backgroundcolor": "white",
            "gridcolor": "#DFE8F3",
            "gridwidth": 2,
            "linecolor": "#EBF0F8",
            "showbackground": true,
            "ticks": "",
            "zerolinecolor": "#EBF0F8"
           }
          },
          "shapedefaults": {
           "line": {
            "color": "#2a3f5f"
           }
          },
          "ternary": {
           "aaxis": {
            "gridcolor": "#DFE8F3",
            "linecolor": "#A2B1C6",
            "ticks": ""
           },
           "baxis": {
            "gridcolor": "#DFE8F3",
            "linecolor": "#A2B1C6",
            "ticks": ""
           },
           "bgcolor": "white",
           "caxis": {
            "gridcolor": "#DFE8F3",
            "linecolor": "#A2B1C6",
            "ticks": ""
           }
          },
          "title": {
           "x": 0.05
          },
          "xaxis": {
           "automargin": true,
           "gridcolor": "#EBF0F8",
           "linecolor": "#EBF0F8",
           "ticks": "",
           "title": {
            "standoff": 15
           },
           "zerolinecolor": "#EBF0F8",
           "zerolinewidth": 2
          },
          "yaxis": {
           "automargin": true,
           "gridcolor": "#EBF0F8",
           "linecolor": "#EBF0F8",
           "ticks": "",
           "title": {
            "standoff": 15
           },
           "zerolinecolor": "#EBF0F8",
           "zerolinewidth": 2
          }
         }
        },
        "width": 800,
        "xaxis": {
         "gridcolor": "rgba(102, 134, 142, 0.5)",
         "linecolor": "black",
         "range": [
          0,
          1
         ],
         "tickfont": {
          "size": 32
         },
         "title": {
          "font": {
           "size": 32
          },
          "text": "1 - Specificity"
         }
        },
        "yaxis": {
         "gridcolor": "rgba(102, 134, 142, 0.5)",
         "linecolor": "black",
         "range": [
          0,
          1
         ],
         "tickfont": {
          "size": 32
         },
         "title": {
          "font": {
           "size": 32
          },
          "text": "Sensitivity"
         }
        }
       }
      },
      "text/html": [
       "<div>                            <div id=\"5bab3011-4562-4c83-8b1c-6ee772629ed7\" class=\"plotly-graph-div\" style=\"height:800px; width:800px;\"></div>            <script type=\"text/javascript\">                require([\"plotly\"], function(Plotly) {                    window.PLOTLYENV=window.PLOTLYENV || {};                                    if (document.getElementById(\"5bab3011-4562-4c83-8b1c-6ee772629ed7\")) {                    Plotly.newPlot(                        \"5bab3011-4562-4c83-8b1c-6ee772629ed7\",                        [{\"line\":{\"color\":\"rgba(102, 134, 142, 1.0)\",\"dash\":\"solid\",\"width\":4},\"mode\":\"lines\",\"name\":\"ED physician 1 AUROC 0.894 ±0.076\",\"x\":[0.0,0.0,0.0,0.029411764705882353,0.029411764705882353,0.029411764705882353,0.029411764705882353,0.029411764705882353,0.058823529411764705,0.08823529411764706,0.08823529411764706,0.08823529411764706,0.11764705882352941,0.11764705882352941,0.11764705882352941,0.14705882352941177,0.14705882352941177,0.20588235294117646,0.20588235294117646,0.23529411764705882,0.29411764705882354,0.35294117647058826,0.38235294117647056,0.38235294117647056,0.47058823529411764,0.6470588235294118,0.7058823529411765,0.7647058823529411,0.8823529411764706,1.0],\"y\":[0.0,0.029411764705882353,0.14705882352941177,0.20588235294117646,0.23529411764705882,0.3235294117647059,0.4411764705882353,0.5,0.5882352941176471,0.5882352941176471,0.6470588235294118,0.6764705882352942,0.6764705882352942,0.7058823529411765,0.7647058823529411,0.7647058823529411,0.8235294117647058,0.8235294117647058,0.8529411764705882,0.8823529411764706,0.8823529411764706,0.9117647058823529,0.9117647058823529,0.9411764705882353,0.9705882352941176,0.9705882352941176,1.0,1.0,1.0,1.0],\"type\":\"scatter\"},{\"line\":{\"color\":\"rgba(102, 134, 142, 1.0)\",\"dash\":\"dash\",\"width\":4},\"mode\":\"lines\",\"name\":\"ED physician 2 AUROC 0.826 ±0.106\",\"x\":[0.0,0.0,0.0,0.029411764705882353,0.029411764705882353,0.029411764705882353,0.029411764705882353,0.058823529411764705,0.058823529411764705,0.08823529411764706,0.08823529411764706,0.11764705882352941,0.11764705882352941,0.11764705882352941,0.14705882352941177,0.17647058823529413,0.17647058823529413,0.17647058823529413,0.17647058823529413,0.17647058823529413,0.20588235294117646,0.29411764705882354,0.29411764705882354,0.3235294117647059,0.35294117647058826,0.4117647058823529,0.4117647058823529,0.47058823529411764,0.47058823529411764,0.5,0.5882352941176471,0.6176470588235294,0.6764705882352942,0.7352941176470589,0.8235294117647058,0.8529411764705882,1.0],\"y\":[0.0,0.029411764705882353,0.058823529411764705,0.058823529411764705,0.08823529411764706,0.14705882352941177,0.17647058823529413,0.17647058823529413,0.23529411764705882,0.23529411764705882,0.2647058823529412,0.29411764705882354,0.35294117647058826,0.38235294117647056,0.4411764705882353,0.47058823529411764,0.5294117647058824,0.5588235294117647,0.6176470588235294,0.7352941176470589,0.7941176470588235,0.7941176470588235,0.8529411764705882,0.8529411764705882,0.9117647058823529,0.9117647058823529,0.9411764705882353,0.9411764705882353,0.9705882352941176,0.9705882352941176,0.9705882352941176,1.0,1.0,1.0,1.0,1.0,1.0],\"type\":\"scatter\"},{\"line\":{\"color\":\"rgba(102, 134, 142, 1.0)\",\"dash\":\"dot\",\"width\":4},\"mode\":\"lines\",\"name\":\"ED physician 3 AUROC 0.791 ±0.117\",\"x\":[0.0,0.0,0.029411764705882353,0.058823529411764705,0.08823529411764706,0.11764705882352941,0.11764705882352941,0.14705882352941177,0.14705882352941177,0.17647058823529413,0.17647058823529413,0.20588235294117646,0.23529411764705882,0.4117647058823529,0.5588235294117647,0.5882352941176471,0.6764705882352942,0.7352941176470589,0.7647058823529411,0.7647058823529411,0.8235294117647058,0.9411764705882353,1.0],\"y\":[0.0,0.058823529411764705,0.08823529411764706,0.23529411764705882,0.2647058823529412,0.2647058823529412,0.29411764705882354,0.5588235294117647,0.5882352941176471,0.7058823529411765,0.7352941176470589,0.8235294117647058,0.8529411764705882,0.8529411764705882,0.8529411764705882,0.8529411764705882,0.8529411764705882,0.9117647058823529,0.9117647058823529,0.9705882352941176,1.0,1.0,1.0],\"type\":\"scatter\"}],                        {\"template\":{\"data\":{\"barpolar\":[{\"marker\":{\"line\":{\"color\":\"white\",\"width\":0.5},\"pattern\":{\"fillmode\":\"overlay\",\"size\":10,\"solidity\":0.2}},\"type\":\"barpolar\"}],\"bar\":[{\"error_x\":{\"color\":\"#2a3f5f\"},\"error_y\":{\"color\":\"#2a3f5f\"},\"marker\":{\"line\":{\"color\":\"white\",\"width\":0.5},\"pattern\":{\"fillmode\":\"overlay\",\"size\":10,\"solidity\":0.2}},\"type\":\"bar\"}],\"carpet\":[{\"aaxis\":{\"endlinecolor\":\"#2a3f5f\",\"gridcolor\":\"#C8D4E3\",\"linecolor\":\"#C8D4E3\",\"minorgridcolor\":\"#C8D4E3\",\"startlinecolor\":\"#2a3f5f\"},\"baxis\":{\"endlinecolor\":\"#2a3f5f\",\"gridcolor\":\"#C8D4E3\",\"linecolor\":\"#C8D4E3\",\"minorgridcolor\":\"#C8D4E3\",\"startlinecolor\":\"#2a3f5f\"},\"type\":\"carpet\"}],\"choropleth\":[{\"colorbar\":{\"outlinewidth\":0,\"ticks\":\"\"},\"type\":\"choropleth\"}],\"contourcarpet\":[{\"colorbar\":{\"outlinewidth\":0,\"ticks\":\"\"},\"type\":\"contourcarpet\"}],\"contour\":[{\"colorbar\":{\"outlinewidth\":0,\"ticks\":\"\"},\"colorscale\":[[0.0,\"#0d0887\"],[0.1111111111111111,\"#46039f\"],[0.2222222222222222,\"#7201a8\"],[0.3333333333333333,\"#9c179e\"],[0.4444444444444444,\"#bd3786\"],[0.5555555555555556,\"#d8576b\"],[0.6666666666666666,\"#ed7953\"],[0.7777777777777778,\"#fb9f3a\"],[0.8888888888888888,\"#fdca26\"],[1.0,\"#f0f921\"]],\"type\":\"contour\"}],\"heatmapgl\":[{\"colorbar\":{\"outlinewidth\":0,\"ticks\":\"\"},\"colorscale\":[[0.0,\"#0d0887\"],[0.1111111111111111,\"#46039f\"],[0.2222222222222222,\"#7201a8\"],[0.3333333333333333,\"#9c179e\"],[0.4444444444444444,\"#bd3786\"],[0.5555555555555556,\"#d8576b\"],[0.6666666666666666,\"#ed7953\"],[0.7777777777777778,\"#fb9f3a\"],[0.8888888888888888,\"#fdca26\"],[1.0,\"#f0f921\"]],\"type\":\"heatmapgl\"}],\"heatmap\":[{\"colorbar\":{\"outlinewidth\":0,\"ticks\":\"\"},\"colorscale\":[[0.0,\"#0d0887\"],[0.1111111111111111,\"#46039f\"],[0.2222222222222222,\"#7201a8\"],[0.3333333333333333,\"#9c179e\"],[0.4444444444444444,\"#bd3786\"],[0.5555555555555556,\"#d8576b\"],[0.6666666666666666,\"#ed7953\"],[0.7777777777777778,\"#fb9f3a\"],[0.8888888888888888,\"#fdca26\"],[1.0,\"#f0f921\"]],\"type\":\"heatmap\"}],\"histogram2dcontour\":[{\"colorbar\":{\"outlinewidth\":0,\"ticks\":\"\"},\"colorscale\":[[0.0,\"#0d0887\"],[0.1111111111111111,\"#46039f\"],[0.2222222222222222,\"#7201a8\"],[0.3333333333333333,\"#9c179e\"],[0.4444444444444444,\"#bd3786\"],[0.5555555555555556,\"#d8576b\"],[0.6666666666666666,\"#ed7953\"],[0.7777777777777778,\"#fb9f3a\"],[0.8888888888888888,\"#fdca26\"],[1.0,\"#f0f921\"]],\"type\":\"histogram2dcontour\"}],\"histogram2d\":[{\"colorbar\":{\"outlinewidth\":0,\"ticks\":\"\"},\"colorscale\":[[0.0,\"#0d0887\"],[0.1111111111111111,\"#46039f\"],[0.2222222222222222,\"#7201a8\"],[0.3333333333333333,\"#9c179e\"],[0.4444444444444444,\"#bd3786\"],[0.5555555555555556,\"#d8576b\"],[0.6666666666666666,\"#ed7953\"],[0.7777777777777778,\"#fb9f3a\"],[0.8888888888888888,\"#fdca26\"],[1.0,\"#f0f921\"]],\"type\":\"histogram2d\"}],\"histogram\":[{\"marker\":{\"pattern\":{\"fillmode\":\"overlay\",\"size\":10,\"solidity\":0.2}},\"type\":\"histogram\"}],\"mesh3d\":[{\"colorbar\":{\"outlinewidth\":0,\"ticks\":\"\"},\"type\":\"mesh3d\"}],\"parcoords\":[{\"line\":{\"colorbar\":{\"outlinewidth\":0,\"ticks\":\"\"}},\"type\":\"parcoords\"}],\"pie\":[{\"automargin\":true,\"type\":\"pie\"}],\"scatter3d\":[{\"line\":{\"colorbar\":{\"outlinewidth\":0,\"ticks\":\"\"}},\"marker\":{\"colorbar\":{\"outlinewidth\":0,\"ticks\":\"\"}},\"type\":\"scatter3d\"}],\"scattercarpet\":[{\"marker\":{\"colorbar\":{\"outlinewidth\":0,\"ticks\":\"\"}},\"type\":\"scattercarpet\"}],\"scattergeo\":[{\"marker\":{\"colorbar\":{\"outlinewidth\":0,\"ticks\":\"\"}},\"type\":\"scattergeo\"}],\"scattergl\":[{\"marker\":{\"colorbar\":{\"outlinewidth\":0,\"ticks\":\"\"}},\"type\":\"scattergl\"}],\"scattermapbox\":[{\"marker\":{\"colorbar\":{\"outlinewidth\":0,\"ticks\":\"\"}},\"type\":\"scattermapbox\"}],\"scatterpolargl\":[{\"marker\":{\"colorbar\":{\"outlinewidth\":0,\"ticks\":\"\"}},\"type\":\"scatterpolargl\"}],\"scatterpolar\":[{\"marker\":{\"colorbar\":{\"outlinewidth\":0,\"ticks\":\"\"}},\"type\":\"scatterpolar\"}],\"scatter\":[{\"fillpattern\":{\"fillmode\":\"overlay\",\"size\":10,\"solidity\":0.2},\"type\":\"scatter\"}],\"scatterternary\":[{\"marker\":{\"colorbar\":{\"outlinewidth\":0,\"ticks\":\"\"}},\"type\":\"scatterternary\"}],\"surface\":[{\"colorbar\":{\"outlinewidth\":0,\"ticks\":\"\"},\"colorscale\":[[0.0,\"#0d0887\"],[0.1111111111111111,\"#46039f\"],[0.2222222222222222,\"#7201a8\"],[0.3333333333333333,\"#9c179e\"],[0.4444444444444444,\"#bd3786\"],[0.5555555555555556,\"#d8576b\"],[0.6666666666666666,\"#ed7953\"],[0.7777777777777778,\"#fb9f3a\"],[0.8888888888888888,\"#fdca26\"],[1.0,\"#f0f921\"]],\"type\":\"surface\"}],\"table\":[{\"cells\":{\"fill\":{\"color\":\"#EBF0F8\"},\"line\":{\"color\":\"white\"}},\"header\":{\"fill\":{\"color\":\"#C8D4E3\"},\"line\":{\"color\":\"white\"}},\"type\":\"table\"}]},\"layout\":{\"annotationdefaults\":{\"arrowcolor\":\"#2a3f5f\",\"arrowhead\":0,\"arrowwidth\":1},\"autotypenumbers\":\"strict\",\"coloraxis\":{\"colorbar\":{\"outlinewidth\":0,\"ticks\":\"\"}},\"colorscale\":{\"diverging\":[[0,\"#8e0152\"],[0.1,\"#c51b7d\"],[0.2,\"#de77ae\"],[0.3,\"#f1b6da\"],[0.4,\"#fde0ef\"],[0.5,\"#f7f7f7\"],[0.6,\"#e6f5d0\"],[0.7,\"#b8e186\"],[0.8,\"#7fbc41\"],[0.9,\"#4d9221\"],[1,\"#276419\"]],\"sequential\":[[0.0,\"#0d0887\"],[0.1111111111111111,\"#46039f\"],[0.2222222222222222,\"#7201a8\"],[0.3333333333333333,\"#9c179e\"],[0.4444444444444444,\"#bd3786\"],[0.5555555555555556,\"#d8576b\"],[0.6666666666666666,\"#ed7953\"],[0.7777777777777778,\"#fb9f3a\"],[0.8888888888888888,\"#fdca26\"],[1.0,\"#f0f921\"]],\"sequentialminus\":[[0.0,\"#0d0887\"],[0.1111111111111111,\"#46039f\"],[0.2222222222222222,\"#7201a8\"],[0.3333333333333333,\"#9c179e\"],[0.4444444444444444,\"#bd3786\"],[0.5555555555555556,\"#d8576b\"],[0.6666666666666666,\"#ed7953\"],[0.7777777777777778,\"#fb9f3a\"],[0.8888888888888888,\"#fdca26\"],[1.0,\"#f0f921\"]]},\"colorway\":[\"#636efa\",\"#EF553B\",\"#00cc96\",\"#ab63fa\",\"#FFA15A\",\"#19d3f3\",\"#FF6692\",\"#B6E880\",\"#FF97FF\",\"#FECB52\"],\"font\":{\"color\":\"#2a3f5f\"},\"geo\":{\"bgcolor\":\"white\",\"lakecolor\":\"white\",\"landcolor\":\"white\",\"showlakes\":true,\"showland\":true,\"subunitcolor\":\"#C8D4E3\"},\"hoverlabel\":{\"align\":\"left\"},\"hovermode\":\"closest\",\"mapbox\":{\"style\":\"light\"},\"paper_bgcolor\":\"white\",\"plot_bgcolor\":\"white\",\"polar\":{\"angularaxis\":{\"gridcolor\":\"#EBF0F8\",\"linecolor\":\"#EBF0F8\",\"ticks\":\"\"},\"bgcolor\":\"white\",\"radialaxis\":{\"gridcolor\":\"#EBF0F8\",\"linecolor\":\"#EBF0F8\",\"ticks\":\"\"}},\"scene\":{\"xaxis\":{\"backgroundcolor\":\"white\",\"gridcolor\":\"#DFE8F3\",\"gridwidth\":2,\"linecolor\":\"#EBF0F8\",\"showbackground\":true,\"ticks\":\"\",\"zerolinecolor\":\"#EBF0F8\"},\"yaxis\":{\"backgroundcolor\":\"white\",\"gridcolor\":\"#DFE8F3\",\"gridwidth\":2,\"linecolor\":\"#EBF0F8\",\"showbackground\":true,\"ticks\":\"\",\"zerolinecolor\":\"#EBF0F8\"},\"zaxis\":{\"backgroundcolor\":\"white\",\"gridcolor\":\"#DFE8F3\",\"gridwidth\":2,\"linecolor\":\"#EBF0F8\",\"showbackground\":true,\"ticks\":\"\",\"zerolinecolor\":\"#EBF0F8\"}},\"shapedefaults\":{\"line\":{\"color\":\"#2a3f5f\"}},\"ternary\":{\"aaxis\":{\"gridcolor\":\"#DFE8F3\",\"linecolor\":\"#A2B1C6\",\"ticks\":\"\"},\"baxis\":{\"gridcolor\":\"#DFE8F3\",\"linecolor\":\"#A2B1C6\",\"ticks\":\"\"},\"bgcolor\":\"white\",\"caxis\":{\"gridcolor\":\"#DFE8F3\",\"linecolor\":\"#A2B1C6\",\"ticks\":\"\"}},\"title\":{\"x\":0.05},\"xaxis\":{\"automargin\":true,\"gridcolor\":\"#EBF0F8\",\"linecolor\":\"#EBF0F8\",\"ticks\":\"\",\"title\":{\"standoff\":15},\"zerolinecolor\":\"#EBF0F8\",\"zerolinewidth\":2},\"yaxis\":{\"automargin\":true,\"gridcolor\":\"#EBF0F8\",\"linecolor\":\"#EBF0F8\",\"ticks\":\"\",\"title\":{\"standoff\":15},\"zerolinecolor\":\"#EBF0F8\",\"zerolinewidth\":2}}},\"yaxis\":{\"tickfont\":{\"size\":32},\"title\":{\"text\":\"Sensitivity\",\"font\":{\"size\":32}},\"gridcolor\":\"rgba(102, 134, 142, 0.5)\",\"range\":[0.0,1.0],\"linecolor\":\"black\"},\"xaxis\":{\"tickfont\":{\"size\":32},\"title\":{\"text\":\"1 - Specificity\",\"font\":{\"size\":32}},\"gridcolor\":\"rgba(102, 134, 142, 0.5)\",\"range\":[0.0,1.0],\"linecolor\":\"black\"},\"legend\":{\"font\":{\"size\":26,\"color\":\"black\"},\"yanchor\":\"bottom\",\"xanchor\":\"right\",\"x\":1.01,\"y\":0.01},\"width\":800,\"height\":800,\"shapes\":[{\"line\":{\"dash\":\"dash\",\"width\":0.5},\"type\":\"line\",\"x0\":0,\"x1\":1,\"y0\":0,\"y1\":1}]},                        {\"responsive\": true}                    ).then(function(){\n",
       "                            \n",
       "var gd = document.getElementById('5bab3011-4562-4c83-8b1c-6ee772629ed7');\n",
       "var x = new MutationObserver(function (mutations, observer) {{\n",
       "        var display = window.getComputedStyle(gd).display;\n",
       "        if (!display || display === 'none') {{\n",
       "            console.log([gd, 'removed!']);\n",
       "            Plotly.purge(gd);\n",
       "            observer.disconnect();\n",
       "        }}\n",
       "}});\n",
       "\n",
       "// Listen for the removal of the full notebook cells\n",
       "var notebookContainer = gd.closest('#notebook-container');\n",
       "if (notebookContainer) {{\n",
       "    x.observe(notebookContainer, {childList: true});\n",
       "}}\n",
       "\n",
       "// Listen for the clearing of the current output cell\n",
       "var outputEl = gd.closest('.output');\n",
       "if (outputEl) {{\n",
       "    x.observe(outputEl, {childList: true});\n",
       "}}\n",
       "\n",
       "                        })                };                });            </script>        </div>"
      ]
     },
     "metadata": {},
     "output_type": "display_data"
    }
   ],
   "source": [
    "import numpy as np\n",
    "import pandas as pd\n",
    "from sklearn.metrics import roc_curve, roc_auc_score\n",
    "import plotly.graph_objects as go\n",
    "from sklearn.utils import resample\n",
    "\n",
    "# Dummy data setup (example)\n",
    "compute_dummy = {'GT': {'no appendicitis': 0, 'appendicitis': 1}}  \n",
    "reader_study_cases_filled.replace(compute_dummy, inplace=True)\n",
    "label = reader_study_cases_filled['GT'].values\n",
    "\n",
    "# List to store AUCs of each doctor\n",
    "doctor_AUCs = []\n",
    "doctor_CI = []  # To store confidence intervals\n",
    "doctor_fprs = []\n",
    "doctor_tprs = []\n",
    "\n",
    "# Extract predictions of each doctor into separate arrays\n",
    "doctor_probs = [\n",
    "    reader_study_cases_filled['1A'].values,\n",
    "    reader_study_cases_filled['2A'].values,\n",
    "    reader_study_cases_filled['3A'].values\n",
    "]\n",
    "\n",
    "# Define colors for each doctor's ROC curve\n",
    "colors = ['rgba(102, 134, 142, 1.0)', 'rgba(102, 134, 142, 1.0)', 'rgba(102, 134, 142, 1.0)'] #102, 134, 142\n",
    "lines = ['solid', 'dash', 'dot']\n",
    "\n",
    "# Number of bootstrap samples\n",
    "n_bootstraps = 1000\n",
    "rng_seed = 42  # Control random number generation for reproducibility\n",
    "\n",
    "# Create a figure\n",
    "fig = go.Figure()\n",
    "\n",
    "# Compute ROC curve, AUC and confidence intervals for each doctor\n",
    "for i, probs in enumerate(doctor_probs):\n",
    "    fpr, tpr, thresholds = roc_curve(label, probs)\n",
    "    auc = roc_auc_score(label, probs)\n",
    "    doctor_AUCs.append(auc)\n",
    "    doctor_fprs.append(fpr)\n",
    "    doctor_tprs.append(tpr)\n",
    "    \n",
    "    # Bootstrap\n",
    "    bootstrapped_scores = []\n",
    "    rng = np.random.default_rng(rng_seed)\n",
    "    for _ in range(n_bootstraps):\n",
    "        # Sample with replacement from the dataset\n",
    "        indices = rng.integers(0, len(probs), len(probs))\n",
    "        if len(np.unique(label[indices])) < 2:\n",
    "            # Skip iteration if the sample does not contain at least one positive and one negative sample\n",
    "            continue\n",
    "        score = roc_auc_score(label[indices], probs[indices])\n",
    "        bootstrapped_scores.append(score)\n",
    "    \n",
    "    sorted_scores = np.array(bootstrapped_scores)\n",
    "    sorted_scores.sort()\n",
    "    \n",
    "    # Compute the confidence intervals\n",
    "    confidence_lower = sorted_scores[int(0.025 * len(sorted_scores))]\n",
    "    confidence_upper = sorted_scores[int(0.975 * len(sorted_scores))]\n",
    "    confidence = (confidence_upper - confidence_lower)/2\n",
    "    doctor_CI.append((confidence_lower, confidence_upper, confidence))\n",
    "    \n",
    "    # Add ROC curve for each doctor with customized colors and AUC in the legend\n",
    "    fig.add_trace(go.Scatter(\n",
    "        x=doctor_fprs[i],\n",
    "        y=doctor_tprs[i],\n",
    "        mode='lines',\n",
    "        line=dict(color=colors[i], dash=lines[i], width=4),\n",
    "        name=f'ED physician {i+1} AUROC {auc:.3f} ±{confidence:.3f}'\n",
    "    ))\n",
    "\n",
    "# Update layout\n",
    "fig.update_layout(\n",
    "    #title=\"ROC Curves of ED Physicians\",\n",
    "    yaxis_gridcolor   = 'rgba(102, 134, 142, 0.5)',\n",
    "    xaxis_gridcolor   = 'rgba(102, 134, 142, 0.5)',\n",
    "    yaxis_range= [0.0, 1.0],\n",
    "    xaxis_range= [0.0, 1.0],\n",
    "    xaxis_title=\"1 - Specificity\",\n",
    "    yaxis_title=\"Sensitivity\",\n",
    "    xaxis_tickfont= dict(size=32),\n",
    "    xaxis_title_font=dict(size=32),\n",
    "    yaxis_tickfont= dict(size=32),\n",
    "    yaxis_title_font=dict(size=32),\n",
    "    xaxis_linecolor = 'black',\n",
    "    yaxis_linecolor = 'black',\n",
    "    template=\"plotly_white\",\n",
    "    width=800,\n",
    "    height=800,\n",
    "    legend=dict(\n",
    "        yanchor=\"bottom\",\n",
    "        xanchor=\"right\",\n",
    "        x=1.01,\n",
    "        y=0.01,\n",
    "        font=dict(size=26, color='black')\n",
    "        )\n",
    ")\n",
    "\n",
    "# Add diagonal dashed line (y=x)\n",
    "fig.add_shape(\n",
    "    type='line',\n",
    "    line=dict(dash='dash', width=0.5),\n",
    "    x0=0,\n",
    "    y0=0,\n",
    "    x1=1,\n",
    "    y1=1\n",
    ")\n",
    "\n",
    "# Show the plot\n",
    "fig.show()\n"
   ]
  },
  {
   "cell_type": "markdown",
   "metadata": {},
   "source": [
    "## 4.3 AUC Alvarado Score"
   ]
  },
  {
   "cell_type": "code",
   "execution_count": 59,
   "metadata": {},
   "outputs": [
    {
     "data": {
      "text/plain": [
       "0      2\n",
       "1      4\n",
       "2      0\n",
       "3      5\n",
       "4      5\n",
       "      ..\n",
       "331    3\n",
       "332    9\n",
       "333    1\n",
       "334    6\n",
       "335    2\n",
       "Name: alvarado_score, Length: 336, dtype: int64"
      ]
     },
     "execution_count": 59,
     "metadata": {},
     "output_type": "execute_result"
    }
   ],
   "source": [
    "df_appendicitis_PoC['alvarado_score']"
   ]
  },
  {
   "cell_type": "code",
   "execution_count": 60,
   "metadata": {},
   "outputs": [],
   "source": [
    "Validatie_Alvarado = X_val_cat.merge(df_appendicitis_PoC, how='left', left_index=True, right_index=True)"
   ]
  },
  {
   "cell_type": "code",
   "execution_count": 61,
   "metadata": {},
   "outputs": [],
   "source": [
    "Validatie_Alvarado['alvarado_score_adj'] = Validatie_Alvarado['alvarado_score']/10"
   ]
  },
  {
   "cell_type": "code",
   "execution_count": 62,
   "metadata": {},
   "outputs": [
    {
     "name": "stdout",
     "output_type": "stream",
     "text": [
      "AUC for the Alvarado score: 0.82\n"
     ]
    }
   ],
   "source": [
    "# Replace categorical labels with numeric values for GT\n",
    "compute_dummy = {'GT': {'no appendicitis': 0, 'appendicitis': 1}}  \n",
    "Validatie_Alvarado.replace(compute_dummy, inplace=True)\n",
    "\n",
    "# Extract the labels and predictions for the Alvarado score\n",
    "label = Validatie_Alvarado['GT'].values\n",
    "alvarado_probs = Validatie_Alvarado['alvarado_score_adj'].values\n",
    "\n",
    "# Compute the AUC for the Alvarado score\n",
    "auc_alvarado = roc_auc_score(label, alvarado_probs)\n",
    "\n",
    "print(f\"AUC for the Alvarado score: {auc_alvarado:.2f}\")"
   ]
  },
  {
   "cell_type": "code",
   "execution_count": 63,
   "metadata": {},
   "outputs": [
    {
     "name": "stdout",
     "output_type": "stream",
     "text": [
      "AUC for the Alvarado score: 0.82\n",
      "95% CI for the Alvarado score: [0.72 - 0.91]\n"
     ]
    },
    {
     "data": {
      "application/vnd.plotly.v1+json": {
       "config": {
        "plotlyServerURL": "https://plot.ly"
       },
       "data": [
        {
         "line": {
          "color": "rgba(45, 130, 164, 1.0)",
          "width": 3
         },
         "mode": "lines",
         "name": "Alvarado AUROC 0.824 ±0.095",
         "showlegend": true,
         "type": "scatter",
         "x": [
          0,
          0,
          0,
          0,
          0.029411764705882353,
          0.17647058823529413,
          0.4411764705882353,
          0.6176470588235294,
          0.7647058823529411,
          0.9411764705882353,
          1
         ],
         "y": [
          0.30977829598793993,
          0.30977829598793993,
          0.30977829598793993,
          0.30977829598793993,
          0.4222696677286307,
          0.5951959093687281,
          0.8635023589460107,
          0.9597254182132807,
          0.9934551277830518,
          0.9999868347338936,
          1
         ]
        },
        {
         "fill": "toself",
         "fillcolor": "rgba(45, 130, 164, 0.1)",
         "line": {
          "color": "rgba(255,255,255,0)"
         },
         "name": "95% CI",
         "showlegend": false,
         "type": "scatter",
         "x": [
          0,
          0,
          0,
          0,
          0.029411764705882353,
          0.17647058823529413,
          0.4411764705882353,
          0.6176470588235294,
          0.7647058823529411,
          0.9411764705882353,
          1,
          1,
          0.9411764705882353,
          0.7647058823529411,
          0.6176470588235294,
          0.4411764705882353,
          0.17647058823529413,
          0.029411764705882353,
          0,
          0,
          0,
          0
         ],
         "y": [
          0.05299240824493906,
          0.05299240824493906,
          0.05299240824493906,
          0.05299240824493906,
          0.22362249493166605,
          0.4045132078382053,
          0.7084432174636178,
          0.8813620775440116,
          0.964279085621703,
          0.9993650131289137,
          1,
          1,
          1.0006086563388736,
          1.0226311699444006,
          1.0380887588825498,
          1.0185615004284037,
          0.7858786108992509,
          0.6209168405255954,
          0.5665641837309408,
          0.5665641837309408,
          0.5665641837309408,
          0.5665641837309408
         ]
        },
        {
         "hoverinfo": "name+x+y",
         "line": {
          "color": "rgba(45, 130, 164, 0.5)",
          "width": 1
         },
         "mode": "lines",
         "name": "Lower CI",
         "showlegend": false,
         "type": "scatter",
         "x": [
          0,
          0,
          0,
          0,
          0.029411764705882353,
          0.17647058823529413,
          0.4411764705882353,
          0.6176470588235294,
          0.7647058823529411,
          0.9411764705882353,
          1
         ],
         "y": [
          0.05299240824493906,
          0.05299240824493906,
          0.05299240824493906,
          0.05299240824493906,
          0.22362249493166605,
          0.4045132078382053,
          0.7084432174636178,
          0.8813620775440116,
          0.964279085621703,
          0.9993650131289137,
          1
         ]
        },
        {
         "fill": "tonexty",
         "fillcolor": "rgba(45, 130, 164, 0.1)",
         "hoverinfo": "name+x+y",
         "line": {
          "color": "rgba(45, 130, 164, 0.5)",
          "width": 1
         },
         "mode": "lines",
         "name": "Upper CI",
         "showlegend": false,
         "type": "scatter",
         "x": [
          0,
          0,
          0,
          0,
          0.029411764705882353,
          0.17647058823529413,
          0.4411764705882353,
          0.6176470588235294,
          0.7647058823529411,
          0.9411764705882353,
          1
         ],
         "y": [
          0.5665641837309408,
          0.5665641837309408,
          0.5665641837309408,
          0.5665641837309408,
          0.6209168405255954,
          0.7858786108992509,
          1.0185615004284037,
          1.0380887588825498,
          1.0226311699444006,
          1.0006086563388736,
          1
         ]
        }
       ],
       "layout": {
        "height": 800,
        "legend": {
         "font": {
          "color": "black",
          "size": 28
         },
         "x": 1.01,
         "xanchor": "right",
         "y": 0.03,
         "yanchor": "bottom"
        },
        "shapes": [
         {
          "line": {
           "dash": "dash",
           "width": 0.5
          },
          "type": "line",
          "x0": 0,
          "x1": 1,
          "y0": 0,
          "y1": 1
         }
        ],
        "template": {
         "data": {
          "bar": [
           {
            "error_x": {
             "color": "#2a3f5f"
            },
            "error_y": {
             "color": "#2a3f5f"
            },
            "marker": {
             "line": {
              "color": "white",
              "width": 0.5
             },
             "pattern": {
              "fillmode": "overlay",
              "size": 10,
              "solidity": 0.2
             }
            },
            "type": "bar"
           }
          ],
          "barpolar": [
           {
            "marker": {
             "line": {
              "color": "white",
              "width": 0.5
             },
             "pattern": {
              "fillmode": "overlay",
              "size": 10,
              "solidity": 0.2
             }
            },
            "type": "barpolar"
           }
          ],
          "carpet": [
           {
            "aaxis": {
             "endlinecolor": "#2a3f5f",
             "gridcolor": "#C8D4E3",
             "linecolor": "#C8D4E3",
             "minorgridcolor": "#C8D4E3",
             "startlinecolor": "#2a3f5f"
            },
            "baxis": {
             "endlinecolor": "#2a3f5f",
             "gridcolor": "#C8D4E3",
             "linecolor": "#C8D4E3",
             "minorgridcolor": "#C8D4E3",
             "startlinecolor": "#2a3f5f"
            },
            "type": "carpet"
           }
          ],
          "choropleth": [
           {
            "colorbar": {
             "outlinewidth": 0,
             "ticks": ""
            },
            "type": "choropleth"
           }
          ],
          "contour": [
           {
            "colorbar": {
             "outlinewidth": 0,
             "ticks": ""
            },
            "colorscale": [
             [
              0,
              "#0d0887"
             ],
             [
              0.1111111111111111,
              "#46039f"
             ],
             [
              0.2222222222222222,
              "#7201a8"
             ],
             [
              0.3333333333333333,
              "#9c179e"
             ],
             [
              0.4444444444444444,
              "#bd3786"
             ],
             [
              0.5555555555555556,
              "#d8576b"
             ],
             [
              0.6666666666666666,
              "#ed7953"
             ],
             [
              0.7777777777777778,
              "#fb9f3a"
             ],
             [
              0.8888888888888888,
              "#fdca26"
             ],
             [
              1,
              "#f0f921"
             ]
            ],
            "type": "contour"
           }
          ],
          "contourcarpet": [
           {
            "colorbar": {
             "outlinewidth": 0,
             "ticks": ""
            },
            "type": "contourcarpet"
           }
          ],
          "heatmap": [
           {
            "colorbar": {
             "outlinewidth": 0,
             "ticks": ""
            },
            "colorscale": [
             [
              0,
              "#0d0887"
             ],
             [
              0.1111111111111111,
              "#46039f"
             ],
             [
              0.2222222222222222,
              "#7201a8"
             ],
             [
              0.3333333333333333,
              "#9c179e"
             ],
             [
              0.4444444444444444,
              "#bd3786"
             ],
             [
              0.5555555555555556,
              "#d8576b"
             ],
             [
              0.6666666666666666,
              "#ed7953"
             ],
             [
              0.7777777777777778,
              "#fb9f3a"
             ],
             [
              0.8888888888888888,
              "#fdca26"
             ],
             [
              1,
              "#f0f921"
             ]
            ],
            "type": "heatmap"
           }
          ],
          "heatmapgl": [
           {
            "colorbar": {
             "outlinewidth": 0,
             "ticks": ""
            },
            "colorscale": [
             [
              0,
              "#0d0887"
             ],
             [
              0.1111111111111111,
              "#46039f"
             ],
             [
              0.2222222222222222,
              "#7201a8"
             ],
             [
              0.3333333333333333,
              "#9c179e"
             ],
             [
              0.4444444444444444,
              "#bd3786"
             ],
             [
              0.5555555555555556,
              "#d8576b"
             ],
             [
              0.6666666666666666,
              "#ed7953"
             ],
             [
              0.7777777777777778,
              "#fb9f3a"
             ],
             [
              0.8888888888888888,
              "#fdca26"
             ],
             [
              1,
              "#f0f921"
             ]
            ],
            "type": "heatmapgl"
           }
          ],
          "histogram": [
           {
            "marker": {
             "pattern": {
              "fillmode": "overlay",
              "size": 10,
              "solidity": 0.2
             }
            },
            "type": "histogram"
           }
          ],
          "histogram2d": [
           {
            "colorbar": {
             "outlinewidth": 0,
             "ticks": ""
            },
            "colorscale": [
             [
              0,
              "#0d0887"
             ],
             [
              0.1111111111111111,
              "#46039f"
             ],
             [
              0.2222222222222222,
              "#7201a8"
             ],
             [
              0.3333333333333333,
              "#9c179e"
             ],
             [
              0.4444444444444444,
              "#bd3786"
             ],
             [
              0.5555555555555556,
              "#d8576b"
             ],
             [
              0.6666666666666666,
              "#ed7953"
             ],
             [
              0.7777777777777778,
              "#fb9f3a"
             ],
             [
              0.8888888888888888,
              "#fdca26"
             ],
             [
              1,
              "#f0f921"
             ]
            ],
            "type": "histogram2d"
           }
          ],
          "histogram2dcontour": [
           {
            "colorbar": {
             "outlinewidth": 0,
             "ticks": ""
            },
            "colorscale": [
             [
              0,
              "#0d0887"
             ],
             [
              0.1111111111111111,
              "#46039f"
             ],
             [
              0.2222222222222222,
              "#7201a8"
             ],
             [
              0.3333333333333333,
              "#9c179e"
             ],
             [
              0.4444444444444444,
              "#bd3786"
             ],
             [
              0.5555555555555556,
              "#d8576b"
             ],
             [
              0.6666666666666666,
              "#ed7953"
             ],
             [
              0.7777777777777778,
              "#fb9f3a"
             ],
             [
              0.8888888888888888,
              "#fdca26"
             ],
             [
              1,
              "#f0f921"
             ]
            ],
            "type": "histogram2dcontour"
           }
          ],
          "mesh3d": [
           {
            "colorbar": {
             "outlinewidth": 0,
             "ticks": ""
            },
            "type": "mesh3d"
           }
          ],
          "parcoords": [
           {
            "line": {
             "colorbar": {
              "outlinewidth": 0,
              "ticks": ""
             }
            },
            "type": "parcoords"
           }
          ],
          "pie": [
           {
            "automargin": true,
            "type": "pie"
           }
          ],
          "scatter": [
           {
            "fillpattern": {
             "fillmode": "overlay",
             "size": 10,
             "solidity": 0.2
            },
            "type": "scatter"
           }
          ],
          "scatter3d": [
           {
            "line": {
             "colorbar": {
              "outlinewidth": 0,
              "ticks": ""
             }
            },
            "marker": {
             "colorbar": {
              "outlinewidth": 0,
              "ticks": ""
             }
            },
            "type": "scatter3d"
           }
          ],
          "scattercarpet": [
           {
            "marker": {
             "colorbar": {
              "outlinewidth": 0,
              "ticks": ""
             }
            },
            "type": "scattercarpet"
           }
          ],
          "scattergeo": [
           {
            "marker": {
             "colorbar": {
              "outlinewidth": 0,
              "ticks": ""
             }
            },
            "type": "scattergeo"
           }
          ],
          "scattergl": [
           {
            "marker": {
             "colorbar": {
              "outlinewidth": 0,
              "ticks": ""
             }
            },
            "type": "scattergl"
           }
          ],
          "scattermapbox": [
           {
            "marker": {
             "colorbar": {
              "outlinewidth": 0,
              "ticks": ""
             }
            },
            "type": "scattermapbox"
           }
          ],
          "scatterpolar": [
           {
            "marker": {
             "colorbar": {
              "outlinewidth": 0,
              "ticks": ""
             }
            },
            "type": "scatterpolar"
           }
          ],
          "scatterpolargl": [
           {
            "marker": {
             "colorbar": {
              "outlinewidth": 0,
              "ticks": ""
             }
            },
            "type": "scatterpolargl"
           }
          ],
          "scatterternary": [
           {
            "marker": {
             "colorbar": {
              "outlinewidth": 0,
              "ticks": ""
             }
            },
            "type": "scatterternary"
           }
          ],
          "surface": [
           {
            "colorbar": {
             "outlinewidth": 0,
             "ticks": ""
            },
            "colorscale": [
             [
              0,
              "#0d0887"
             ],
             [
              0.1111111111111111,
              "#46039f"
             ],
             [
              0.2222222222222222,
              "#7201a8"
             ],
             [
              0.3333333333333333,
              "#9c179e"
             ],
             [
              0.4444444444444444,
              "#bd3786"
             ],
             [
              0.5555555555555556,
              "#d8576b"
             ],
             [
              0.6666666666666666,
              "#ed7953"
             ],
             [
              0.7777777777777778,
              "#fb9f3a"
             ],
             [
              0.8888888888888888,
              "#fdca26"
             ],
             [
              1,
              "#f0f921"
             ]
            ],
            "type": "surface"
           }
          ],
          "table": [
           {
            "cells": {
             "fill": {
              "color": "#EBF0F8"
             },
             "line": {
              "color": "white"
             }
            },
            "header": {
             "fill": {
              "color": "#C8D4E3"
             },
             "line": {
              "color": "white"
             }
            },
            "type": "table"
           }
          ]
         },
         "layout": {
          "annotationdefaults": {
           "arrowcolor": "#2a3f5f",
           "arrowhead": 0,
           "arrowwidth": 1
          },
          "autotypenumbers": "strict",
          "coloraxis": {
           "colorbar": {
            "outlinewidth": 0,
            "ticks": ""
           }
          },
          "colorscale": {
           "diverging": [
            [
             0,
             "#8e0152"
            ],
            [
             0.1,
             "#c51b7d"
            ],
            [
             0.2,
             "#de77ae"
            ],
            [
             0.3,
             "#f1b6da"
            ],
            [
             0.4,
             "#fde0ef"
            ],
            [
             0.5,
             "#f7f7f7"
            ],
            [
             0.6,
             "#e6f5d0"
            ],
            [
             0.7,
             "#b8e186"
            ],
            [
             0.8,
             "#7fbc41"
            ],
            [
             0.9,
             "#4d9221"
            ],
            [
             1,
             "#276419"
            ]
           ],
           "sequential": [
            [
             0,
             "#0d0887"
            ],
            [
             0.1111111111111111,
             "#46039f"
            ],
            [
             0.2222222222222222,
             "#7201a8"
            ],
            [
             0.3333333333333333,
             "#9c179e"
            ],
            [
             0.4444444444444444,
             "#bd3786"
            ],
            [
             0.5555555555555556,
             "#d8576b"
            ],
            [
             0.6666666666666666,
             "#ed7953"
            ],
            [
             0.7777777777777778,
             "#fb9f3a"
            ],
            [
             0.8888888888888888,
             "#fdca26"
            ],
            [
             1,
             "#f0f921"
            ]
           ],
           "sequentialminus": [
            [
             0,
             "#0d0887"
            ],
            [
             0.1111111111111111,
             "#46039f"
            ],
            [
             0.2222222222222222,
             "#7201a8"
            ],
            [
             0.3333333333333333,
             "#9c179e"
            ],
            [
             0.4444444444444444,
             "#bd3786"
            ],
            [
             0.5555555555555556,
             "#d8576b"
            ],
            [
             0.6666666666666666,
             "#ed7953"
            ],
            [
             0.7777777777777778,
             "#fb9f3a"
            ],
            [
             0.8888888888888888,
             "#fdca26"
            ],
            [
             1,
             "#f0f921"
            ]
           ]
          },
          "colorway": [
           "#636efa",
           "#EF553B",
           "#00cc96",
           "#ab63fa",
           "#FFA15A",
           "#19d3f3",
           "#FF6692",
           "#B6E880",
           "#FF97FF",
           "#FECB52"
          ],
          "font": {
           "color": "#2a3f5f"
          },
          "geo": {
           "bgcolor": "white",
           "lakecolor": "white",
           "landcolor": "white",
           "showlakes": true,
           "showland": true,
           "subunitcolor": "#C8D4E3"
          },
          "hoverlabel": {
           "align": "left"
          },
          "hovermode": "closest",
          "mapbox": {
           "style": "light"
          },
          "paper_bgcolor": "white",
          "plot_bgcolor": "white",
          "polar": {
           "angularaxis": {
            "gridcolor": "#EBF0F8",
            "linecolor": "#EBF0F8",
            "ticks": ""
           },
           "bgcolor": "white",
           "radialaxis": {
            "gridcolor": "#EBF0F8",
            "linecolor": "#EBF0F8",
            "ticks": ""
           }
          },
          "scene": {
           "xaxis": {
            "backgroundcolor": "white",
            "gridcolor": "#DFE8F3",
            "gridwidth": 2,
            "linecolor": "#EBF0F8",
            "showbackground": true,
            "ticks": "",
            "zerolinecolor": "#EBF0F8"
           },
           "yaxis": {
            "backgroundcolor": "white",
            "gridcolor": "#DFE8F3",
            "gridwidth": 2,
            "linecolor": "#EBF0F8",
            "showbackground": true,
            "ticks": "",
            "zerolinecolor": "#EBF0F8"
           },
           "zaxis": {
            "backgroundcolor": "white",
            "gridcolor": "#DFE8F3",
            "gridwidth": 2,
            "linecolor": "#EBF0F8",
            "showbackground": true,
            "ticks": "",
            "zerolinecolor": "#EBF0F8"
           }
          },
          "shapedefaults": {
           "line": {
            "color": "#2a3f5f"
           }
          },
          "ternary": {
           "aaxis": {
            "gridcolor": "#DFE8F3",
            "linecolor": "#A2B1C6",
            "ticks": ""
           },
           "baxis": {
            "gridcolor": "#DFE8F3",
            "linecolor": "#A2B1C6",
            "ticks": ""
           },
           "bgcolor": "white",
           "caxis": {
            "gridcolor": "#DFE8F3",
            "linecolor": "#A2B1C6",
            "ticks": ""
           }
          },
          "title": {
           "x": 0.05
          },
          "xaxis": {
           "automargin": true,
           "gridcolor": "#EBF0F8",
           "linecolor": "#EBF0F8",
           "ticks": "",
           "title": {
            "standoff": 15
           },
           "zerolinecolor": "#EBF0F8",
           "zerolinewidth": 2
          },
          "yaxis": {
           "automargin": true,
           "gridcolor": "#EBF0F8",
           "linecolor": "#EBF0F8",
           "ticks": "",
           "title": {
            "standoff": 15
           },
           "zerolinecolor": "#EBF0F8",
           "zerolinewidth": 2
          }
         }
        },
        "width": 800,
        "xaxis": {
         "linecolor": "black",
         "range": [
          0,
          1
         ],
         "tickfont": {
          "size": 32
         },
         "title": {
          "font": {
           "size": 32
          },
          "text": "1 - Specificity<br><sup>Diagonal segments are produced by ties"
         }
        },
        "yaxis": {
         "linecolor": "black",
         "range": [
          0,
          1
         ],
         "tickfont": {
          "size": 32
         },
         "title": {
          "font": {
           "size": 32
          },
          "text": "Sensitivity"
         }
        }
       }
      },
      "text/html": [
       "<div>                            <div id=\"1c2325bd-bf5d-4810-ad1f-c40fc7e144f0\" class=\"plotly-graph-div\" style=\"height:800px; width:800px;\"></div>            <script type=\"text/javascript\">                require([\"plotly\"], function(Plotly) {                    window.PLOTLYENV=window.PLOTLYENV || {};                                    if (document.getElementById(\"1c2325bd-bf5d-4810-ad1f-c40fc7e144f0\")) {                    Plotly.newPlot(                        \"1c2325bd-bf5d-4810-ad1f-c40fc7e144f0\",                        [{\"line\":{\"color\":\"rgba(45, 130, 164, 1.0)\",\"width\":3},\"mode\":\"lines\",\"name\":\"Alvarado AUROC 0.824 ±0.095\",\"showlegend\":true,\"x\":[0.0,0.0,0.0,0.0,0.029411764705882353,0.17647058823529413,0.4411764705882353,0.6176470588235294,0.7647058823529411,0.9411764705882353,1.0],\"y\":[0.30977829598793993,0.30977829598793993,0.30977829598793993,0.30977829598793993,0.4222696677286307,0.5951959093687281,0.8635023589460107,0.9597254182132807,0.9934551277830518,0.9999868347338936,1.0],\"type\":\"scatter\"},{\"fill\":\"toself\",\"fillcolor\":\"rgba(45, 130, 164, 0.1)\",\"line\":{\"color\":\"rgba(255,255,255,0)\"},\"name\":\"95% CI\",\"showlegend\":false,\"x\":[0.0,0.0,0.0,0.0,0.029411764705882353,0.17647058823529413,0.4411764705882353,0.6176470588235294,0.7647058823529411,0.9411764705882353,1.0,1.0,0.9411764705882353,0.7647058823529411,0.6176470588235294,0.4411764705882353,0.17647058823529413,0.029411764705882353,0.0,0.0,0.0,0.0],\"y\":[0.05299240824493906,0.05299240824493906,0.05299240824493906,0.05299240824493906,0.22362249493166605,0.4045132078382053,0.7084432174636178,0.8813620775440116,0.964279085621703,0.9993650131289137,1.0,1.0,1.0006086563388736,1.0226311699444006,1.0380887588825498,1.0185615004284037,0.7858786108992509,0.6209168405255954,0.5665641837309408,0.5665641837309408,0.5665641837309408,0.5665641837309408],\"type\":\"scatter\"},{\"hoverinfo\":\"name+x+y\",\"line\":{\"color\":\"rgba(45, 130, 164, 0.5)\",\"width\":1},\"mode\":\"lines\",\"name\":\"Lower CI\",\"showlegend\":false,\"x\":[0.0,0.0,0.0,0.0,0.029411764705882353,0.17647058823529413,0.4411764705882353,0.6176470588235294,0.7647058823529411,0.9411764705882353,1.0],\"y\":[0.05299240824493906,0.05299240824493906,0.05299240824493906,0.05299240824493906,0.22362249493166605,0.4045132078382053,0.7084432174636178,0.8813620775440116,0.964279085621703,0.9993650131289137,1.0],\"type\":\"scatter\"},{\"fill\":\"tonexty\",\"fillcolor\":\"rgba(45, 130, 164, 0.1)\",\"hoverinfo\":\"name+x+y\",\"line\":{\"color\":\"rgba(45, 130, 164, 0.5)\",\"width\":1},\"mode\":\"lines\",\"name\":\"Upper CI\",\"showlegend\":false,\"x\":[0.0,0.0,0.0,0.0,0.029411764705882353,0.17647058823529413,0.4411764705882353,0.6176470588235294,0.7647058823529411,0.9411764705882353,1.0],\"y\":[0.5665641837309408,0.5665641837309408,0.5665641837309408,0.5665641837309408,0.6209168405255954,0.7858786108992509,1.0185615004284037,1.0380887588825498,1.0226311699444006,1.0006086563388736,1.0],\"type\":\"scatter\"}],                        {\"template\":{\"data\":{\"barpolar\":[{\"marker\":{\"line\":{\"color\":\"white\",\"width\":0.5},\"pattern\":{\"fillmode\":\"overlay\",\"size\":10,\"solidity\":0.2}},\"type\":\"barpolar\"}],\"bar\":[{\"error_x\":{\"color\":\"#2a3f5f\"},\"error_y\":{\"color\":\"#2a3f5f\"},\"marker\":{\"line\":{\"color\":\"white\",\"width\":0.5},\"pattern\":{\"fillmode\":\"overlay\",\"size\":10,\"solidity\":0.2}},\"type\":\"bar\"}],\"carpet\":[{\"aaxis\":{\"endlinecolor\":\"#2a3f5f\",\"gridcolor\":\"#C8D4E3\",\"linecolor\":\"#C8D4E3\",\"minorgridcolor\":\"#C8D4E3\",\"startlinecolor\":\"#2a3f5f\"},\"baxis\":{\"endlinecolor\":\"#2a3f5f\",\"gridcolor\":\"#C8D4E3\",\"linecolor\":\"#C8D4E3\",\"minorgridcolor\":\"#C8D4E3\",\"startlinecolor\":\"#2a3f5f\"},\"type\":\"carpet\"}],\"choropleth\":[{\"colorbar\":{\"outlinewidth\":0,\"ticks\":\"\"},\"type\":\"choropleth\"}],\"contourcarpet\":[{\"colorbar\":{\"outlinewidth\":0,\"ticks\":\"\"},\"type\":\"contourcarpet\"}],\"contour\":[{\"colorbar\":{\"outlinewidth\":0,\"ticks\":\"\"},\"colorscale\":[[0.0,\"#0d0887\"],[0.1111111111111111,\"#46039f\"],[0.2222222222222222,\"#7201a8\"],[0.3333333333333333,\"#9c179e\"],[0.4444444444444444,\"#bd3786\"],[0.5555555555555556,\"#d8576b\"],[0.6666666666666666,\"#ed7953\"],[0.7777777777777778,\"#fb9f3a\"],[0.8888888888888888,\"#fdca26\"],[1.0,\"#f0f921\"]],\"type\":\"contour\"}],\"heatmapgl\":[{\"colorbar\":{\"outlinewidth\":0,\"ticks\":\"\"},\"colorscale\":[[0.0,\"#0d0887\"],[0.1111111111111111,\"#46039f\"],[0.2222222222222222,\"#7201a8\"],[0.3333333333333333,\"#9c179e\"],[0.4444444444444444,\"#bd3786\"],[0.5555555555555556,\"#d8576b\"],[0.6666666666666666,\"#ed7953\"],[0.7777777777777778,\"#fb9f3a\"],[0.8888888888888888,\"#fdca26\"],[1.0,\"#f0f921\"]],\"type\":\"heatmapgl\"}],\"heatmap\":[{\"colorbar\":{\"outlinewidth\":0,\"ticks\":\"\"},\"colorscale\":[[0.0,\"#0d0887\"],[0.1111111111111111,\"#46039f\"],[0.2222222222222222,\"#7201a8\"],[0.3333333333333333,\"#9c179e\"],[0.4444444444444444,\"#bd3786\"],[0.5555555555555556,\"#d8576b\"],[0.6666666666666666,\"#ed7953\"],[0.7777777777777778,\"#fb9f3a\"],[0.8888888888888888,\"#fdca26\"],[1.0,\"#f0f921\"]],\"type\":\"heatmap\"}],\"histogram2dcontour\":[{\"colorbar\":{\"outlinewidth\":0,\"ticks\":\"\"},\"colorscale\":[[0.0,\"#0d0887\"],[0.1111111111111111,\"#46039f\"],[0.2222222222222222,\"#7201a8\"],[0.3333333333333333,\"#9c179e\"],[0.4444444444444444,\"#bd3786\"],[0.5555555555555556,\"#d8576b\"],[0.6666666666666666,\"#ed7953\"],[0.7777777777777778,\"#fb9f3a\"],[0.8888888888888888,\"#fdca26\"],[1.0,\"#f0f921\"]],\"type\":\"histogram2dcontour\"}],\"histogram2d\":[{\"colorbar\":{\"outlinewidth\":0,\"ticks\":\"\"},\"colorscale\":[[0.0,\"#0d0887\"],[0.1111111111111111,\"#46039f\"],[0.2222222222222222,\"#7201a8\"],[0.3333333333333333,\"#9c179e\"],[0.4444444444444444,\"#bd3786\"],[0.5555555555555556,\"#d8576b\"],[0.6666666666666666,\"#ed7953\"],[0.7777777777777778,\"#fb9f3a\"],[0.8888888888888888,\"#fdca26\"],[1.0,\"#f0f921\"]],\"type\":\"histogram2d\"}],\"histogram\":[{\"marker\":{\"pattern\":{\"fillmode\":\"overlay\",\"size\":10,\"solidity\":0.2}},\"type\":\"histogram\"}],\"mesh3d\":[{\"colorbar\":{\"outlinewidth\":0,\"ticks\":\"\"},\"type\":\"mesh3d\"}],\"parcoords\":[{\"line\":{\"colorbar\":{\"outlinewidth\":0,\"ticks\":\"\"}},\"type\":\"parcoords\"}],\"pie\":[{\"automargin\":true,\"type\":\"pie\"}],\"scatter3d\":[{\"line\":{\"colorbar\":{\"outlinewidth\":0,\"ticks\":\"\"}},\"marker\":{\"colorbar\":{\"outlinewidth\":0,\"ticks\":\"\"}},\"type\":\"scatter3d\"}],\"scattercarpet\":[{\"marker\":{\"colorbar\":{\"outlinewidth\":0,\"ticks\":\"\"}},\"type\":\"scattercarpet\"}],\"scattergeo\":[{\"marker\":{\"colorbar\":{\"outlinewidth\":0,\"ticks\":\"\"}},\"type\":\"scattergeo\"}],\"scattergl\":[{\"marker\":{\"colorbar\":{\"outlinewidth\":0,\"ticks\":\"\"}},\"type\":\"scattergl\"}],\"scattermapbox\":[{\"marker\":{\"colorbar\":{\"outlinewidth\":0,\"ticks\":\"\"}},\"type\":\"scattermapbox\"}],\"scatterpolargl\":[{\"marker\":{\"colorbar\":{\"outlinewidth\":0,\"ticks\":\"\"}},\"type\":\"scatterpolargl\"}],\"scatterpolar\":[{\"marker\":{\"colorbar\":{\"outlinewidth\":0,\"ticks\":\"\"}},\"type\":\"scatterpolar\"}],\"scatter\":[{\"fillpattern\":{\"fillmode\":\"overlay\",\"size\":10,\"solidity\":0.2},\"type\":\"scatter\"}],\"scatterternary\":[{\"marker\":{\"colorbar\":{\"outlinewidth\":0,\"ticks\":\"\"}},\"type\":\"scatterternary\"}],\"surface\":[{\"colorbar\":{\"outlinewidth\":0,\"ticks\":\"\"},\"colorscale\":[[0.0,\"#0d0887\"],[0.1111111111111111,\"#46039f\"],[0.2222222222222222,\"#7201a8\"],[0.3333333333333333,\"#9c179e\"],[0.4444444444444444,\"#bd3786\"],[0.5555555555555556,\"#d8576b\"],[0.6666666666666666,\"#ed7953\"],[0.7777777777777778,\"#fb9f3a\"],[0.8888888888888888,\"#fdca26\"],[1.0,\"#f0f921\"]],\"type\":\"surface\"}],\"table\":[{\"cells\":{\"fill\":{\"color\":\"#EBF0F8\"},\"line\":{\"color\":\"white\"}},\"header\":{\"fill\":{\"color\":\"#C8D4E3\"},\"line\":{\"color\":\"white\"}},\"type\":\"table\"}]},\"layout\":{\"annotationdefaults\":{\"arrowcolor\":\"#2a3f5f\",\"arrowhead\":0,\"arrowwidth\":1},\"autotypenumbers\":\"strict\",\"coloraxis\":{\"colorbar\":{\"outlinewidth\":0,\"ticks\":\"\"}},\"colorscale\":{\"diverging\":[[0,\"#8e0152\"],[0.1,\"#c51b7d\"],[0.2,\"#de77ae\"],[0.3,\"#f1b6da\"],[0.4,\"#fde0ef\"],[0.5,\"#f7f7f7\"],[0.6,\"#e6f5d0\"],[0.7,\"#b8e186\"],[0.8,\"#7fbc41\"],[0.9,\"#4d9221\"],[1,\"#276419\"]],\"sequential\":[[0.0,\"#0d0887\"],[0.1111111111111111,\"#46039f\"],[0.2222222222222222,\"#7201a8\"],[0.3333333333333333,\"#9c179e\"],[0.4444444444444444,\"#bd3786\"],[0.5555555555555556,\"#d8576b\"],[0.6666666666666666,\"#ed7953\"],[0.7777777777777778,\"#fb9f3a\"],[0.8888888888888888,\"#fdca26\"],[1.0,\"#f0f921\"]],\"sequentialminus\":[[0.0,\"#0d0887\"],[0.1111111111111111,\"#46039f\"],[0.2222222222222222,\"#7201a8\"],[0.3333333333333333,\"#9c179e\"],[0.4444444444444444,\"#bd3786\"],[0.5555555555555556,\"#d8576b\"],[0.6666666666666666,\"#ed7953\"],[0.7777777777777778,\"#fb9f3a\"],[0.8888888888888888,\"#fdca26\"],[1.0,\"#f0f921\"]]},\"colorway\":[\"#636efa\",\"#EF553B\",\"#00cc96\",\"#ab63fa\",\"#FFA15A\",\"#19d3f3\",\"#FF6692\",\"#B6E880\",\"#FF97FF\",\"#FECB52\"],\"font\":{\"color\":\"#2a3f5f\"},\"geo\":{\"bgcolor\":\"white\",\"lakecolor\":\"white\",\"landcolor\":\"white\",\"showlakes\":true,\"showland\":true,\"subunitcolor\":\"#C8D4E3\"},\"hoverlabel\":{\"align\":\"left\"},\"hovermode\":\"closest\",\"mapbox\":{\"style\":\"light\"},\"paper_bgcolor\":\"white\",\"plot_bgcolor\":\"white\",\"polar\":{\"angularaxis\":{\"gridcolor\":\"#EBF0F8\",\"linecolor\":\"#EBF0F8\",\"ticks\":\"\"},\"bgcolor\":\"white\",\"radialaxis\":{\"gridcolor\":\"#EBF0F8\",\"linecolor\":\"#EBF0F8\",\"ticks\":\"\"}},\"scene\":{\"xaxis\":{\"backgroundcolor\":\"white\",\"gridcolor\":\"#DFE8F3\",\"gridwidth\":2,\"linecolor\":\"#EBF0F8\",\"showbackground\":true,\"ticks\":\"\",\"zerolinecolor\":\"#EBF0F8\"},\"yaxis\":{\"backgroundcolor\":\"white\",\"gridcolor\":\"#DFE8F3\",\"gridwidth\":2,\"linecolor\":\"#EBF0F8\",\"showbackground\":true,\"ticks\":\"\",\"zerolinecolor\":\"#EBF0F8\"},\"zaxis\":{\"backgroundcolor\":\"white\",\"gridcolor\":\"#DFE8F3\",\"gridwidth\":2,\"linecolor\":\"#EBF0F8\",\"showbackground\":true,\"ticks\":\"\",\"zerolinecolor\":\"#EBF0F8\"}},\"shapedefaults\":{\"line\":{\"color\":\"#2a3f5f\"}},\"ternary\":{\"aaxis\":{\"gridcolor\":\"#DFE8F3\",\"linecolor\":\"#A2B1C6\",\"ticks\":\"\"},\"baxis\":{\"gridcolor\":\"#DFE8F3\",\"linecolor\":\"#A2B1C6\",\"ticks\":\"\"},\"bgcolor\":\"white\",\"caxis\":{\"gridcolor\":\"#DFE8F3\",\"linecolor\":\"#A2B1C6\",\"ticks\":\"\"}},\"title\":{\"x\":0.05},\"xaxis\":{\"automargin\":true,\"gridcolor\":\"#EBF0F8\",\"linecolor\":\"#EBF0F8\",\"ticks\":\"\",\"title\":{\"standoff\":15},\"zerolinecolor\":\"#EBF0F8\",\"zerolinewidth\":2},\"yaxis\":{\"automargin\":true,\"gridcolor\":\"#EBF0F8\",\"linecolor\":\"#EBF0F8\",\"ticks\":\"\",\"title\":{\"standoff\":15},\"zerolinecolor\":\"#EBF0F8\",\"zerolinewidth\":2}}},\"yaxis\":{\"tickfont\":{\"size\":32},\"title\":{\"text\":\"Sensitivity\",\"font\":{\"size\":32}},\"range\":[0.0,1.0],\"linecolor\":\"black\"},\"xaxis\":{\"tickfont\":{\"size\":32},\"title\":{\"text\":\"1 - Specificity\\u003cbr\\u003e\\u003csup\\u003eDiagonal segments are produced by ties\",\"font\":{\"size\":32}},\"range\":[0.0,1.0],\"linecolor\":\"black\"},\"legend\":{\"font\":{\"size\":28,\"color\":\"black\"},\"yanchor\":\"bottom\",\"xanchor\":\"right\",\"x\":1.01,\"y\":0.03},\"width\":800,\"height\":800,\"shapes\":[{\"line\":{\"dash\":\"dash\",\"width\":0.5},\"type\":\"line\",\"x0\":0,\"x1\":1,\"y0\":0,\"y1\":1}]},                        {\"responsive\": true}                    ).then(function(){\n",
       "                            \n",
       "var gd = document.getElementById('1c2325bd-bf5d-4810-ad1f-c40fc7e144f0');\n",
       "var x = new MutationObserver(function (mutations, observer) {{\n",
       "        var display = window.getComputedStyle(gd).display;\n",
       "        if (!display || display === 'none') {{\n",
       "            console.log([gd, 'removed!']);\n",
       "            Plotly.purge(gd);\n",
       "            observer.disconnect();\n",
       "        }}\n",
       "}});\n",
       "\n",
       "// Listen for the removal of the full notebook cells\n",
       "var notebookContainer = gd.closest('#notebook-container');\n",
       "if (notebookContainer) {{\n",
       "    x.observe(notebookContainer, {childList: true});\n",
       "}}\n",
       "\n",
       "// Listen for the clearing of the current output cell\n",
       "var outputEl = gd.closest('.output');\n",
       "if (outputEl) {{\n",
       "    x.observe(outputEl, {childList: true});\n",
       "}}\n",
       "\n",
       "                        })                };                });            </script>        </div>"
      ]
     },
     "metadata": {},
     "output_type": "display_data"
    }
   ],
   "source": [
    "import numpy as np\n",
    "import pandas as pd\n",
    "from sklearn.metrics import roc_auc_score, roc_curve\n",
    "import plotly.graph_objects as go\n",
    "from sklearn.utils import resample\n",
    "\n",
    "# Replace categorical labels with numeric values for GT\n",
    "compute_dummy = {'GT': {'no appendicitis': 0, 'appendicitis': 1}}  \n",
    "Validatie_Alvarado.replace(compute_dummy, inplace=True)\n",
    "\n",
    "# Extract the labels and predictions for the Alvarado score\n",
    "label = Validatie_Alvarado['GT'].values\n",
    "alvarado_probs = Validatie_Alvarado['alvarado_score_adj'].values\n",
    "\n",
    "# Compute ROC curve and AUC for the Alvarado score\n",
    "fpr, tpr, thresholds = roc_curve(label, alvarado_probs)\n",
    "auc_alvarado = roc_auc_score(label, alvarado_probs)\n",
    "\n",
    "# Bootstrap to calculate confidence intervals\n",
    "n_bootstraps = 1000\n",
    "rng = np.random.RandomState(seed=42)\n",
    "bootstrapped_scores = []\n",
    "\n",
    "tpr_bootstrapped = []\n",
    "\n",
    "for i in range(n_bootstraps):\n",
    "    indices = rng.randint(0, len(alvarado_probs), len(alvarado_probs))\n",
    "    if len(np.unique(label[indices])) < 2:\n",
    "        # We need at least one positive and one negative sample for AUC to be defined\n",
    "        continue\n",
    "\n",
    "    fpr_bootstrap, tpr_bootstrap, _ = roc_curve(label[indices], alvarado_probs[indices])\n",
    "    auc_bootstrap = roc_auc_score(label[indices], alvarado_probs[indices])\n",
    "    bootstrapped_scores.append(auc_bootstrap)\n",
    "    \n",
    "    interp_tpr = np.interp(fpr, fpr_bootstrap, tpr_bootstrap)\n",
    "    tpr_bootstrapped.append(interp_tpr)\n",
    "\n",
    "tpr_bootstrapped = np.array(tpr_bootstrapped)\n",
    "mean_tpr = np.mean(tpr_bootstrapped, axis=0)\n",
    "std_tpr = np.std(tpr_bootstrapped, axis=0)\n",
    "\n",
    "sorted_scores = np.array(bootstrapped_scores)\n",
    "sorted_scores.sort()\n",
    "\n",
    "# Compute the lower and upper bound of the 95% confidence interval\n",
    "confidence_lower = sorted_scores[int(0.025 * len(sorted_scores))]\n",
    "confidence_upper = sorted_scores[int(0.975 * len(sorted_scores))]\n",
    "confidence = (confidence_upper - confidence_lower) / 2\n",
    "\n",
    "print(f\"AUC for the Alvarado score: {auc_alvarado:.2f}\")\n",
    "print(f\"95% CI for the Alvarado score: [{confidence_lower:.2f} - {confidence_upper:.2f}]\")\n",
    "\n",
    "# Plotting ROC curve for the Alvarado score\n",
    "fig = go.Figure()\n",
    "\n",
    "# Add ROC curve for the Alvarado score\n",
    "fig.add_trace(go.Scatter(\n",
    "    x=fpr,\n",
    "    y=mean_tpr,\n",
    "    mode='lines',\n",
    "    line=dict(color='rgba(45, 130, 164, 1.0)', width=3),\n",
    "    showlegend=True,\n",
    "    name=f'Alvarado AUROC {auc_alvarado:.3f} ±{confidence:.3f}'\n",
    "))\n",
    "\n",
    "# Add confidence interval shading and boundary lines\n",
    "fig.add_trace(go.Scatter(\n",
    "    x=np.concatenate([fpr, fpr[::-1]]),\n",
    "    y=np.concatenate([mean_tpr - 1.96 * std_tpr, (mean_tpr + 1.96 * std_tpr)[::-1]]),\n",
    "    fill='toself',\n",
    "    fillcolor='rgba(45, 130, 164, 0.1)',\n",
    "    line=dict(color='rgba(255,255,255,0)'),\n",
    "    showlegend=False,\n",
    "    name='95% CI'\n",
    "))\n",
    "\n",
    "fig.add_trace(go.Scatter(\n",
    "    x=fpr,\n",
    "    y=mean_tpr - 1.96 * std_tpr,\n",
    "    mode='lines',  # Set mode to 'lines'\n",
    "    line=dict(color='rgba(45, 130, 164, 0.5)', width=1),\n",
    "    hoverinfo=\"name+x+y\",\n",
    "    showlegend=False,\n",
    "    name='Lower CI'\n",
    "))\n",
    "\n",
    "fig.add_trace(go.Scatter(\n",
    "    x=fpr,\n",
    "    y=mean_tpr + 1.96 * std_tpr,\n",
    "    mode='lines',  # Set mode to 'lines'\n",
    "    fill='tonexty',\n",
    "    fillcolor='rgba(45, 130, 164, 0.1)',\n",
    "    line=dict(color='rgba(45, 130, 164, 0.5)', width=1),\n",
    "    hoverinfo=\"name+x+y\",\n",
    "    showlegend=False,\n",
    "    name='Upper CI'\n",
    "))\n",
    "\n",
    "# Update layout\n",
    "fig.update_layout(\n",
    "    \n",
    "    yaxis_range=[0.0, 1.0],\n",
    "    xaxis_range=[0.0, 1.0],\n",
    "    xaxis_title=\"1 - Specificity<br><sup>Diagonal segments are produced by ties\",\n",
    "    yaxis_title=\"Sensitivity\",\n",
    "    xaxis_tickfont=dict(size=32),\n",
    "    xaxis_title_font=dict(size=32),\n",
    "    yaxis_tickfont=dict(size=32),\n",
    "    yaxis_title_font=dict(size=32),\n",
    "    xaxis_linecolor='black',\n",
    "    yaxis_linecolor='black',\n",
    "    template=\"plotly_white\",\n",
    "    width=800,\n",
    "    height=800,\n",
    "    legend=dict(\n",
    "        yanchor=\"bottom\",\n",
    "        xanchor=\"right\",\n",
    "        x=1.01,\n",
    "        y=0.03,\n",
    "        font=dict(size=28, color='black')\n",
    "    )\n",
    ")\n",
    "\n",
    "# Add diagonal dashed line (y=x)\n",
    "fig.add_shape(\n",
    "    type='line',\n",
    "    line=dict(dash='dash', width=0.5),\n",
    "    x0=0,\n",
    "    y0=0,\n",
    "    x1=1,\n",
    "    y1=1\n",
    ")\n",
    "\n",
    "# Show the plot\n",
    "fig.show()\n"
   ]
  },
  {
   "cell_type": "code",
   "execution_count": 65,
   "metadata": {},
   "outputs": [
    {
     "data": {
      "text/plain": [
       "68"
      ]
     },
     "execution_count": 65,
     "metadata": {},
     "output_type": "execute_result"
    }
   ],
   "source": [
    "len(X_val_cat)"
   ]
  },
  {
   "cell_type": "code",
   "execution_count": 142,
   "metadata": {},
   "outputs": [],
   "source": [
    "y_test_preds_till_lab = model.predict(dval)"
   ]
  },
  {
   "cell_type": "code",
   "execution_count": 152,
   "metadata": {},
   "outputs": [],
   "source": [
    "Validatie_set['preds_till_lab'] = y_test_preds_till_lab\n",
    "Validatie_set['preds_with_lab'] = y_test_preds_w_lab\n",
    "Validatie_set['labels'] = y_test_labels"
   ]
  },
  {
   "cell_type": "code",
   "execution_count": 154,
   "metadata": {},
   "outputs": [],
   "source": [
    "Validatie_set.to_excel('C:/Users/anoes/OneDrive/Documents/Aanstelling RadboudUMC/07_SEH/04_Results/24JUL2024predictions_validatie_set.xlsx')"
   ]
  },
  {
   "cell_type": "markdown",
   "metadata": {},
   "source": [
    "# 5. Feature Contributions"
   ]
  },
  {
   "cell_type": "markdown",
   "metadata": {},
   "source": [
    "<a name='5'></a>\n",
    "### SHAP Values \n",
    "More info: (https://christophm.github.io/interpretable-ml-book/shapley.html)\n",
    "\n",
    "### SHAP Global Feature Importance Plot \n",
    "Global importance of each feature is taken to be the mean absolute value for that feature over all the given samples.\n",
    "\n",
    "#### Feature Redundancy\n",
    "A hierarchical clustering of the feature by training XGBoost models to predict the outcome for each pair of input features. \n"
   ]
  },
  {
   "cell_type": "code",
   "execution_count": 71,
   "metadata": {},
   "outputs": [],
   "source": [
    "# Explain over 2000 samples in a model with over a thousand trees for XGBoost #38, 42\n",
    "explainer = shap.TreeExplainer(model)"
   ]
  },
  {
   "cell_type": "code",
   "execution_count": 61,
   "metadata": {},
   "outputs": [],
   "source": [
    "#explainer = shap.LinearExplainer(logreg_model, med_test)  #138, 138"
   ]
  },
  {
   "cell_type": "code",
   "execution_count": 72,
   "metadata": {},
   "outputs": [
    {
     "data": {
      "image/png": "[encoded data removed]",
      "text/plain": [
       "<Figure size 576x684 with 2 Axes>"
      ]
     },
     "metadata": {
      "needs_background": "light"
     },
     "output_type": "display_data"
    },
    {
     "data": {
      "image/png": "[encoded data removed]",
      "text/plain": [
       "<Figure size 576x468 with 1 Axes>"
      ]
     },
     "metadata": {},
     "output_type": "display_data"
    }
   ],
   "source": [
    "#test set\n",
    "shap_values = explainer(X_val_cat)\n",
    "\n",
    "shap.summary_plot(shap_values, X_val_cat)\n",
    "#clustering = shap.utils.hclust(X_val_cat, y_val) # by default this trains (X.shape[1] choose 2) 2-feature XGBoost models\n",
    "#shap.plots.bar(shap_values, clustering=clustering)\n",
    "shap.plots.bar(shap_values,  max_display=10)"
   ]
  },
  {
   "cell_type": "code",
   "execution_count": 73,
   "metadata": {},
   "outputs": [],
   "source": [
    "fi_shap = abs(shap_values.values).sum(0)"
   ]
  },
  {
   "cell_type": "code",
   "execution_count": 90,
   "metadata": {},
   "outputs": [],
   "source": [
    "fi_shap = fi_shap/fi_shap.sum()"
   ]
  },
  {
   "cell_type": "code",
   "execution_count": 77,
   "metadata": {},
   "outputs": [],
   "source": [
    "FI = np.column_stack([FEATURE_KEYS_test_till_LAB, fi_shap])"
   ]
  },
  {
   "cell_type": "code",
   "execution_count": 87,
   "metadata": {},
   "outputs": [],
   "source": [
    "FI_df = pd.DataFrame(FI, columns=['FEATURES', 'Importance'])"
   ]
  },
  {
   "cell_type": "code",
   "execution_count": 88,
   "metadata": {},
   "outputs": [],
   "source": [
    "FI_df['Percentage'] = FI_df['Importance'].astype(float).apply(lambda x: 100 * x).values"
   ]
  },
  {
   "cell_type": "markdown",
   "metadata": {},
   "source": [
    "<a name='3-3'></a>\n",
    "# 6. DeLong Test"
   ]
  },
  {
   "cell_type": "code",
   "execution_count": 30,
   "metadata": {},
   "outputs": [],
   "source": [
    "# AUC comparison adapted from\n",
    "# https://github.com/Netflix/vmaf/\n",
    "def compute_midrank(x):\n",
    "    \"\"\"Computes midranks.\n",
    "    Args:\n",
    "       x - a 1D numpy array\n",
    "    Returns:\n",
    "       array of midranks\n",
    "    \"\"\"\n",
    "    J = np.argsort(x)\n",
    "    Z = x[J]\n",
    "    N = len(x)\n",
    "    T = np.zeros(N, dtype=np.float)\n",
    "    i = 0\n",
    "    while i < N:\n",
    "        j = i\n",
    "        while j < N and Z[j] == Z[i]:\n",
    "            j += 1\n",
    "        T[i:j] = 0.5*(i + j - 1)\n",
    "        i = j\n",
    "    T2 = np.empty(N, dtype=np.float)\n",
    "    # Note(kazeevn) +1 is due to Python using 0-based indexing\n",
    "    # instead of 1-based in the AUC formula in the paper\n",
    "    T2[J] = T + 1\n",
    "    return T2\n",
    "\n",
    "\n",
    "def fastDeLong(predictions_sorted_transposed, label_1_count):\n",
    "    \"\"\"\n",
    "    The fast version of DeLong's method for computing the covariance of\n",
    "    unadjusted AUC.\n",
    "    Args:\n",
    "       predictions_sorted_transposed: a 2D numpy.array[n_classifiers, n_examples]\n",
    "          sorted such as the examples with label \"1\" are first\n",
    "    Returns:\n",
    "       (AUC value, DeLong covariance)\n",
    "    Reference:\n",
    "     @article{sun2014fast,\n",
    "       title={Fast Implementation of DeLong's Algorithm for\n",
    "              Comparing the Areas Under Correlated Receiver Operating Characteristic Curves},\n",
    "       author={Xu Sun and Weichao Xu},\n",
    "       journal={IEEE Signal Processing Letters},\n",
    "       volume={21},\n",
    "       number={11},\n",
    "       pages={1389--1393},\n",
    "       year={2014},\n",
    "       publisher={IEEE}\n",
    "     }\n",
    "    \"\"\"\n",
    "    # Short variables are named as they are in the paper\n",
    "    m = label_1_count\n",
    "    n = predictions_sorted_transposed.shape[1] - m\n",
    "    positive_examples = predictions_sorted_transposed[:, :m]\n",
    "    negative_examples = predictions_sorted_transposed[:, m:]\n",
    "    k = predictions_sorted_transposed.shape[0]\n",
    "\n",
    "    tx = np.empty([k, m], dtype=np.float)\n",
    "    ty = np.empty([k, n], dtype=np.float)\n",
    "    tz = np.empty([k, m + n], dtype=np.float)\n",
    "    for r in range(k):\n",
    "        tx[r, :] = compute_midrank(positive_examples[r, :])\n",
    "        ty[r, :] = compute_midrank(negative_examples[r, :])\n",
    "        tz[r, :] = compute_midrank(predictions_sorted_transposed[r, :])\n",
    "    aucs = tz[:, :m].sum(axis=1) / m / n - float(m + 1.0) / 2.0 / n\n",
    "    v01 = (tz[:, :m] - tx[:, :]) / n\n",
    "    v10 = 1.0 - (tz[:, m:] - ty[:, :]) / m\n",
    "    sx = np.cov(v01)\n",
    "    sy = np.cov(v10)\n",
    "    delongcov = sx / m + sy / n\n",
    "    return aucs, delongcov\n",
    "\n",
    "\n",
    "def calc_pvalue(aucs, sigma):\n",
    "    \"\"\"Computes log(10) of p-values.\n",
    "    Args:\n",
    "       aucs: 1D array of AUCs\n",
    "       sigma: AUC DeLong covariances\n",
    "    Returns:\n",
    "       log10(pvalue)\n",
    "    \"\"\"\n",
    "    l = np.array([[1, -1]])\n",
    "    z = np.abs(np.diff(aucs)) / np.sqrt(np.dot(np.dot(l, sigma), l.T))\n",
    "    return np.log10(2) + scipy.stats.norm.logsf(z, loc=0, scale=1) / np.log(10)\n",
    "\n",
    "\n",
    "def compute_ground_truth_statistics(ground_truth):\n",
    "    assert np.array_equal(np.unique(ground_truth), [0, 1])\n",
    "    order = (-ground_truth).argsort()\n",
    "    label_1_count = int(ground_truth.sum())\n",
    "    return order, label_1_count\n",
    "\n",
    "\n",
    "def delong_roc_variance(ground_truth, predictions):\n",
    "    \"\"\"\n",
    "    Computes ROC AUC variance for a single set of predictions\n",
    "    Args:\n",
    "       ground_truth: np.array of 0 and 1\n",
    "       predictions: np.array of floats of the probability of being class 1\n",
    "    \"\"\"\n",
    "    order, label_1_count = compute_ground_truth_statistics(ground_truth)\n",
    "    predictions_sorted_transposed = predictions[np.newaxis, order]\n",
    "    aucs, delongcov = fastDeLong(predictions_sorted_transposed, label_1_count)\n",
    "    assert len(aucs) == 1, \"There is a bug in the code, please forward this to the developers\"\n",
    "    return aucs[0], delongcov\n",
    "\n",
    "\n",
    "def delong_roc_test(ground_truth, predictions_one, predictions_two):\n",
    "    \"\"\"\n",
    "    Computes log(p-value) for hypothesis that two ROC AUCs are different\n",
    "    Args:\n",
    "       ground_truth: np.array of 0 and 1\n",
    "       predictions_one: predictions of the first model,\n",
    "          np.array of floats of the probability of being class 1\n",
    "       predictions_two: predictions of the second model,\n",
    "          np.array of floats of the probability of being class 1\n",
    "    \"\"\"\n",
    "    order, label_1_count = compute_ground_truth_statistics(ground_truth)\n",
    "    predictions_sorted_transposed = np.vstack((predictions_one, predictions_two))[:, order]\n",
    "    aucs, delongcov = fastDeLong(predictions_sorted_transposed, label_1_count)\n",
    "    return calc_pvalue(aucs, delongcov)"
   ]
  },
  {
   "cell_type": "code",
   "execution_count": 141,
   "metadata": {},
   "outputs": [],
   "source": [
    "df_delongtest = pd.read_excel('C:/Users/anoes/OneDrive/Documents/Aanstelling RadboudUMC/07_SEH/04_Results/22AUG2024_deLongTest.xlsx')"
   ]
  },
  {
   "cell_type": "code",
   "execution_count": 142,
   "metadata": {},
   "outputs": [],
   "source": [
    "df_delongtest.labels = df_delongtest.labels.astype('float64')"
   ]
  },
  {
   "cell_type": "code",
   "execution_count": 54,
   "metadata": {},
   "outputs": [],
   "source": [
    "labels = df_delongtest['labels'].values\n",
    "model1 = df_delongtest['alvarado_score_adj'].values\n",
    "model2 = df_delongtest['preds_till_lab'].values"
   ]
  },
  {
   "cell_type": "code",
   "execution_count": 55,
   "metadata": {},
   "outputs": [
    {
     "name": "stderr",
     "output_type": "stream",
     "text": [
      "C:\\Users\\anoes\\AppData\\Local\\Temp\\ipykernel_24424\\2979335442.py:57: DeprecationWarning:\n",
      "\n",
      "`np.float` is a deprecated alias for the builtin `float`. To silence this warning, use `float` by itself. Doing this will not modify any behavior and is safe. If you specifically wanted the numpy scalar type, use `np.float64` here.\n",
      "Deprecated in NumPy 1.20; for more details and guidance: https://numpy.org/devdocs/release/1.20.0-notes.html#deprecations\n",
      "\n",
      "C:\\Users\\anoes\\AppData\\Local\\Temp\\ipykernel_24424\\2979335442.py:58: DeprecationWarning:\n",
      "\n",
      "`np.float` is a deprecated alias for the builtin `float`. To silence this warning, use `float` by itself. Doing this will not modify any behavior and is safe. If you specifically wanted the numpy scalar type, use `np.float64` here.\n",
      "Deprecated in NumPy 1.20; for more details and guidance: https://numpy.org/devdocs/release/1.20.0-notes.html#deprecations\n",
      "\n",
      "C:\\Users\\anoes\\AppData\\Local\\Temp\\ipykernel_24424\\2979335442.py:59: DeprecationWarning:\n",
      "\n",
      "`np.float` is a deprecated alias for the builtin `float`. To silence this warning, use `float` by itself. Doing this will not modify any behavior and is safe. If you specifically wanted the numpy scalar type, use `np.float64` here.\n",
      "Deprecated in NumPy 1.20; for more details and guidance: https://numpy.org/devdocs/release/1.20.0-notes.html#deprecations\n",
      "\n",
      "C:\\Users\\anoes\\AppData\\Local\\Temp\\ipykernel_24424\\2979335442.py:13: DeprecationWarning:\n",
      "\n",
      "`np.float` is a deprecated alias for the builtin `float`. To silence this warning, use `float` by itself. Doing this will not modify any behavior and is safe. If you specifically wanted the numpy scalar type, use `np.float64` here.\n",
      "Deprecated in NumPy 1.20; for more details and guidance: https://numpy.org/devdocs/release/1.20.0-notes.html#deprecations\n",
      "\n",
      "C:\\Users\\anoes\\AppData\\Local\\Temp\\ipykernel_24424\\2979335442.py:21: DeprecationWarning:\n",
      "\n",
      "`np.float` is a deprecated alias for the builtin `float`. To silence this warning, use `float` by itself. Doing this will not modify any behavior and is safe. If you specifically wanted the numpy scalar type, use `np.float64` here.\n",
      "Deprecated in NumPy 1.20; for more details and guidance: https://numpy.org/devdocs/release/1.20.0-notes.html#deprecations\n",
      "\n"
     ]
    }
   ],
   "source": [
    "p_value = delong_roc_test(ground_truth=labels, predictions_one=model1, predictions_two=model2)"
   ]
  },
  {
   "cell_type": "code",
   "execution_count": 56,
   "metadata": {},
   "outputs": [],
   "source": [
    "actual_p_value = 10**p_value"
   ]
  },
  {
   "cell_type": "code",
   "execution_count": 57,
   "metadata": {},
   "outputs": [
    {
     "data": {
      "text/plain": [
       "array([[0.03328017]])"
      ]
     },
     "execution_count": 57,
     "metadata": {},
     "output_type": "execute_result"
    }
   ],
   "source": [
    "actual_p_value"
   ]
  }
 ],
 "metadata": {
  "kernelspec": {
   "display_name": "Python 3 (ipykernel)",
   "language": "python",
   "name": "python3"
  },
  "language_info": {
   "codemirror_mode": {
    "name": "ipython",
    "version": 3
   },
   "file_extension": ".py",
   "mimetype": "text/x-python",
   "name": "python",
   "nbconvert_exporter": "python",
   "pygments_lexer": "ipython3",
   "version": "3.8.13"
  }
 },
 "nbformat": 4,
 "nbformat_minor": 4
}
